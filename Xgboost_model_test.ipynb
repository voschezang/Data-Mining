{
 "cells": [
  {
   "cell_type": "code",
   "execution_count": 28,
   "metadata": {},
   "outputs": [],
   "source": [
    "import numpy as np\n",
    "seed = 123\n",
    "np.random.seed(seed)\n",
    "import collections, copy, pickle\n",
    "from importlib import reload\n",
    "from dateutil.parser import parse\n",
    "import scipy.linalg, scipy.stats\n",
    "import pandas as pd\n",
    "import sklearn\n",
    "import matplotlib.pyplot as plt\n",
    "from matplotlib.ticker import NullFormatter\n",
    "from matplotlib import rcParams\n",
    "rcParams['font.family'] = 'serif'\n",
    "rcParams['font.size'] = 14\n",
    "# rcParams['text.usetex'] = True\n",
    "import seaborn as sns\n",
    "from IPython.display import HTML\n",
    "import scipy.stats\n",
    "from sklearn import preprocessing\n",
    "import xgboost as xgb\n",
    "from sklearn.metrics import mean_squared_error\n",
    "import pandas as pd\n",
    "import numpy as np\n",
    "from sklearn.model_selection import train_test_split"
   ]
  },
  {
   "cell_type": "code",
   "execution_count": 29,
   "metadata": {},
   "outputs": [],
   "source": [
    "import util.data\n",
    "import util.ndcg\n",
    "# import util.plot"
   ]
  },
  {
   "cell_type": "code",
   "execution_count": 30,
   "metadata": {},
   "outputs": [],
   "source": [
    "data = pd.read_csv('data/training_set_VU_DM_clean.csv', sep=';', nrows=100000)\n",
    "data_test = pd.read_csv('data/test_set_VU_DM.csv', sep=',', nrows=100000)"
   ]
  },
  {
   "cell_type": "code",
   "execution_count": 31,
   "metadata": {
    "scrolled": true
   },
   "outputs": [],
   "source": [
    "srchIdList = data['srch_id'].unique()\n",
    "trainID, testID = sklearn.model_selection.train_test_split(srchIdList, random_state=42, test_size=0.4)\n",
    "trainset = data[data['srch_id'].isin(trainID)]\n",
    "testset = data[data['srch_id'].isin(testID)]\n",
    "\n",
    "y_labels = ['click_bool', 'booking_bool', 'score']\n",
    "\n",
    "def split_xy(data: pd.DataFrame):\n",
    "    return data.drop(columns=y_labels), data['score']\n",
    "\n",
    "X_train, y_train = split_xy(trainset)\n",
    "# X_val, y_val = split_xy(valset)\n",
    "X_test, y_test = split_xy(testset)\n",
    "\n",
    "X_train = X_train.drop('position', 1)\n",
    "X_test = X_test.drop('position', 1)"
   ]
  },
  {
   "cell_type": "code",
   "execution_count": 32,
   "metadata": {
    "scrolled": true
   },
   "outputs": [
    {
     "name": "stderr",
     "output_type": "stream",
     "text": [
      "/Library/Frameworks/Python.framework/Versions/3.7/lib/python3.7/site-packages/xgboost/core.py:587: FutureWarning: Series.base is deprecated and will be removed in a future version\n",
      "  if getattr(data, 'base', None) is not None and \\\n",
      "/Library/Frameworks/Python.framework/Versions/3.7/lib/python3.7/site-packages/xgboost/core.py:588: FutureWarning: Series.base is deprecated and will be removed in a future version\n",
      "  data.base is not None and isinstance(data, np.ndarray) \\\n"
     ]
    }
   ],
   "source": [
    "# use Gradient Boosting to make model of data to predict the 'score'\n",
    "xg_reg = xgb.XGBRegressor(objective ='reg:linear', colsample_bytree = 0.3, learning_rate = 0.1, \n",
    "                          max_depth = 5, alpha = 10, n_estimators = 10)\n",
    "\n",
    "# fit training set\n",
    "xg_reg.fit(X_train,y_train)\n",
    "\n",
    "# fit model to test set\n",
    "y_pred = xg_reg.predict(X_test)\n",
    "# X_test['score'] = preds"
   ]
  },
  {
   "cell_type": "code",
   "execution_count": 33,
   "metadata": {},
   "outputs": [
    {
     "data": {
      "text/plain": [
       "0.6893786748532622"
      ]
     },
     "execution_count": 33,
     "metadata": {},
     "output_type": "execute_result"
    }
   ],
   "source": [
    "# calculate dcg of test set per srch_id\n",
    "Xy_pred = util.data.Xy_pred(X_test, y_pred)\n",
    "\n",
    "# put true y values on indexes, do not sort !\n",
    "Xy_pred['score'] = y_test\n",
    "\n",
    "# calculate ideal dcg of test set per srch_id\n",
    "Xy_true = util.data.Xy_pred(X_test, y_test)\n",
    "\n",
    "# calculate NDCG\n",
    "ndcg = util.ndcg.ndcg(Xy_pred, Xy_true)\n",
    "ndcg"
   ]
  },
  {
   "cell_type": "code",
   "execution_count": null,
   "metadata": {},
   "outputs": [],
   "source": []
  }
 ],
 "metadata": {
  "kernelspec": {
   "display_name": "Python 3",
   "language": "python",
   "name": "python3"
  },
  "language_info": {
   "codemirror_mode": {
    "name": "ipython",
    "version": 3
   },
   "file_extension": ".py",
   "mimetype": "text/x-python",
   "name": "python",
   "nbconvert_exporter": "python",
   "pygments_lexer": "ipython3",
   "version": "3.7.2"
  }
 },
 "nbformat": 4,
 "nbformat_minor": 2
}
