{
 "cells": [
  {
   "cell_type": "code",
   "execution_count": 1,
   "metadata": {},
   "outputs": [],
   "source": [
    "import numpy as np\n",
    "seed = 123\n",
    "np.random.seed(seed)\n",
    "import collections, copy, pickle\n",
    "from importlib import reload\n",
    "from dateutil.parser import parse\n",
    "import scipy.linalg, scipy.stats\n",
    "import pandas as pd\n",
    "import sklearn\n",
    "import matplotlib.pyplot as plt\n",
    "from matplotlib.ticker import NullFormatter\n",
    "from matplotlib import rcParams\n",
    "rcParams['font.family'] = 'serif'\n",
    "rcParams['font.size'] = 14\n",
    "# rcParams['text.usetex'] = True\n",
    "import seaborn as sns\n",
    "from IPython.display import HTML\n",
    "\n",
    "import scipy.stats\n",
    "from sklearn import preprocessing\n",
    "\n",
    "import xgboost as xgb\n",
    "from sklearn.metrics import mean_squared_error\n",
    "import pandas as pd\n",
    "import numpy as np\n",
    "from sklearn.model_selection import train_test_split"
   ]
  },
  {
   "cell_type": "code",
   "execution_count": 2,
   "metadata": {},
   "outputs": [],
   "source": [
    "import util.data\n",
    "# import util.plot"
   ]
  },
  {
   "cell_type": "code",
   "execution_count": 14,
   "metadata": {},
   "outputs": [],
   "source": [
    "data = pd.read_csv('data/training_set_VU_DM_clean.csv', sep=';', nrows=100000)\n",
    "data_test = pd.read_csv('data/test_set_VU_DM.csv', sep=',', nrows=100000)"
   ]
  },
  {
   "cell_type": "code",
   "execution_count": 15,
   "metadata": {
    "scrolled": true
   },
   "outputs": [],
   "source": [
    "X = data\n",
    "\n",
    "# drop values from X that are not present in test set\n",
    "X = X.drop('score', 1)\n",
    "X = X.drop('position', 1)\n",
    "X = X.drop('click_bool', 1)\n",
    "X = X.drop('booking_bool', 1)\n",
    "\n",
    "y = data[['srch_id','score', 'prop_id']]\n",
    "\n",
    "# create test and trainingset\n",
    "X_train, X_test, y_train, y_test = train_test_split(X, y, test_size=0.4, random_state=123)\n",
    "\n",
    "# save the scores of the y train and test set in y_control, this is to calculate the ideal DCG for the test set\n",
    "y_control = y_test\n",
    "y_train = y_train.drop('srch_id', 1)\n",
    "y_test = y_test.drop('srch_id', 1)\n",
    "y_train = y_train.drop('prop_id', 1)\n",
    "y_test = y_test.drop('prop_id', 1)\n",
    "\n",
    "# data_dmatrix = xgb.DMatrix(data=X,label=y)"
   ]
  },
  {
   "cell_type": "code",
   "execution_count": 16,
   "metadata": {},
   "outputs": [
    {
     "name": "stderr",
     "output_type": "stream",
     "text": [
      "/Library/Frameworks/Python.framework/Versions/3.7/lib/python3.7/site-packages/ipykernel_launcher.py:10: SettingWithCopyWarning: \n",
      "A value is trying to be set on a copy of a slice from a DataFrame.\n",
      "Try using .loc[row_indexer,col_indexer] = value instead\n",
      "\n",
      "See the caveats in the documentation: http://pandas.pydata.org/pandas-docs/stable/indexing.html#indexing-view-versus-copy\n",
      "  # Remove the CWD from sys.path while we load stuff.\n"
     ]
    }
   ],
   "source": [
    "# use Gradient Boosting to make model of data to predict the 'score'\n",
    "xg_reg = xgb.XGBRegressor(objective ='reg:linear', colsample_bytree = 0.3, learning_rate = 0.1, \n",
    "                          max_depth = 5, alpha = 10, n_estimators = 10)\n",
    "\n",
    "# fit training set\n",
    "xg_reg.fit(X_train,y_train)\n",
    "\n",
    "# fit model to test set\n",
    "preds = xg_reg.predict(X_test)\n",
    "X_test['score'] = preds"
   ]
  },
  {
   "cell_type": "code",
   "execution_count": 17,
   "metadata": {},
   "outputs": [],
   "source": [
    "# sort test set predicted scores from high scores to low scores\n",
    "X_test = X_test.sort_values(['srch_id', 'score'], ascending=[True, False])\n",
    "\n",
    "# create new column to store position of prop_id\n",
    "X_test['position'] = pd.Series()\n",
    "\n",
    "# save position prop_id\n",
    "prev_srch_id = -1\n",
    "for i in X_test.index.tolist():\n",
    "    row = X_test.loc[i]\n",
    "    # compute position\n",
    "    if prev_srch_id != row.srch_id:\n",
    "        position = 1\n",
    "        prev_srch_id = row.srch_id\n",
    "    else:\n",
    "        position += 1\n",
    "        \n",
    "    # save position value to X_test\n",
    "    X_test.loc[i, 'position'] = int(position)\n",
    "\n",
    "    # to calculate the DCG of the test set old scores have to be used instead of the predicted scores\n",
    "    X_test.loc[i, 'score'] = y_control.loc[i, 'score']\n",
    "    \n",
    "# X_test"
   ]
  },
  {
   "cell_type": "code",
   "execution_count": 18,
   "metadata": {},
   "outputs": [],
   "source": [
    "# determine ideal positions for test set with the 'real' scores, later the ideal DCG for the test set can be determined\n",
    "y_control = y_control.sort_values(['srch_id', 'score'], ascending=[True, False])\n",
    "y_control['position'] = pd.Series()\n",
    "prev_srch_id = -1\n",
    "for i in y_control.index.tolist():\n",
    "    row = y_control.loc[i]\n",
    "    # compute position\n",
    "    if prev_srch_id != row.srch_id:\n",
    "        position = 1\n",
    "        prev_srch_id = row.srch_id\n",
    "    else:\n",
    "        position += 1\n",
    "\n",
    "    # save value to X_test\n",
    "    y_control.loc[i, 'position'] = int(position)\n",
    "\n",
    "\n",
    "# tst = pd.concat([X_test[['srch_id', 'score','position', 'prop_id']], y_control], keys=['prop_id', 'X_test', 'y_control'], axis=1)"
   ]
  },
  {
   "cell_type": "code",
   "execution_count": 19,
   "metadata": {},
   "outputs": [
    {
     "name": "stdout",
     "output_type": "stream",
     "text": [
      "1.2435555133312008\n",
      "1.6576291448209945\n"
     ]
    },
    {
     "data": {
      "text/plain": [
       "0.7502012842960064"
      ]
     },
     "execution_count": 19,
     "metadata": {},
     "output_type": "execute_result"
    }
   ],
   "source": [
    "# calculate dcg of test set per srch_id\n",
    "dcg_test = util.data.DCG_dict(X_test)\n",
    "\n",
    "# calculate ideal dcg of test set per srch_id\n",
    "dcg_control = util.data.DCG_dict(y_control)\n",
    "\n",
    "# calculate means of both dcg dictionaries\n",
    "print(np.mean(list(ndcg_test.values())))\n",
    "print(np.mean(list(ndcg_control.values())))\n",
    "\n",
    "# normalize\n",
    "ndcg = np.mean(list(ndcg_test.values())) / np.mean(list(ndcg_control.values()))\n",
    "ndcg"
   ]
  },
  {
   "cell_type": "code",
   "execution_count": 20,
   "metadata": {},
   "outputs": [
    {
     "name": "stdout",
     "output_type": "stream",
     "text": [
      "RMSE: 0.917877\n"
     ]
    }
   ],
   "source": [
    "rmse = np.sqrt(mean_squared_error(y_test, preds))\n",
    "print(\"RMSE: %f\" % (rmse))"
   ]
  },
  {
   "cell_type": "code",
   "execution_count": null,
   "metadata": {},
   "outputs": [],
   "source": []
  }
 ],
 "metadata": {
  "kernelspec": {
   "display_name": "Python 3",
   "language": "python",
   "name": "python3"
  },
  "language_info": {
   "codemirror_mode": {
    "name": "ipython",
    "version": 3
   },
   "file_extension": ".py",
   "mimetype": "text/x-python",
   "name": "python",
   "nbconvert_exporter": "python",
   "pygments_lexer": "ipython3",
   "version": "3.7.2"
  }
 },
 "nbformat": 4,
 "nbformat_minor": 2
}
