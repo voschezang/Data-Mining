{
 "cells": [
  {
   "cell_type": "code",
   "execution_count": 128,
   "metadata": {},
   "outputs": [],
   "source": [
    "# %matplotlib notebook\n",
    "# %matplotlib inline\n",
    "import numpy as np\n",
    "import pickle\n",
    "np.random.seed(123)\n",
    "import collections, copy, pickle\n",
    "from importlib import reload\n",
    "from dateutil.parser import parse\n",
    "import scipy.linalg\n",
    "import pandas as pd\n",
    "import sklearn\n",
    "# import scipy.sparse\n",
    "# import scipy.sparse.linalg\n",
    "import matplotlib\n",
    "# import matplotlib.transforms\n",
    "import matplotlib.pyplot as plt\n",
    "from matplotlib.ticker import NullFormatter\n",
    "# import mpl_toolkits.mplot3d.axes3d as p3\n",
    "# from mpl_toolkits.mplot3d import Axes3D\n",
    "# from matplotlib import cm\n",
    "# from matplotlib.ticker import LinearLocator, FormatStrFormatter\n",
    "# from matplotlib import animation\n",
    "from matplotlib import rcParams\n",
    "rcParams['font.family'] = 'serif'\n",
    "rcParams['font.size'] = 14\n",
    "# rcParams['text.usetex'] = True\n",
    "from IPython.display import HTML\n",
    "# from numba import jit, njit, float32, prange\n",
    "# import cProfile"
   ]
  },
  {
   "cell_type": "code",
   "execution_count": 129,
   "metadata": {},
   "outputs": [],
   "source": [
    "from mlxtend.frequent_patterns import apriori\n",
    "\n",
    "from sklearn.svm import SVC\n",
    "from sklearn.metrics import accuracy_score\n",
    "from sklearn.tree import DecisionTreeClassifier\n",
    "from sklearn.model_selection import cross_val_score\n",
    "from sklearn.metrics import roc_auc_score, make_scorer\n",
    "\n",
    "from sklearn.model_selection import train_test_split\n",
    "from sklearn.svm import SVC\n",
    "from sklearn.metrics import accuracy_score\n",
    "from sklearn.tree import DecisionTreeClassifier\n",
    "from sklearn.neighbors import KNeighborsClassifier\n",
    "from sklearn.model_selection import cross_val_score\n",
    "from sklearn.metrics import roc_auc_score, make_scorer\n",
    "from sklearn.metrics import mean_squared_error, r2_score\n",
    "from sklearn.linear_model import LinearRegression\n",
    "from sklearn.tree import DecisionTreeRegressor\n",
    "from sklearn.neighbors import KNeighborsRegressor\n",
    "from sklearn.metrics import mean_squared_error"
   ]
  },
  {
   "cell_type": "code",
   "execution_count": 130,
   "metadata": {},
   "outputs": [],
   "source": [
    "import util.plot\n",
    "import util.string"
   ]
  },
  {
   "cell_type": "code",
   "execution_count": 131,
   "metadata": {},
   "outputs": [],
   "source": [
    "# https://github.com/pbloem/machine-learning/blob/master/worksheets/Worksheet%202%2C%20Sklearn.ipynb"
   ]
  },
  {
   "cell_type": "code",
   "execution_count": 132,
   "metadata": {},
   "outputs": [],
   "source": [
    "# data = pd.read_csv('ODI-2019-clean.csv', sep=';')\n",
    "fn = 'ODI-2019-clean.pkl'\n",
    "# load (old) data from disk\n",
    "with open(fn, 'rb') as f:\n",
    "    data = pickle.load(f)"
   ]
  },
  {
   "cell_type": "code",
   "execution_count": 133,
   "metadata": {},
   "outputs": [],
   "source": [
    "# data.head()"
   ]
  },
  {
   "cell_type": "markdown",
   "metadata": {},
   "source": [
    "## Categorical models"
   ]
  },
  {
   "cell_type": "code",
   "execution_count": 134,
   "metadata": {},
   "outputs": [],
   "source": [
    "# https://scikit-learn.org/stable/modules/classes.html#module-sklearn.preprocessing\n",
    "\n",
    "# from sklearn.preprocessing import MultiLabelBinarizer\n",
    "from sklearn import preprocessing\n",
    "from sklearn.preprocessing import OneHotEncoder\n",
    "from sklearn.model_selection import train_test_split"
   ]
  },
  {
   "cell_type": "markdown",
   "metadata": {},
   "source": [
    "# Discretization\n",
    "\n",
    "https://scikit-learn.org/stable/modules/preprocessing.html#preprocessing-categorical-features\n",
    "\n",
    "https://scikit-learn.org/stable/auto_examples/preprocessing/plot_discretization_strategies.html#sphx-glr-auto-examples-preprocessing-plot-discretization-strategies-py\n",
    "\n",
    "Strategies:\n",
    "-    ‘uniform’: The discretization is uniform in each feature, which means that the bin widths are constant in each dimension.\n",
    "-    quantile’: The discretization is done on the quantiled values, which means that each bin has approximately the same number of samples.\n",
    "       - this causes outliers to be grouped together\n",
    "-    ‘kmeans’: The discretization is based on the centroids of a KMeans clustering procedure."
   ]
  },
  {
   "cell_type": "code",
   "execution_count": 7,
   "metadata": {},
   "outputs": [],
   "source": [
    "class Encoders: pass\n",
    "E = Encoders()\n",
    "E.discretizers = {}\n",
    "E.encoders = {}"
   ]
  },
  {
   "cell_type": "code",
   "execution_count": 8,
   "metadata": {},
   "outputs": [],
   "source": [
    "key = 'Other'\n",
    "# reload(util.data)\n",
    "most_common = util.data.select_most_common(data.Programme, n=5, key=key)\n",
    "value = np.array(list(most_common.values()))\n",
    "# note that pd.where different than np.where\n",
    "keys = most_common.keys()\n",
    "data.Programme.where(data.Programme.isin(keys), key, inplace=True)"
   ]
  },
  {
   "cell_type": "code",
   "execution_count": 126,
   "metadata": {},
   "outputs": [],
   "source": [
    "def discretize(data, k, n_bins=5):\n",
    "    X = data[k]\n",
    "    avg = np.nanmedian([x for x in X])\n",
    "    X = np.where(np.isnan(X), avg, X)\n",
    "    X = X.reshape(-1,1)\n",
    "    bins = np.repeat(n_bins, X.shape[1]) # e.g. [5,3] for 2 features\n",
    "    # encode to integers\n",
    "    est = preprocessing.KBinsDiscretizer(n_bins=bins, encode='ordinal', strategy='kmeans')\n",
    "    est.fit(X)\n",
    "    data[k + ' bin'] = est.transform(X)\n",
    "    E.discretizers[k] = est\n",
    "    s = ''\n",
    "    for st in [round(a,3) for a in est.bin_edges_[0]]:\n",
    "        if k == 'Year':\n",
    "            st = int(round(st))\n",
    "        s += str(st) + ', '\n",
    "    print('%s: $\\\\{%s\\\\}$\\n' % (k,s[:-2]))"
   ]
  },
  {
   "cell_type": "code",
   "execution_count": 127,
   "metadata": {},
   "outputs": [
    {
     "name": "stdout",
     "output_type": "stream",
     "text": [
      "Year: $\\{1969, 1971, 1981, 1991, 1994, 2001\\}$\n",
      "\n",
      "Money: $\\{0.0, 13.77, 37.19, 64.316, 88.56, 100.0\\}$\n",
      "\n",
      "Neighbours: $\\{0.0, 12.711, 28.4, 42.5, 64.25, 80.0\\}$\n",
      "\n",
      "Stress level: $\\{0.0, 15.307, 38.186, 62.413, 86.179, 100.0\\}$\n",
      "\n"
     ]
    }
   ],
   "source": [
    "numerical = ['Year', 'Money', 'Neighbours', 'Stress level']\n",
    "for k in numerical:\n",
    "    discretize(data, k)"
   ]
  },
  {
   "cell_type": "code",
   "execution_count": 11,
   "metadata": {},
   "outputs": [],
   "source": [
    "# def plot_discretizer(X, enc):\n",
    "#     fig = plt.figure()\n",
    "#     ax = fig.add_subplot(111)\n",
    "    \n",
    "#     xx, yy = np.meshgrid(\n",
    "#         np.linspace(X[:, 0].min(), X[:, 0].max(), 300),\n",
    "#         np.linspace(X[:, 1].min(), X[:, 1].max(), 300))\n",
    "#     grid = np.c_[xx.ravel(), yy.ravel()]\n",
    "\n",
    "#     ax.set_xlim(xx.min(), xx.max())\n",
    "#     ax.set_ylim(yy.min(), yy.max())\n",
    "#     ax.set_xticks(())\n",
    "#     ax.set_yticks(())\n",
    "\n",
    "#     # transform the dataset with KBinsDiscretizer\n",
    "#     enc.fit(X)\n",
    "#     grid_encoded = enc.transform(grid)\n",
    "\n",
    "#     ax = plt.subplot(len(X_list), len(strategies) + 1, i)\n",
    "\n",
    "#      # horizontal stripes\n",
    "#     horizontal = grid_encoded[:, 0].reshape(xx.shape)\n",
    "#     ax.contourf(xx, yy, horizontal, alpha=.5)\n",
    "#     # vertical stripes\n",
    "#     vertical = grid_encoded[:, 1].reshape(xx.shape)\n",
    "#     ax.contourf(xx, yy, vertical, alpha=.5)\n",
    "\n",
    "#     ax.scatter(X[:, 0], X[:, 1], edgecolors='k')\n",
    "#     ax.set_xlim(xx.min(), xx.max())\n",
    "#     ax.set_ylim(yy.min(), yy.max())\n",
    "#     ax.set_xticks(())\n",
    "#     ax.set_yticks(())\n",
    "#     if ds_cnt == 0:\n",
    "#         ax.set_title(\"strategy='%s'\" % (strategy, ), size=14)"
   ]
  },
  {
   "cell_type": "code",
   "execution_count": 12,
   "metadata": {},
   "outputs": [
    {
     "data": {
      "text/plain": [
       "[array([0.0, 1.0, 2.0, 3.0, 4.0], dtype=object),\n",
       " array([0.0, 1.0, 2.0, 3.0, 4.0], dtype=object),\n",
       " array([0.0, 1.0, 2.0, 3.0, 4.0], dtype=object),\n",
       " array([0.0, 1.0, 2.0, 3.0, 4.0], dtype=object),\n",
       " array(['No', 'Yes'], dtype=object),\n",
       " array(['No', 'Unknown', 'Yes'], dtype=object),\n",
       " array(['No', 'Unknown', 'Yes'], dtype=object),\n",
       " array(['No', 'Unknown', 'Yes'], dtype=object),\n",
       " array(['female', 'male', 'unknown'], dtype=object),\n",
       " array(['Fat', 'Neither', 'Slim', 'Unknown'], dtype=object),\n",
       " array(['no', 'unknown', 'yes'], dtype=object),\n",
       " array(['AI', 'BA', 'CLS', 'CS', 'Other', 'QRM'], dtype=object)]"
      ]
     },
     "execution_count": 12,
     "metadata": {},
     "output_type": "execute_result"
    }
   ],
   "source": [
    "def init_encoder(columns):\n",
    "    E.encoders['x'] = preprocessing.OneHotEncoder()\n",
    "    enc = E.encoders['x']\n",
    "    enc.fit(columns)\n",
    "    return enc.transform(columns)\n",
    "\n",
    "categorical = ['ML', 'IR', 'Stat', 'DB', 'Gender', 'Chocolate', 'Stand Up', 'Programme']\n",
    "keys = [k + ' bin' for k in numerical] + categorical\n",
    "X_enc = init_encoder(data[keys])\n",
    "E.encoders['x'].categories_"
   ]
  },
  {
   "cell_type": "code",
   "execution_count": 13,
   "metadata": {},
   "outputs": [
    {
     "data": {
      "text/plain": [
       "array(['female', 'male', 'unknown'], dtype=object)"
      ]
     },
     "execution_count": 13,
     "metadata": {},
     "output_type": "execute_result"
    }
   ],
   "source": [
    "def init_label_encoder(column):\n",
    "    E.encoders['y'] = preprocessing.LabelEncoder()\n",
    "    enc = E.encoders['y']\n",
    "    enc.fit(column)\n",
    "    return enc.transform(column)\n",
    "\n",
    "Y_enc = init_label_encoder(data['Gender'])\n",
    "E.encoders['y'].classes_"
   ]
  },
  {
   "cell_type": "code",
   "execution_count": 14,
   "metadata": {},
   "outputs": [
    {
     "data": {
      "text/plain": [
       "((276, 47), (276,))"
      ]
     },
     "execution_count": 14,
     "metadata": {},
     "output_type": "execute_result"
    }
   ],
   "source": [
    "X_enc.shape, Y_enc.shape"
   ]
  },
  {
   "cell_type": "code",
   "execution_count": 15,
   "metadata": {},
   "outputs": [
    {
     "data": {
      "text/plain": [
       "((138, 47), (138,))"
      ]
     },
     "execution_count": 15,
     "metadata": {},
     "output_type": "execute_result"
    }
   ],
   "source": [
    "x_train, x_test, y_train, y_test = train_test_split(X_enc, Y_enc, test_size=0.5)\n",
    "x_train.shape, y_train.shape"
   ]
  },
  {
   "cell_type": "code",
   "execution_count": 16,
   "metadata": {},
   "outputs": [
    {
     "data": {
      "text/plain": [
       "0.9565217391304348"
      ]
     },
     "execution_count": 16,
     "metadata": {},
     "output_type": "execute_result"
    }
   ],
   "source": [
    "clf = SVC(gamma='auto')\n",
    "clf.fit(x_train, y_train)\n",
    "y_pred = clf.predict(x_test)\n",
    "accuracy_score(y_test, y_pred)"
   ]
  },
  {
   "cell_type": "code",
   "execution_count": 17,
   "metadata": {},
   "outputs": [
    {
     "data": {
      "text/plain": [
       "0.9492753623188406"
      ]
     },
     "execution_count": 17,
     "metadata": {},
     "output_type": "execute_result"
    }
   ],
   "source": [
    "# eval on train data\n",
    "clf = SVC(gamma='auto')\n",
    "clf.fit(x_train, y_train)\n",
    "y_pred = clf.predict(x_train)\n",
    "accuracy_score(y_train, y_pred)"
   ]
  },
  {
   "cell_type": "code",
   "execution_count": 22,
   "metadata": {},
   "outputs": [
    {
     "data": {
      "text/plain": [
       "0.6231884057971014"
      ]
     },
     "execution_count": 22,
     "metadata": {},
     "output_type": "execute_result"
    }
   ],
   "source": [
    "clf = SVC(kernel='poly', gamma='auto', degree=4)\n",
    "clf.fit(x_train, y_train)\n",
    "y_pred = clf.predict(x_test)\n",
    "accuracy_score(y_test, y_pred)"
   ]
  },
  {
   "cell_type": "code",
   "execution_count": 23,
   "metadata": {},
   "outputs": [
    {
     "data": {
      "text/plain": [
       "1.0"
      ]
     },
     "execution_count": 23,
     "metadata": {},
     "output_type": "execute_result"
    }
   ],
   "source": [
    "tree = DecisionTreeClassifier()\n",
    "tree.fit(x_train, y_train)\n",
    "y_predicted = tree.predict(x_test)\n",
    "accuracy_score(y_test, y_predicted)"
   ]
  },
  {
   "cell_type": "code",
   "execution_count": 144,
   "metadata": {},
   "outputs": [
    {
     "name": "stdout",
     "output_type": "stream",
     "text": [
      "scores per fold  [1. 1. 1. 1. 1.]\n",
      "  mean score     1.0\n",
      "  standard dev.  0.0\n"
     ]
    }
   ],
   "source": [
    "# The cross_val_score function does all the training for us. We simply pass \n",
    "# it the complete data, the model, and the metric.\n",
    "\n",
    "linear = SVC(kernel='linear', probability=True)\n",
    "\n",
    "# Train for 5 folds, returing ROC AUC. You can also try 'accuracy' as a scorer\n",
    "n_folds = 5\n",
    "scores = cross_val_score(linear, X_enc, Y_enc, cv=n_folds, scoring='accuracy') # roc_auc accuracy\n",
    "\n",
    "print('scores per fold ', scores)\n",
    "print('  mean score    ', np.mean(scores))\n",
    "print('  standard dev. ', np.std(scores))"
   ]
  },
  {
   "cell_type": "code",
   "execution_count": 145,
   "metadata": {},
   "outputs": [],
   "source": [
    "# TODO random forest\n",
    "# simple NN"
   ]
  },
  {
   "cell_type": "code",
   "execution_count": null,
   "metadata": {},
   "outputs": [],
   "source": []
  },
  {
   "cell_type": "code",
   "execution_count": 46,
   "metadata": {},
   "outputs": [],
   "source": [
    "subkeys = []\n",
    "for i,k in enumerate(keys):\n",
    "    for v in E.encoders['x'].categories_[i]:\n",
    "        subkeys.append(k + '_' + str(v))\n",
    "\n",
    "assert len(subkeys) == pd.DataFrame(X_enc.toarray()).shape[1]"
   ]
  },
  {
   "cell_type": "code",
   "execution_count": 77,
   "metadata": {},
   "outputs": [
    {
     "data": {
      "text/html": [
       "<div>\n",
       "<style scoped>\n",
       "    .dataframe tbody tr th:only-of-type {\n",
       "        vertical-align: middle;\n",
       "    }\n",
       "\n",
       "    .dataframe tbody tr th {\n",
       "        vertical-align: top;\n",
       "    }\n",
       "\n",
       "    .dataframe thead th {\n",
       "        text-align: right;\n",
       "    }\n",
       "</style>\n",
       "<table border=\"1\" class=\"dataframe\">\n",
       "  <thead>\n",
       "    <tr style=\"text-align: right;\">\n",
       "      <th></th>\n",
       "      <th>Year bin_0.0</th>\n",
       "      <th>Year bin_1.0</th>\n",
       "      <th>Year bin_2.0</th>\n",
       "      <th>Year bin_3.0</th>\n",
       "      <th>Year bin_4.0</th>\n",
       "      <th>Money bin_0.0</th>\n",
       "      <th>Money bin_1.0</th>\n",
       "      <th>Money bin_2.0</th>\n",
       "      <th>Money bin_3.0</th>\n",
       "      <th>Money bin_4.0</th>\n",
       "      <th>...</th>\n",
       "      <th>Chocolate_Unknown</th>\n",
       "      <th>Stand Up_no</th>\n",
       "      <th>Stand Up_unknown</th>\n",
       "      <th>Stand Up_yes</th>\n",
       "      <th>Programme_AI</th>\n",
       "      <th>Programme_BA</th>\n",
       "      <th>Programme_CLS</th>\n",
       "      <th>Programme_CS</th>\n",
       "      <th>Programme_Other</th>\n",
       "      <th>Programme_QRM</th>\n",
       "    </tr>\n",
       "  </thead>\n",
       "  <tbody>\n",
       "    <tr>\n",
       "      <th>0</th>\n",
       "      <td>0.0</td>\n",
       "      <td>0.0</td>\n",
       "      <td>0.0</td>\n",
       "      <td>0.0</td>\n",
       "      <td>1.0</td>\n",
       "      <td>0.0</td>\n",
       "      <td>0.0</td>\n",
       "      <td>0.0</td>\n",
       "      <td>0.0</td>\n",
       "      <td>1.0</td>\n",
       "      <td>...</td>\n",
       "      <td>0.0</td>\n",
       "      <td>1.0</td>\n",
       "      <td>0.0</td>\n",
       "      <td>0.0</td>\n",
       "      <td>1.0</td>\n",
       "      <td>0.0</td>\n",
       "      <td>0.0</td>\n",
       "      <td>0.0</td>\n",
       "      <td>0.0</td>\n",
       "      <td>0.0</td>\n",
       "    </tr>\n",
       "    <tr>\n",
       "      <th>1</th>\n",
       "      <td>0.0</td>\n",
       "      <td>0.0</td>\n",
       "      <td>0.0</td>\n",
       "      <td>1.0</td>\n",
       "      <td>0.0</td>\n",
       "      <td>1.0</td>\n",
       "      <td>0.0</td>\n",
       "      <td>0.0</td>\n",
       "      <td>0.0</td>\n",
       "      <td>0.0</td>\n",
       "      <td>...</td>\n",
       "      <td>0.0</td>\n",
       "      <td>1.0</td>\n",
       "      <td>0.0</td>\n",
       "      <td>0.0</td>\n",
       "      <td>1.0</td>\n",
       "      <td>0.0</td>\n",
       "      <td>0.0</td>\n",
       "      <td>0.0</td>\n",
       "      <td>0.0</td>\n",
       "      <td>0.0</td>\n",
       "    </tr>\n",
       "    <tr>\n",
       "      <th>2</th>\n",
       "      <td>0.0</td>\n",
       "      <td>0.0</td>\n",
       "      <td>0.0</td>\n",
       "      <td>0.0</td>\n",
       "      <td>1.0</td>\n",
       "      <td>1.0</td>\n",
       "      <td>0.0</td>\n",
       "      <td>0.0</td>\n",
       "      <td>0.0</td>\n",
       "      <td>0.0</td>\n",
       "      <td>...</td>\n",
       "      <td>0.0</td>\n",
       "      <td>0.0</td>\n",
       "      <td>1.0</td>\n",
       "      <td>0.0</td>\n",
       "      <td>0.0</td>\n",
       "      <td>0.0</td>\n",
       "      <td>0.0</td>\n",
       "      <td>1.0</td>\n",
       "      <td>0.0</td>\n",
       "      <td>0.0</td>\n",
       "    </tr>\n",
       "    <tr>\n",
       "      <th>3</th>\n",
       "      <td>0.0</td>\n",
       "      <td>0.0</td>\n",
       "      <td>0.0</td>\n",
       "      <td>1.0</td>\n",
       "      <td>0.0</td>\n",
       "      <td>0.0</td>\n",
       "      <td>0.0</td>\n",
       "      <td>1.0</td>\n",
       "      <td>0.0</td>\n",
       "      <td>0.0</td>\n",
       "      <td>...</td>\n",
       "      <td>0.0</td>\n",
       "      <td>1.0</td>\n",
       "      <td>0.0</td>\n",
       "      <td>0.0</td>\n",
       "      <td>0.0</td>\n",
       "      <td>0.0</td>\n",
       "      <td>0.0</td>\n",
       "      <td>1.0</td>\n",
       "      <td>0.0</td>\n",
       "      <td>0.0</td>\n",
       "    </tr>\n",
       "    <tr>\n",
       "      <th>4</th>\n",
       "      <td>0.0</td>\n",
       "      <td>0.0</td>\n",
       "      <td>0.0</td>\n",
       "      <td>0.0</td>\n",
       "      <td>1.0</td>\n",
       "      <td>1.0</td>\n",
       "      <td>0.0</td>\n",
       "      <td>0.0</td>\n",
       "      <td>0.0</td>\n",
       "      <td>0.0</td>\n",
       "      <td>...</td>\n",
       "      <td>0.0</td>\n",
       "      <td>1.0</td>\n",
       "      <td>0.0</td>\n",
       "      <td>0.0</td>\n",
       "      <td>0.0</td>\n",
       "      <td>0.0</td>\n",
       "      <td>0.0</td>\n",
       "      <td>1.0</td>\n",
       "      <td>0.0</td>\n",
       "      <td>0.0</td>\n",
       "    </tr>\n",
       "  </tbody>\n",
       "</table>\n",
       "<p>5 rows × 47 columns</p>\n",
       "</div>"
      ],
      "text/plain": [
       "   Year bin_0.0  Year bin_1.0  Year bin_2.0  Year bin_3.0  Year bin_4.0  \\\n",
       "0           0.0           0.0           0.0           0.0           1.0   \n",
       "1           0.0           0.0           0.0           1.0           0.0   \n",
       "2           0.0           0.0           0.0           0.0           1.0   \n",
       "3           0.0           0.0           0.0           1.0           0.0   \n",
       "4           0.0           0.0           0.0           0.0           1.0   \n",
       "\n",
       "   Money bin_0.0  Money bin_1.0  Money bin_2.0  Money bin_3.0  Money bin_4.0  \\\n",
       "0            0.0            0.0            0.0            0.0            1.0   \n",
       "1            1.0            0.0            0.0            0.0            0.0   \n",
       "2            1.0            0.0            0.0            0.0            0.0   \n",
       "3            0.0            0.0            1.0            0.0            0.0   \n",
       "4            1.0            0.0            0.0            0.0            0.0   \n",
       "\n",
       "       ...        Chocolate_Unknown  Stand Up_no  Stand Up_unknown  \\\n",
       "0      ...                      0.0          1.0               0.0   \n",
       "1      ...                      0.0          1.0               0.0   \n",
       "2      ...                      0.0          0.0               1.0   \n",
       "3      ...                      0.0          1.0               0.0   \n",
       "4      ...                      0.0          1.0               0.0   \n",
       "\n",
       "   Stand Up_yes  Programme_AI  Programme_BA  Programme_CLS  Programme_CS  \\\n",
       "0           0.0           1.0           0.0            0.0           0.0   \n",
       "1           0.0           1.0           0.0            0.0           0.0   \n",
       "2           0.0           0.0           0.0            0.0           1.0   \n",
       "3           0.0           0.0           0.0            0.0           1.0   \n",
       "4           0.0           0.0           0.0            0.0           1.0   \n",
       "\n",
       "   Programme_Other  Programme_QRM  \n",
       "0              0.0            0.0  \n",
       "1              0.0            0.0  \n",
       "2              0.0            0.0  \n",
       "3              0.0            0.0  \n",
       "4              0.0            0.0  \n",
       "\n",
       "[5 rows x 47 columns]"
      ]
     },
     "execution_count": 77,
     "metadata": {},
     "output_type": "execute_result"
    }
   ],
   "source": [
    "# data_enc = pd.DataFrame(X_enc.toarray(), columns=subkeys, dtype=bool)\n",
    "data_enc = pd.SparseDataFrame(X_enc, columns=subkeys, default_fill_value=False)\n",
    "data_enc.head()"
   ]
  },
  {
   "cell_type": "code",
   "execution_count": 74,
   "metadata": {
    "scrolled": false
   },
   "outputs": [
    {
     "data": {
      "text/html": [
       "<div>\n",
       "<style scoped>\n",
       "    .dataframe tbody tr th:only-of-type {\n",
       "        vertical-align: middle;\n",
       "    }\n",
       "\n",
       "    .dataframe tbody tr th {\n",
       "        vertical-align: top;\n",
       "    }\n",
       "\n",
       "    .dataframe thead th {\n",
       "        text-align: right;\n",
       "    }\n",
       "</style>\n",
       "<table border=\"1\" class=\"dataframe\">\n",
       "  <thead>\n",
       "    <tr style=\"text-align: right;\">\n",
       "      <th></th>\n",
       "      <th>support</th>\n",
       "      <th>itemsets</th>\n",
       "      <th>length</th>\n",
       "    </tr>\n",
       "  </thead>\n",
       "  <tbody>\n",
       "    <tr>\n",
       "      <th>0</th>\n",
       "      <td>0.681159</td>\n",
       "      <td>(Year bin_4.0)</td>\n",
       "      <td>1</td>\n",
       "    </tr>\n",
       "    <tr>\n",
       "      <th>1</th>\n",
       "      <td>0.967391</td>\n",
       "      <td>(Neighbours bin_0.0)</td>\n",
       "      <td>1</td>\n",
       "    </tr>\n",
       "    <tr>\n",
       "      <th>2</th>\n",
       "      <td>0.619565</td>\n",
       "      <td>(ML_Yes)</td>\n",
       "      <td>1</td>\n",
       "    </tr>\n",
       "    <tr>\n",
       "      <th>3</th>\n",
       "      <td>0.876812</td>\n",
       "      <td>(Stat_Yes)</td>\n",
       "      <td>1</td>\n",
       "    </tr>\n",
       "    <tr>\n",
       "      <th>4</th>\n",
       "      <td>0.659420</td>\n",
       "      <td>(Gender_male)</td>\n",
       "      <td>1</td>\n",
       "    </tr>\n",
       "    <tr>\n",
       "      <th>5</th>\n",
       "      <td>0.902174</td>\n",
       "      <td>(Stand Up_no)</td>\n",
       "      <td>1</td>\n",
       "    </tr>\n",
       "    <tr>\n",
       "      <th>6</th>\n",
       "      <td>0.663043</td>\n",
       "      <td>(Neighbours bin_0.0, Year bin_4.0)</td>\n",
       "      <td>2</td>\n",
       "    </tr>\n",
       "    <tr>\n",
       "      <th>7</th>\n",
       "      <td>0.619565</td>\n",
       "      <td>(Stat_Yes, Year bin_4.0)</td>\n",
       "      <td>2</td>\n",
       "    </tr>\n",
       "    <tr>\n",
       "      <th>8</th>\n",
       "      <td>0.605072</td>\n",
       "      <td>(Stand Up_no, Year bin_4.0)</td>\n",
       "      <td>2</td>\n",
       "    </tr>\n",
       "    <tr>\n",
       "      <th>9</th>\n",
       "      <td>0.605072</td>\n",
       "      <td>(Neighbours bin_0.0, ML_Yes)</td>\n",
       "      <td>2</td>\n",
       "    </tr>\n",
       "    <tr>\n",
       "      <th>10</th>\n",
       "      <td>0.855072</td>\n",
       "      <td>(Neighbours bin_0.0, Stat_Yes)</td>\n",
       "      <td>2</td>\n",
       "    </tr>\n",
       "    <tr>\n",
       "      <th>11</th>\n",
       "      <td>0.637681</td>\n",
       "      <td>(Gender_male, Neighbours bin_0.0)</td>\n",
       "      <td>2</td>\n",
       "    </tr>\n",
       "    <tr>\n",
       "      <th>12</th>\n",
       "      <td>0.880435</td>\n",
       "      <td>(Stand Up_no, Neighbours bin_0.0)</td>\n",
       "      <td>2</td>\n",
       "    </tr>\n",
       "    <tr>\n",
       "      <th>13</th>\n",
       "      <td>0.804348</td>\n",
       "      <td>(Stand Up_no, Stat_Yes)</td>\n",
       "      <td>2</td>\n",
       "    </tr>\n",
       "    <tr>\n",
       "      <th>14</th>\n",
       "      <td>0.608696</td>\n",
       "      <td>(Neighbours bin_0.0, Stat_Yes, Year bin_4.0)</td>\n",
       "      <td>3</td>\n",
       "    </tr>\n",
       "    <tr>\n",
       "      <th>15</th>\n",
       "      <td>0.789855</td>\n",
       "      <td>(Stand Up_no, Neighbours bin_0.0, Stat_Yes)</td>\n",
       "      <td>3</td>\n",
       "    </tr>\n",
       "  </tbody>\n",
       "</table>\n",
       "</div>"
      ],
      "text/plain": [
       "     support                                      itemsets  length\n",
       "0   0.681159                                (Year bin_4.0)       1\n",
       "1   0.967391                          (Neighbours bin_0.0)       1\n",
       "2   0.619565                                      (ML_Yes)       1\n",
       "3   0.876812                                    (Stat_Yes)       1\n",
       "4   0.659420                                 (Gender_male)       1\n",
       "5   0.902174                                 (Stand Up_no)       1\n",
       "6   0.663043            (Neighbours bin_0.0, Year bin_4.0)       2\n",
       "7   0.619565                      (Stat_Yes, Year bin_4.0)       2\n",
       "8   0.605072                   (Stand Up_no, Year bin_4.0)       2\n",
       "9   0.605072                  (Neighbours bin_0.0, ML_Yes)       2\n",
       "10  0.855072                (Neighbours bin_0.0, Stat_Yes)       2\n",
       "11  0.637681             (Gender_male, Neighbours bin_0.0)       2\n",
       "12  0.880435             (Stand Up_no, Neighbours bin_0.0)       2\n",
       "13  0.804348                       (Stand Up_no, Stat_Yes)       2\n",
       "14  0.608696  (Neighbours bin_0.0, Stat_Yes, Year bin_4.0)       3\n",
       "15  0.789855   (Stand Up_no, Neighbours bin_0.0, Stat_Yes)       3"
      ]
     },
     "execution_count": 74,
     "metadata": {},
     "output_type": "execute_result"
    }
   ],
   "source": [
    "# http://rasbt.github.io/mlxtend/user_guide/frequent_patterns/apriori/\n",
    "frequent_itemsets = apriori(data_enc, min_support=0.6, use_colnames=True)\n",
    "frequent_itemsets['length'] = frequent_itemsets['itemsets'].apply(lambda x: len(x))\n",
    "frequent_itemsets"
   ]
  },
  {
   "cell_type": "code",
   "execution_count": 75,
   "metadata": {},
   "outputs": [
    {
     "data": {
      "text/html": [
       "<div>\n",
       "<style scoped>\n",
       "    .dataframe tbody tr th:only-of-type {\n",
       "        vertical-align: middle;\n",
       "    }\n",
       "\n",
       "    .dataframe tbody tr th {\n",
       "        vertical-align: top;\n",
       "    }\n",
       "\n",
       "    .dataframe thead th {\n",
       "        text-align: right;\n",
       "    }\n",
       "</style>\n",
       "<table border=\"1\" class=\"dataframe\">\n",
       "  <thead>\n",
       "    <tr style=\"text-align: right;\">\n",
       "      <th></th>\n",
       "      <th>support</th>\n",
       "      <th>itemsets</th>\n",
       "      <th>length</th>\n",
       "    </tr>\n",
       "  </thead>\n",
       "  <tbody>\n",
       "    <tr>\n",
       "      <th>14</th>\n",
       "      <td>0.608696</td>\n",
       "      <td>(Neighbours bin_0.0, Stat_Yes, Year bin_4.0)</td>\n",
       "      <td>3</td>\n",
       "    </tr>\n",
       "    <tr>\n",
       "      <th>15</th>\n",
       "      <td>0.789855</td>\n",
       "      <td>(Stand Up_no, Neighbours bin_0.0, Stat_Yes)</td>\n",
       "      <td>3</td>\n",
       "    </tr>\n",
       "  </tbody>\n",
       "</table>\n",
       "</div>"
      ],
      "text/plain": [
       "     support                                      itemsets  length\n",
       "14  0.608696  (Neighbours bin_0.0, Stat_Yes, Year bin_4.0)       3\n",
       "15  0.789855   (Stand Up_no, Neighbours bin_0.0, Stat_Yes)       3"
      ]
     },
     "execution_count": 75,
     "metadata": {},
     "output_type": "execute_result"
    }
   ],
   "source": [
    "frequent_itemsets[ (frequent_itemsets['length'] >= 3) &\n",
    "                   (frequent_itemsets['support'] >= 0.6) ]"
   ]
  },
  {
   "cell_type": "code",
   "execution_count": 68,
   "metadata": {},
   "outputs": [
    {
     "data": {
      "text/html": [
       "<div>\n",
       "<style scoped>\n",
       "    .dataframe tbody tr th:only-of-type {\n",
       "        vertical-align: middle;\n",
       "    }\n",
       "\n",
       "    .dataframe tbody tr th {\n",
       "        vertical-align: top;\n",
       "    }\n",
       "\n",
       "    .dataframe thead th {\n",
       "        text-align: right;\n",
       "    }\n",
       "</style>\n",
       "<table border=\"1\" class=\"dataframe\">\n",
       "  <thead>\n",
       "    <tr style=\"text-align: right;\">\n",
       "      <th></th>\n",
       "      <th>support</th>\n",
       "      <th>itemsets</th>\n",
       "      <th>length</th>\n",
       "    </tr>\n",
       "  </thead>\n",
       "  <tbody>\n",
       "    <tr>\n",
       "      <th>10</th>\n",
       "      <td>0.855072</td>\n",
       "      <td>(Neighbours bin_0.0, Stat_Yes)</td>\n",
       "      <td>2</td>\n",
       "    </tr>\n",
       "    <tr>\n",
       "      <th>12</th>\n",
       "      <td>0.880435</td>\n",
       "      <td>(Stand Up_no, Neighbours bin_0.0)</td>\n",
       "      <td>2</td>\n",
       "    </tr>\n",
       "    <tr>\n",
       "      <th>13</th>\n",
       "      <td>0.804348</td>\n",
       "      <td>(Stand Up_no, Stat_Yes)</td>\n",
       "      <td>2</td>\n",
       "    </tr>\n",
       "    <tr>\n",
       "      <th>15</th>\n",
       "      <td>0.789855</td>\n",
       "      <td>(Stand Up_no, Neighbours bin_0.0, Stat_Yes)</td>\n",
       "      <td>3</td>\n",
       "    </tr>\n",
       "  </tbody>\n",
       "</table>\n",
       "</div>"
      ],
      "text/plain": [
       "     support                                     itemsets  length\n",
       "10  0.855072               (Neighbours bin_0.0, Stat_Yes)       2\n",
       "12  0.880435            (Stand Up_no, Neighbours bin_0.0)       2\n",
       "13  0.804348                      (Stand Up_no, Stat_Yes)       2\n",
       "15  0.789855  (Stand Up_no, Neighbours bin_0.0, Stat_Yes)       3"
      ]
     },
     "execution_count": 68,
     "metadata": {},
     "output_type": "execute_result"
    }
   ],
   "source": [
    "frequent_itemsets[ (frequent_itemsets['length'] >= 2) &\n",
    "                   (frequent_itemsets['support'] >= 0.7) ]"
   ]
  },
  {
   "cell_type": "code",
   "execution_count": null,
   "metadata": {},
   "outputs": [],
   "source": []
  },
  {
   "cell_type": "code",
   "execution_count": null,
   "metadata": {},
   "outputs": [],
   "source": []
  },
  {
   "cell_type": "code",
   "execution_count": null,
   "metadata": {},
   "outputs": [],
   "source": []
  },
  {
   "cell_type": "code",
   "execution_count": 23,
   "metadata": {},
   "outputs": [],
   "source": [
    "def cmap_discretize(cmap, N):\n",
    "    \"\"\"Return a discrete colormap from the continuous colormap cmap.\n",
    "    \n",
    "        cmap: colormap instance, eg. cm.jet. \n",
    "        N: number of colors.\n",
    "        \n",
    "        https://scipy-cookbook.readthedocs.io/items/Matplotlib_ColormapTransformations.html\n",
    "    \"\"\"\n",
    "    if type(cmap) == str:\n",
    "        cmap = plt.get_cmap(cmap)\n",
    "    colors_i = np.concatenate((np.linspace(0, 1., N), (0.,0.,0.,0.)))\n",
    "    colors_rgba = cmap(colors_i)\n",
    "    indices = np.linspace(0, 1., N+1)\n",
    "    cdict = {}\n",
    "    for ki, key in enumerate(('red','green','blue')):\n",
    "        cdict[key] = [(indices[i], colors_rgba[i-1,ki], colors_rgba[i,ki]) for i in range(N+1)]\n",
    "    # Return colormap object.\n",
    "    return matplotlib.colors.LinearSegmentedColormap(cmap.name + \"_%d\"%N, cdict, 1024)"
   ]
  },
  {
   "cell_type": "code",
   "execution_count": 149,
   "metadata": {},
   "outputs": [],
   "source": [
    "def e(i,k):\n",
    "    # unit vector i of length k\n",
    "    return np.eye(k)[i]\n",
    "\n",
    "def fix_labels(labels):\n",
    "    # update in-place\n",
    "    for i, v in enumerate(labels.copy()):\n",
    "        if v is None:\n",
    "            labels[i] = 'None'\n",
    "        else:\n",
    "            labels[i] = fix_label(labels[i])\n",
    "\n",
    "            \n",
    "def fix_label(x):\n",
    "    max_length = 12\n",
    "    x = str.title(str(x))\n",
    "    if x is None:\n",
    "        assert False\n",
    "        return 'None'\n",
    "    translations = {'Ja': 'Yes', 'Nee': 'No', '1': 'Yes', '0':'No',\n",
    "                   'I have no idea what you are talking about': 'Unknown'}\n",
    "    if x in translations.keys():\n",
    "        return translations[x]\n",
    "    return x[:max_length]\n",
    "\n",
    "def length_exceeds(labels, t=10) -> bool:\n",
    "    return np.any([len(label) > t for label in labels])\n",
    "\n",
    "# def plot_classifier_helper(data, xlabels, ylabel, clf):\n",
    "def plot_classifier(data, xlabels, ylabel, clf):\n",
    "    rcParams['font.size'] = 14\n",
    "    X_enc = init_encoder(data[xlabels])\n",
    "    Y_enc = init_label_encoder(data[ylabel])\n",
    "\n",
    "#     Y_enc += np.random.randint(0,3, Y_enc.size)\n",
    "    clf.fit(X_enc, Y_enc)\n",
    "\n",
    "    categories = E.encoders['x'].categories_\n",
    "    dims = tuple([c.size for c in categories]) # n features\n",
    "    n_dims = sum(dims)\n",
    "    # n combinations = x * y                   ### x^2 * y^2\n",
    "    X = np.empty((np.prod([x**2 for x in dims]), 1))\n",
    "    \n",
    "    # X = np.empty((np.prod(dims), n_dims))\n",
    "    X = np.empty((dims[0], dims[1], n_dims))\n",
    "    for i,j in np.ndindex(X.shape[:2]):\n",
    "        X[i,j] = np.concatenate([e(i,dims[0]), e(j, dims[1])])\n",
    "\n",
    "    X_enc = X.reshape((dims[0] * dims[1], n_dims))\n",
    "    Y_enc = clf.predict(X_enc)\n",
    "    Y_enc[0] = 0\n",
    "    Y_enc[1] = 1\n",
    "    Y_enc[2] = 2\n",
    "    # Y = E.encoders['y'].inverse_transform(Y_enc)\n",
    "    Y = Y_enc.reshape(dims)\n",
    "\n",
    "    # def plot_classifier()\n",
    "    fig = plt.figure()\n",
    "    ax = fig.add_subplot(111)\n",
    "    # color bar labels correspond to Y (unlike x or y)\n",
    "    cb_labels = E.encoders['y'].classes_\n",
    "    cb_ticks = E.encoders['y'].transform(cb_labels)\n",
    "    n = cb_labels.size\n",
    "    c = cmap_discretize('rainbow', n) # terrain bone plasma rainbow pink cubehelix jet\n",
    "    plt.imshow(Y.T, origin='lower', cmap=c)\n",
    "    \n",
    "    x_labels = categories[0]\n",
    "    y_labels = categories[1]\n",
    "    fix_labels(x_labels)\n",
    "    fix_labels(y_labels)\n",
    "    n_x = len(x_labels)\n",
    "    n_y = len(y_labels)    \n",
    "    if length_exceeds(x_labels, 5) or n_x > 5:\n",
    "        rotation = 45\n",
    "    else:\n",
    "        rotation = 0        \n",
    "#         plt.subplots_adjust(bottom=0.15)\n",
    "    plt.xticks(np.arange(n_x), x_labels, rotation=rotation)\n",
    "    if length_exceeds(y_labels, 5) or n_y > 5:\n",
    "        rotation = 45\n",
    "    else:\n",
    "        rotation = 0\n",
    "    plt.yticks(np.arange(n_y), y_labels, rotation=rotation)\n",
    "\n",
    "    util.plot.show_grid(ax, Y)\n",
    "    #  colorbar\n",
    "    cb = plt.colorbar()\n",
    "    cb.set_ticks(cb_ticks)\n",
    "    cb.set_ticklabels(cb_labels)\n",
    "#     cb.ax.set_yticklabels(cb_labels)\n",
    "\n",
    "#     ticks = np.arange(5)\n",
    "#     labels = E.encoders['y'].inverse_transform(np.linspace(y_min, y_max, 5))\n",
    "\n",
    "# def show_grid(ax, Y):\n",
    "#     # clear grid\n",
    "#     ax.grid(False)        \n",
    "#     # disable spines\n",
    "#     for edge, spine in ax.spines.items():\n",
    "#             spine.set_visible(False)\n",
    "#     # add custom grid\n",
    "#     # add white grid to distinguish cells\n",
    "#     print(Y.shape)\n",
    "#     lw = 3\n",
    "#     ax.set_xticks(np.arange(Y.shape[0]+1) - 0.5 + 0.005*lw, minor=True)\n",
    "#     ax.set_yticks(np.arange(Y.shape[1]+1) - 0.5 + 0.01*lw, minor=True)\n",
    "#     ax.grid(which=\"minor\", color='w', linestyle='-', linewidth=lw) # 3\n",
    "#     ax.tick_params(which=\"minor\", bottom=False, left=False)    "
   ]
  },
  {
   "cell_type": "code",
   "execution_count": 150,
   "metadata": {},
   "outputs": [
    {
     "data": {
      "text/plain": [
       "Text(0.5, 0.98, 'Effect of Stat, Year on prediction of Gender')"
      ]
     },
     "execution_count": 150,
     "metadata": {},
     "output_type": "execute_result"
    },
    {
     "data": {
      "image/png": "[encoded data removed]",
      "text/plain": [
       "<Figure size 432x288 with 2 Axes>"
      ]
     },
     "metadata": {
      "needs_background": "light"
     },
     "output_type": "display_data"
    }
   ],
   "source": [
    "np.random.seed(42)\n",
    "# clf = SVC(gamma='auto')\n",
    "clf = DecisionTreeClassifier()\n",
    "plot_classifier(data, ['Stat', 'Year bin'], 'Gender', clf)\n",
    "plt.suptitle('Effect of Stat, Year on prediction of Gender')"
   ]
  },
  {
   "cell_type": "code",
   "execution_count": 151,
   "metadata": {},
   "outputs": [
    {
     "data": {
      "image/png": "[encoded data removed]",
      "text/plain": [
       "<Figure size 432x288 with 2 Axes>"
      ]
     },
     "metadata": {
      "needs_background": "light"
     },
     "output_type": "display_data"
    }
   ],
   "source": [
    "plot_classifier(data, ['Programme', 'Year bin'], 'Gender', clf)"
   ]
  },
  {
   "cell_type": "code",
   "execution_count": 26,
   "metadata": {},
   "outputs": [
    {
     "data": {
      "image/png": "[encoded data removed]",
      "text/plain": [
       "<Figure size 432x288 with 4 Axes>"
      ]
     },
     "metadata": {
      "needs_background": "light"
     },
     "output_type": "display_data"
    }
   ],
   "source": [
    "# The number of divisions of the cmap we have\n",
    "k = 10\n",
    "\n",
    "# Random test data\n",
    "A = np.random.random((10,10))*k\n",
    "c = cmap_discretize('jet', k)\n",
    "\n",
    "# First show without\n",
    "plt.subplot(121)\n",
    "plt.imshow(A,interpolation='nearest',cmap=c)\n",
    "plt.colorbar()\n",
    "\n",
    "# Now label properly\n",
    "plt.subplot(122)\n",
    "plt.imshow(A,interpolation='nearest',cmap=c)\n",
    "\n",
    "cb = plt.colorbar()\n",
    "labels = np.arange(0,k,1)\n",
    "loc    = labels + .5\n",
    "cb.set_ticks(loc)\n",
    "cb.set_ticklabels(labels)"
   ]
  },
  {
   "cell_type": "code",
   "execution_count": 27,
   "metadata": {},
   "outputs": [],
   "source": [
    "X = np.ndindex(())"
   ]
  },
  {
   "cell_type": "code",
   "execution_count": 28,
   "metadata": {},
   "outputs": [
    {
     "data": {
      "image/png": "[encoded data removed]",
      "text/plain": [
       "<Figure size 432x288 with 1 Axes>"
      ]
     },
     "metadata": {
      "needs_background": "light"
     },
     "output_type": "display_data"
    }
   ],
   "source": [
    "x = np.arange(-5, 5, 0.1)\n",
    "y = np.arange(-5, 5, 0.1)\n",
    "xx, yy = np.meshgrid(x, y, sparse=True)\n",
    "z = np.sin(xx**2 + yy**2) / (xx**2 + yy**2)\n",
    "h = plt.contourf(x,y,z)"
   ]
  },
  {
   "cell_type": "code",
   "execution_count": 29,
   "metadata": {},
   "outputs": [
    {
     "data": {
      "text/plain": [
       "((100,), (100,), (100, 100))"
      ]
     },
     "execution_count": 29,
     "metadata": {},
     "output_type": "execute_result"
    },
    {
     "data": {
      "image/png": "[encoded data removed]",
      "text/plain": [
       "<Figure size 432x288 with 1 Axes>"
      ]
     },
     "metadata": {
      "needs_background": "light"
     },
     "output_type": "display_data"
    }
   ],
   "source": [
    "x = np.arange(-5, 5, 0.1)\n",
    "y = np.arange(-5, 5, 0.1)\n",
    "xx, yy = np.meshgrid(x, y, sparse=True)\n",
    "z = np.sin(xx + 0*yy)\n",
    "h = plt.contourf(x,y,z)\n",
    "x.shape, y.shape, z.shape"
   ]
  },
  {
   "cell_type": "code",
   "execution_count": 30,
   "metadata": {},
   "outputs": [],
   "source": [
    "# xx"
   ]
  },
  {
   "cell_type": "code",
   "execution_count": 31,
   "metadata": {},
   "outputs": [],
   "source": [
    "# from mlxtend.plotting import plot_decision_regions\n",
    "# import matplotlib.pyplot as plt\n",
    "# from sklearn import datasets\n",
    "# from sklearn.svm import SVC\n",
    "\n",
    "# # Loading some example data\n",
    "# iris = datasets.load_iris()\n",
    "# X = iris.data[:, [0, 2]]\n",
    "# y = iris.target\n",
    "\n",
    "# # Training a classifier\n",
    "# svm = SVC(C=0.5, kernel='linear')\n",
    "# svm.fit(x_train, y_train)\n",
    "\n",
    "\n",
    "# # Plotting decision regions\n",
    "# # plot_decision_regions(x_train.toarray(), y_train, clf=svm, legend=2)\n",
    "\n",
    "# enc = E.encoders['x']\n",
    "# enc.\n",
    "\n",
    "# # Decision region for feature 3 = 1.5\n",
    "# value = 0\n",
    "# # Plot training sample with feature 3 = 1.5 +/- 0.75\n",
    "# width = 0\n",
    "# plot_decision_regions(X, y, clf=svm,\n",
    "#                       filler_feature_values={2: value},\n",
    "#                       filler_feature_ranges={2: width},\n",
    "#                       legend=2, ax=ax)\n",
    "\n",
    "\n",
    "# # Adding axes annotations\n",
    "# plt.xlabel('sepal length [cm]')\n",
    "# plt.ylabel('petal length [cm]')\n",
    "# plt.title('SVM on Iris')\n",
    "# plt.show()\n"
   ]
  },
  {
   "cell_type": "code",
   "execution_count": null,
   "metadata": {},
   "outputs": [],
   "source": []
  },
  {
   "cell_type": "code",
   "execution_count": 32,
   "metadata": {},
   "outputs": [],
   "source": [
    "# from mlxtend.plotting import plot_decision_regions\n",
    "\n",
    "# n = 10\n",
    "# plot_decision_regions(x_test[:n], y_test.astype(np.integer)[:n], \n",
    "#                       clf=clf, res=0.1);"
   ]
  },
  {
   "cell_type": "code",
   "execution_count": null,
   "metadata": {},
   "outputs": [],
   "source": []
  },
  {
   "cell_type": "code",
   "execution_count": null,
   "metadata": {},
   "outputs": [],
   "source": []
  },
  {
   "cell_type": "code",
   "execution_count": 33,
   "metadata": {},
   "outputs": [],
   "source": [
    "# from sklearn.metrics import roc_curve, auc\n",
    "\n",
    "# # The linear classifier doesn't produce class probabilities by default. We'll retrain it for probabilities.\n",
    "# linear = SVC(kernel='linear', probability=True)\n",
    "# linear.fit(x_train, y_train)\n",
    "\n",
    "# # We'll need class probabilities from each of the classifiers\n",
    "# y_linear = linear.predict_proba(x_test)\n",
    "# y_tree  = tree.predict_proba(x_test)\n",
    "# y_knn   = knn.predict_proba(x_test)\n",
    "\n",
    "# # Compute the points on the curve\n",
    "# # We pass the probability of the second class (KIA) as the y_score\n",
    "# curve_linear = sklearn.metrics.roc_curve(y_test, y_linear[:, 1])\n",
    "# curve_tree   = sklearn.metrics.roc_curve(y_test, y_tree[:, 1])\n",
    "# curve_knn    = sklearn.metrics.roc_curve(y_test, y_knn[:, 1])\n",
    "\n",
    "# # Compute Area Under the Curve\n",
    "# auc_linear = auc(curve_linear[0], curve_linear[1])\n",
    "# auc_tree   = auc(curve_tree[0], curve_tree[1])\n",
    "# auc_knn    = auc(curve_knn[0], curve_knn[1])\n",
    "\n",
    "# plt.plot(curve_linear[0], curve_linear[1], label='linear (area = %0.2f)' % auc_linear)\n",
    "# plt.plot(curve_tree[0], curve_tree[1], label='tree (area = %0.2f)' % auc_tree)\n",
    "# plt.plot(curve_knn[0], curve_knn[1], label='knn (area = %0.2f)'% auc_knn)\n",
    "\n",
    "# plt.xlim([0.0, 1.0])\n",
    "# plt.ylim([0.0, 1.0])\n",
    "# plt.xlabel('False Positive Rate')\n",
    "# plt.ylabel('True Positive Rate')\n",
    "# plt.title('ROC curve');\n",
    "\n",
    "# plt.legend();"
   ]
  },
  {
   "cell_type": "code",
   "execution_count": null,
   "metadata": {},
   "outputs": [],
   "source": []
  }
 ],
 "metadata": {
  "kernelspec": {
   "display_name": "Python 3",
   "language": "python",
   "name": "python3"
  },
  "language_info": {
   "codemirror_mode": {
    "name": "ipython",
    "version": 3
   },
   "file_extension": ".py",
   "mimetype": "text/x-python",
   "name": "python",
   "nbconvert_exporter": "python",
   "pygments_lexer": "ipython3",
   "version": "3.6.8"
  }
 },
 "nbformat": 4,
 "nbformat_minor": 2
}
