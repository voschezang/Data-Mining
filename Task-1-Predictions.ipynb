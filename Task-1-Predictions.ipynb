{
 "cells": [
  {
   "cell_type": "code",
   "execution_count": 1,
   "metadata": {},
   "outputs": [],
   "source": [
    "# %matplotlib notebook\n",
    "# %matplotlib inline\n",
    "import numpy as np\n",
    "import pickle\n",
    "np.random.seed(123)\n",
    "import collections, copy, pickle\n",
    "from importlib import reload\n",
    "from dateutil.parser import parse\n",
    "import scipy.linalg\n",
    "import pandas as pd\n",
    "import sklearn\n",
    "import matplotlib\n",
    "import matplotlib.pyplot as plt\n",
    "from matplotlib.ticker import NullFormatter\n",
    "from matplotlib import rcParams\n",
    "rcParams['font.family'] = 'serif'\n",
    "rcParams['font.size'] = 14\n",
    "# rcParams['text.usetex'] = True\n",
    "from IPython.display import HTML"
   ]
  },
  {
   "cell_type": "code",
   "execution_count": 2,
   "metadata": {},
   "outputs": [],
   "source": [
    "from mlxtend.frequent_patterns import apriori\n",
    "\n",
    "import sklearn.ensemble\n",
    "import sklearn.svm\n",
    "import sklearn.tree\n",
    "import sklearn.linear_model\n",
    "import sklearn.neighbors\n",
    "\n",
    "from sklearn.model_selection import cross_val_score\n",
    "from sklearn.model_selection import train_test_split\n",
    "import sklearn.metrics\n",
    "\n",
    "from sklearn import preprocessing\n",
    "from sklearn.preprocessing import OneHotEncoder\n",
    "from sklearn.model_selection import train_test_split"
   ]
  },
  {
   "cell_type": "code",
   "execution_count": 3,
   "metadata": {},
   "outputs": [],
   "source": [
    "import util.plot\n",
    "import util.string"
   ]
  },
  {
   "cell_type": "code",
   "execution_count": 4,
   "metadata": {},
   "outputs": [],
   "source": [
    "# https://github.com/pbloem/machine-learning/blob/master/worksheets/Worksheet%202%2C%20Sklearn.ipynb"
   ]
  },
  {
   "cell_type": "code",
   "execution_count": 5,
   "metadata": {},
   "outputs": [],
   "source": [
    "# data = pd.read_csv('ODI-2019-clean.csv', sep=';')\n",
    "fn = 'ODI-2019-clean.pkl'\n",
    "# load (old) data from disk\n",
    "with open(fn, 'rb') as f:\n",
    "    data = pickle.load(f)"
   ]
  },
  {
   "cell_type": "code",
   "execution_count": 6,
   "metadata": {},
   "outputs": [],
   "source": [
    "# data.head()"
   ]
  },
  {
   "cell_type": "markdown",
   "metadata": {},
   "source": [
    "## Categorical models"
   ]
  },
  {
   "cell_type": "markdown",
   "metadata": {},
   "source": [
    "https://scikit-learn.org/stable/modules/classes.html#module-sklearn.preprocessing"
   ]
  },
  {
   "cell_type": "markdown",
   "metadata": {},
   "source": [
    "# Discretization\n",
    "\n",
    "https://scikit-learn.org/stable/modules/preprocessing.html#preprocessing-categorical-features\n",
    "\n",
    "https://scikit-learn.org/stable/auto_examples/preprocessing/plot_discretization_strategies.html#sphx-glr-auto-examples-preprocessing-plot-discretization-strategies-py\n",
    "\n",
    "Strategies:\n",
    "-    ‘uniform’: The discretization is uniform in each feature, which means that the bin widths are constant in each dimension.\n",
    "-    quantile’: The discretization is done on the quantiled values, which means that each bin has approximately the same number of samples.\n",
    "       - this causes outliers to be grouped together\n",
    "-    ‘kmeans’: The discretization is based on the centroids of a KMeans clustering procedure."
   ]
  },
  {
   "cell_type": "code",
   "execution_count": 7,
   "metadata": {},
   "outputs": [],
   "source": [
    "class Encoders: pass\n",
    "E = Encoders()\n",
    "E.discretizers = {}\n",
    "E.encoders = {}"
   ]
  },
  {
   "cell_type": "code",
   "execution_count": 8,
   "metadata": {},
   "outputs": [],
   "source": [
    "key = 'Other'\n",
    "# reload(util.data)\n",
    "most_common = util.data.select_most_common(data.Programme, n=8, key=key)\n",
    "value = np.array(list(most_common.values()))\n",
    "# note that pd.where different than np.where\n",
    "keys = most_common.keys()\n",
    "data.Programme.where(data.Programme.isin(keys), key, inplace=True)"
   ]
  },
  {
   "cell_type": "code",
   "execution_count": 9,
   "metadata": {},
   "outputs": [],
   "source": [
    "def discretize(data, k, n_bins=5):\n",
    "    X = data[k]\n",
    "    avg = np.nanmedian([x for x in X])\n",
    "    X = np.where(np.isnan(X), avg, X)\n",
    "    X = X.reshape(-1,1)\n",
    "    bins = np.repeat(n_bins, X.shape[1]) # e.g. [5,3] for 2 features\n",
    "    # encode to integers\n",
    "    est = preprocessing.KBinsDiscretizer(n_bins=bins, encode='ordinal', strategy='kmeans')\n",
    "    est.fit(X)\n",
    "    data[k + ' bin'] = est.transform(X)\n",
    "    E.discretizers[k] = est\n",
    "    s = ''\n",
    "    for st in [round(a,3) for a in est.bin_edges_[0]]:\n",
    "        if k == 'Year':\n",
    "            st = int(round(st))\n",
    "        s += str(st) + ', '\n",
    "    print('%s: $\\\\{%s\\\\}$\\n' % (k,s[:-2]))"
   ]
  },
  {
   "cell_type": "code",
   "execution_count": 10,
   "metadata": {},
   "outputs": [
    {
     "name": "stdout",
     "output_type": "stream",
     "text": [
      "Year: $\\{1971, 1981, 1991, 1994, 1996, 2001\\}$\n",
      "\n",
      "Money: $\\{0.0, 13.77, 37.19, 64.316, 88.56, 100.0\\}$\n",
      "\n",
      "Neighbours: $\\{0.0, 12.711, 28.4, 42.5, 64.25, 80.0\\}$\n",
      "\n",
      "Stress level: $\\{0.0, 15.307, 38.186, 62.413, 86.179, 100.0\\}$\n",
      "\n"
     ]
    }
   ],
   "source": [
    "numerical = ['Year', 'Money', 'Neighbours', 'Stress level']\n",
    "for k in numerical:\n",
    "    discretize(data, k)"
   ]
  },
  {
   "cell_type": "code",
   "execution_count": 12,
   "metadata": {},
   "outputs": [
    {
     "data": {
      "text/plain": [
       "[array([0.0, 1.0, 2.0, 3.0, 4.0], dtype=object),\n",
       " array([0.0, 1.0, 2.0, 3.0, 4.0], dtype=object),\n",
       " array([0.0, 1.0, 2.0, 3.0, 4.0], dtype=object),\n",
       " array([0.0, 1.0, 2.0, 3.0, 4.0], dtype=object),\n",
       " array(['No', 'Unknown', 'Yes'], dtype=object),\n",
       " array(['No', 'Unknown', 'Yes'], dtype=object),\n",
       " array(['No', 'Unknown', 'Yes'], dtype=object),\n",
       " array(['female', 'male', 'unknown'], dtype=object),\n",
       " array(['Fat', 'Neither', 'Slim', 'Unknown'], dtype=object),\n",
       " array(['no', 'unknown', 'yes'], dtype=object),\n",
       " array(['AI', 'BA', 'BIO', 'CLS', 'CS', 'IS', 'Other', 'QRM'], dtype=object)]"
      ]
     },
     "execution_count": 12,
     "metadata": {},
     "output_type": "execute_result"
    }
   ],
   "source": [
    "def init_encoder(columns):\n",
    "    E.encoders['x'] = preprocessing.OneHotEncoder()\n",
    "    enc = E.encoders['x']\n",
    "    enc.fit(columns)\n",
    "    return enc.transform(columns)\n",
    "\n",
    "categorical = ['ML', 'IR', 'Stat', 'DB', 'Gender', 'Chocolate', 'Stand Up', 'Programme']\n",
    "y = 'ML'\n",
    "categorical.remove(y)\n",
    "keys = [k + ' bin' for k in numerical] + categorical\n",
    "X_enc = init_encoder(data[keys])\n",
    "E.encoders['x'].categories_"
   ]
  },
  {
   "cell_type": "code",
   "execution_count": 13,
   "metadata": {},
   "outputs": [
    {
     "data": {
      "text/plain": [
       "array(['No', 'Yes'], dtype=object)"
      ]
     },
     "execution_count": 13,
     "metadata": {},
     "output_type": "execute_result"
    }
   ],
   "source": [
    "def init_label_encoder(column):\n",
    "    E.encoders['y'] = preprocessing.LabelEncoder()\n",
    "    enc = E.encoders['y']\n",
    "    enc.fit(column)\n",
    "    return enc.transform(column)\n",
    "\n",
    "Y_enc = init_label_encoder(data[y])\n",
    "E.encoders['y'].classes_"
   ]
  },
  {
   "cell_type": "code",
   "execution_count": 14,
   "metadata": {},
   "outputs": [
    {
     "data": {
      "text/plain": [
       "((276, 47), (276,))"
      ]
     },
     "execution_count": 14,
     "metadata": {},
     "output_type": "execute_result"
    }
   ],
   "source": [
    "X_enc.shape, Y_enc.shape"
   ]
  },
  {
   "cell_type": "code",
   "execution_count": 15,
   "metadata": {},
   "outputs": [
    {
     "data": {
      "text/plain": [
       "((138, 47), (138,))"
      ]
     },
     "execution_count": 15,
     "metadata": {},
     "output_type": "execute_result"
    }
   ],
   "source": [
    "x_train, x_test, y_train, y_test = train_test_split(X_enc, Y_enc, test_size=0.5)\n",
    "x_train.shape, y_train.shape"
   ]
  },
  {
   "cell_type": "code",
   "execution_count": 31,
   "metadata": {},
   "outputs": [],
   "source": [
    "def cross_validation(model_func, x_train, y_train, k=None, results=None, v=0):\n",
    "    # Train for 5 folds, returing ROC AUC. You can also try 'accuracy' as a scorer\n",
    "    n_folds = 5\n",
    "    scores_acc = cross_val_score(model_func, x_train, y_train, cv=n_folds, scoring='accuracy') # roc_auc accuracy\n",
    "    scores_roc = cross_val_score(model_func, x_train, y_train, cv=n_folds, scoring='roc_auc') # roc_auc accuracy\n",
    "    if results is not None:\n",
    "        results[k] = (scores_acc, scores_roc)\n",
    "    if v:\n",
    "        print('scores per fold ', scores_acc)\n",
    "        print('  mean score    ', np.mean(scores_acc))\n",
    "        print('  standard dev. ', np.std(scores_acc))"
   ]
  },
  {
   "cell_type": "code",
   "execution_count": 32,
   "metadata": {
    "scrolled": false
   },
   "outputs": [
    {
     "name": "stdout",
     "output_type": "stream",
     "text": [
      "Logit\n",
      "SVC\n",
      "Decision Tree\n",
      "KNN 5\n",
      "Ensemble Random Forest\n"
     ]
    }
   ],
   "source": [
    "models = {\n",
    "          'Logit': sklearn.linear_model.LogisticRegression(solver='liblinear',\n",
    "                                                           multi_class='ovr'),\n",
    "#           'SGD': sklearn.linear_model.SGDClassifier(loss=\"hinge\", penalty=\"l2\", max_iter=1000, tol=1e-3),\n",
    "#           'SVC auto': sklearn.svm.SVC(gamma='auto'), \n",
    "          'SVC': sklearn.svm.SVC(kernel='linear'), \n",
    "#           'SVC polynomial': sklearn.svm.SVC(kernel='poly', gamma='auto', degree=4),    \n",
    "          'Decision Tree':  sklearn.tree.DecisionTreeClassifier(),\n",
    "          'KNN 5': sklearn.neighbors.KNeighborsClassifier(n_neighbors=5),\n",
    "#           'KNN 10': sklearn.neighbors.KNeighborsClassifier(n_neighbors=10),\n",
    "          'Ensemble Random Forest': sklearn.ensemble.RandomForestClassifier(n_estimators=100),\n",
    "#           'Ensemble Bagging': sklearn.ensemble.BaggingClassifier(n_estimators=100)\n",
    "         }\n",
    "\n",
    "results = {}\n",
    "for k,m in models.items():\n",
    "    print(k)\n",
    "    cross_validation(m, x_train, y_train, k, results)"
   ]
  },
  {
   "cell_type": "code",
   "execution_count": 35,
   "metadata": {},
   "outputs": [
    {
     "name": "stdout",
     "output_type": "stream",
     "text": [
      "Model & Mean Acc & Std Acc & Mean ROC & Std ROC \\\\ \n",
      "\\hline\n",
      "Logit & 0.7098 & 0.0571 & 0.7031 & 0.1111\\\\\n",
      "SVC & 0.7029 & 0.0729 & 0.6869 & 0.1148\\\\\n",
      "Decision Tree & 0.5786 & 0.0865 & 0.5155 & 0.1119\\\\\n",
      "KNN 5 & 0.7392 & 0.0417 & 0.6568 & 0.0591\\\\\n",
      "Ensemble Random Forest & 0.7452 & 0.0765 & 0.6986 & 0.0969\\\\\n",
      "\n",
      "best acc: Ensemble Random Forest 0.7452\n"
     ]
    }
   ],
   "source": [
    "print('Model & Mean Acc & Std Acc & Mean ROC & Std ROC \\\\\\\\ \\n\\\\hline')\n",
    "best_k = ''\n",
    "best_mean = 0\n",
    "for k, (scores_acc, scores_roc) in results.items():\n",
    "    if np.mean(scores_acc) > best_mean:\n",
    "        best_mean = np.mean(scores_acc)\n",
    "        best_k = k\n",
    "    print('%s & %0.4f & %0.4f & %0.4f & %0.4f\\\\\\\\' % (k, np.mean(scores_acc), np.std(scores_acc), np.mean(scores_roc), np.std(scores_roc)))\n",
    "print('\\nbest acc:', best_k, round(best_mean,4))"
   ]
  },
  {
   "cell_type": "code",
   "execution_count": 36,
   "metadata": {},
   "outputs": [
    {
     "name": "stdout",
     "output_type": "stream",
     "text": [
      "Model & Mean Acc & Std Acc & Mean ROC & Std ROC \\\\ \n",
      "\\hline\n",
      "\n",
      "best roc: Logit 0.7031\n"
     ]
    }
   ],
   "source": [
    "print('Model & Mean Acc & Std Acc & Mean ROC & Std ROC \\\\\\\\ \\n\\\\hline')\n",
    "best_k = ''\n",
    "best_mean = 0\n",
    "for k, (scores_acc, scores_roc) in results.items():\n",
    "    if np.mean(scores_roc) > best_mean:\n",
    "        best_mean = np.mean(scores_roc)\n",
    "        best_k = k\n",
    "print('\\nbest roc:', best_k, round(best_mean,4))"
   ]
  },
  {
   "cell_type": "code",
   "execution_count": 20,
   "metadata": {},
   "outputs": [
    {
     "name": "stdout",
     "output_type": "stream",
     "text": [
      "0.6522\n",
      "0.6288\n"
     ]
    }
   ],
   "source": [
    "# reinit models\n",
    "models = {\n",
    "          'Logit': sklearn.linear_model.LogisticRegression(solver='liblinear',\n",
    "                                                           multi_class='ovr'),\n",
    "#           'SGD': sklearn.linear_model.SGDClassifier(loss=\"hinge\", penalty=\"l2\", max_iter=1000, tol=1e-3),\n",
    "#           'SVC auto': sklearn.svm.SVC(gamma='auto'), \n",
    "          'SVC': sklearn.svm.SVC(kernel='linear'), \n",
    "#           'SVC polynomial': sklearn.svm.SVC(kernel='poly', gamma='auto', degree=4),    \n",
    "          'Decision Tree':  sklearn.tree.DecisionTreeClassifier(),\n",
    "          'KNN 5': sklearn.neighbors.KNeighborsClassifier(n_neighbors=5),\n",
    "#           'KNN 10': sklearn.neighbors.KNeighborsClassifier(n_neighbors=10),\n",
    "          'Ensemble Random Forest': sklearn.ensemble.RandomForestClassifier(n_estimators=100),\n",
    "#           'Ensemble Bagging': sklearn.ensemble.BaggingClassifier(n_estimators=100)\n",
    "         }\n",
    "\n",
    "# train best model on whole dataset\n",
    "model = models[best_k]\n",
    "model.fit(x_train, y_train)\n",
    "y_pred = model.predict(x_test)\n",
    "\n",
    "for v in [sklearn.metrics.accuracy_score(y_test, y_pred), \n",
    "          sklearn.metrics.roc_auc_score(y_test, y_pred)]:\n",
    "    print(round(v,4))"
   ]
  },
  {
   "cell_type": "code",
   "execution_count": 52,
   "metadata": {},
   "outputs": [
    {
     "name": "stdout",
     "output_type": "stream",
     "text": [
      "Logit -0.7425503772682113 0.4789872851462843 False\n",
      "SVC -0.8011474640503641 0.44618595862459 False\n",
      "Decision Tree -2.88614543293305 0.02031897748461718 True\n",
      "KNN 5 -0.13963134782656522 0.8924025856403036 False\n"
     ]
    }
   ],
   "source": [
    "best_k = 'Ensemble Random Forest'\n",
    "model = models[best_k]\n",
    "for k,v in results.items():\n",
    "    if k != best_k:\n",
    "        i = 0\n",
    "        s,p = scipy.stats.ttest_ind(v[i], results[best_k][i])\n",
    "        print(k,s,p, p < 0.05)"
   ]
  },
  {
   "cell_type": "markdown",
   "metadata": {},
   "source": [
    "Both the acc and roc are not always significant"
   ]
  },
  {
   "cell_type": "code",
   "execution_count": 21,
   "metadata": {},
   "outputs": [],
   "source": [
    "subkeys = []\n",
    "for i,k in enumerate(keys):\n",
    "    for v in E.encoders['x'].categories_[i]:\n",
    "        subkeys.append(k + '_' + str(v))\n",
    "\n",
    "assert len(subkeys) == pd.DataFrame(X_enc.toarray()).shape[1]"
   ]
  },
  {
   "cell_type": "code",
   "execution_count": 92,
   "metadata": {},
   "outputs": [
    {
     "name": "stdout",
     "output_type": "stream",
     "text": [
      "best features: indices, values\n"
     ]
    },
    {
     "data": {
      "text/plain": [
       "(array([22, 42, 26]), array([0.04854745, 0.04773113, 0.0440498 ]))"
      ]
     },
     "execution_count": 92,
     "metadata": {},
     "output_type": "execute_result"
    }
   ],
   "source": [
    "# model.fit(X_enc, Y_enc)\n",
    "indices = np.argsort(model.feature_importances_)\n",
    "indices = np.flip(indices)\n",
    "n = 3\n",
    "print('best features: indices, values')\n",
    "indices[:n], model.feature_importances_[indices[:n]]"
   ]
  },
  {
   "cell_type": "code",
   "execution_count": 91,
   "metadata": {},
   "outputs": [
    {
     "name": "stdout",
     "output_type": "stream",
     "text": [
      "IR_Yes\n",
      "Programme_CLS\n",
      "DB_No\n"
     ]
    }
   ],
   "source": [
    "for i in indices[:3]:\n",
    "    vec = np.zeros(X_enc.shape[1])\n",
    "    vec[i] = 1\n",
    "    print(subkeys[i])"
   ]
  },
  {
   "cell_type": "markdown",
   "metadata": {},
   "source": [
    "# Association rules"
   ]
  },
  {
   "cell_type": "code",
   "execution_count": 22,
   "metadata": {},
   "outputs": [
    {
     "data": {
      "text/html": [
       "<div>\n",
       "<style scoped>\n",
       "    .dataframe tbody tr th:only-of-type {\n",
       "        vertical-align: middle;\n",
       "    }\n",
       "\n",
       "    .dataframe tbody tr th {\n",
       "        vertical-align: top;\n",
       "    }\n",
       "\n",
       "    .dataframe thead th {\n",
       "        text-align: right;\n",
       "    }\n",
       "</style>\n",
       "<table border=\"1\" class=\"dataframe\">\n",
       "  <thead>\n",
       "    <tr style=\"text-align: right;\">\n",
       "      <th></th>\n",
       "      <th>Year bin_0.0</th>\n",
       "      <th>Year bin_1.0</th>\n",
       "      <th>Year bin_2.0</th>\n",
       "      <th>Year bin_3.0</th>\n",
       "      <th>Year bin_4.0</th>\n",
       "      <th>Money bin_0.0</th>\n",
       "      <th>Money bin_1.0</th>\n",
       "      <th>Money bin_2.0</th>\n",
       "      <th>Money bin_3.0</th>\n",
       "      <th>Money bin_4.0</th>\n",
       "      <th>...</th>\n",
       "      <th>Stand Up_unknown</th>\n",
       "      <th>Stand Up_yes</th>\n",
       "      <th>Programme_AI</th>\n",
       "      <th>Programme_BA</th>\n",
       "      <th>Programme_BIO</th>\n",
       "      <th>Programme_CLS</th>\n",
       "      <th>Programme_CS</th>\n",
       "      <th>Programme_IS</th>\n",
       "      <th>Programme_Other</th>\n",
       "      <th>Programme_QRM</th>\n",
       "    </tr>\n",
       "  </thead>\n",
       "  <tbody>\n",
       "    <tr>\n",
       "      <th>0</th>\n",
       "      <td>0.0</td>\n",
       "      <td>0.0</td>\n",
       "      <td>0.0</td>\n",
       "      <td>1.0</td>\n",
       "      <td>0.0</td>\n",
       "      <td>0.0</td>\n",
       "      <td>0.0</td>\n",
       "      <td>0.0</td>\n",
       "      <td>0.0</td>\n",
       "      <td>1.0</td>\n",
       "      <td>...</td>\n",
       "      <td>0.0</td>\n",
       "      <td>0.0</td>\n",
       "      <td>1.0</td>\n",
       "      <td>0.0</td>\n",
       "      <td>0.0</td>\n",
       "      <td>0.0</td>\n",
       "      <td>0.0</td>\n",
       "      <td>0.0</td>\n",
       "      <td>0.0</td>\n",
       "      <td>0.0</td>\n",
       "    </tr>\n",
       "    <tr>\n",
       "      <th>1</th>\n",
       "      <td>0.0</td>\n",
       "      <td>0.0</td>\n",
       "      <td>1.0</td>\n",
       "      <td>0.0</td>\n",
       "      <td>0.0</td>\n",
       "      <td>1.0</td>\n",
       "      <td>0.0</td>\n",
       "      <td>0.0</td>\n",
       "      <td>0.0</td>\n",
       "      <td>0.0</td>\n",
       "      <td>...</td>\n",
       "      <td>0.0</td>\n",
       "      <td>0.0</td>\n",
       "      <td>1.0</td>\n",
       "      <td>0.0</td>\n",
       "      <td>0.0</td>\n",
       "      <td>0.0</td>\n",
       "      <td>0.0</td>\n",
       "      <td>0.0</td>\n",
       "      <td>0.0</td>\n",
       "      <td>0.0</td>\n",
       "    </tr>\n",
       "    <tr>\n",
       "      <th>2</th>\n",
       "      <td>0.0</td>\n",
       "      <td>0.0</td>\n",
       "      <td>0.0</td>\n",
       "      <td>1.0</td>\n",
       "      <td>0.0</td>\n",
       "      <td>1.0</td>\n",
       "      <td>0.0</td>\n",
       "      <td>0.0</td>\n",
       "      <td>0.0</td>\n",
       "      <td>0.0</td>\n",
       "      <td>...</td>\n",
       "      <td>1.0</td>\n",
       "      <td>0.0</td>\n",
       "      <td>0.0</td>\n",
       "      <td>0.0</td>\n",
       "      <td>0.0</td>\n",
       "      <td>0.0</td>\n",
       "      <td>1.0</td>\n",
       "      <td>0.0</td>\n",
       "      <td>0.0</td>\n",
       "      <td>0.0</td>\n",
       "    </tr>\n",
       "    <tr>\n",
       "      <th>3</th>\n",
       "      <td>0.0</td>\n",
       "      <td>0.0</td>\n",
       "      <td>1.0</td>\n",
       "      <td>0.0</td>\n",
       "      <td>0.0</td>\n",
       "      <td>0.0</td>\n",
       "      <td>0.0</td>\n",
       "      <td>1.0</td>\n",
       "      <td>0.0</td>\n",
       "      <td>0.0</td>\n",
       "      <td>...</td>\n",
       "      <td>0.0</td>\n",
       "      <td>0.0</td>\n",
       "      <td>0.0</td>\n",
       "      <td>0.0</td>\n",
       "      <td>0.0</td>\n",
       "      <td>0.0</td>\n",
       "      <td>1.0</td>\n",
       "      <td>0.0</td>\n",
       "      <td>0.0</td>\n",
       "      <td>0.0</td>\n",
       "    </tr>\n",
       "    <tr>\n",
       "      <th>4</th>\n",
       "      <td>0.0</td>\n",
       "      <td>0.0</td>\n",
       "      <td>0.0</td>\n",
       "      <td>1.0</td>\n",
       "      <td>0.0</td>\n",
       "      <td>1.0</td>\n",
       "      <td>0.0</td>\n",
       "      <td>0.0</td>\n",
       "      <td>0.0</td>\n",
       "      <td>0.0</td>\n",
       "      <td>...</td>\n",
       "      <td>0.0</td>\n",
       "      <td>0.0</td>\n",
       "      <td>0.0</td>\n",
       "      <td>0.0</td>\n",
       "      <td>0.0</td>\n",
       "      <td>0.0</td>\n",
       "      <td>1.0</td>\n",
       "      <td>0.0</td>\n",
       "      <td>0.0</td>\n",
       "      <td>0.0</td>\n",
       "    </tr>\n",
       "  </tbody>\n",
       "</table>\n",
       "<p>5 rows × 47 columns</p>\n",
       "</div>"
      ],
      "text/plain": [
       "   Year bin_0.0  Year bin_1.0  Year bin_2.0  Year bin_3.0  Year bin_4.0  \\\n",
       "0           0.0           0.0           0.0           1.0           0.0   \n",
       "1           0.0           0.0           1.0           0.0           0.0   \n",
       "2           0.0           0.0           0.0           1.0           0.0   \n",
       "3           0.0           0.0           1.0           0.0           0.0   \n",
       "4           0.0           0.0           0.0           1.0           0.0   \n",
       "\n",
       "   Money bin_0.0  Money bin_1.0  Money bin_2.0  Money bin_3.0  Money bin_4.0  \\\n",
       "0            0.0            0.0            0.0            0.0            1.0   \n",
       "1            1.0            0.0            0.0            0.0            0.0   \n",
       "2            1.0            0.0            0.0            0.0            0.0   \n",
       "3            0.0            0.0            1.0            0.0            0.0   \n",
       "4            1.0            0.0            0.0            0.0            0.0   \n",
       "\n",
       "       ...        Stand Up_unknown  Stand Up_yes  Programme_AI  Programme_BA  \\\n",
       "0      ...                     0.0           0.0           1.0           0.0   \n",
       "1      ...                     0.0           0.0           1.0           0.0   \n",
       "2      ...                     1.0           0.0           0.0           0.0   \n",
       "3      ...                     0.0           0.0           0.0           0.0   \n",
       "4      ...                     0.0           0.0           0.0           0.0   \n",
       "\n",
       "   Programme_BIO  Programme_CLS  Programme_CS  Programme_IS  Programme_Other  \\\n",
       "0            0.0            0.0           0.0           0.0              0.0   \n",
       "1            0.0            0.0           0.0           0.0              0.0   \n",
       "2            0.0            0.0           1.0           0.0              0.0   \n",
       "3            0.0            0.0           1.0           0.0              0.0   \n",
       "4            0.0            0.0           1.0           0.0              0.0   \n",
       "\n",
       "   Programme_QRM  \n",
       "0            0.0  \n",
       "1            0.0  \n",
       "2            0.0  \n",
       "3            0.0  \n",
       "4            0.0  \n",
       "\n",
       "[5 rows x 47 columns]"
      ]
     },
     "execution_count": 22,
     "metadata": {},
     "output_type": "execute_result"
    }
   ],
   "source": [
    "# data_enc = pd.DataFrame(X_enc.toarray(), columns=subkeys, dtype=bool)\n",
    "data_enc = pd.SparseDataFrame(X_enc, columns=subkeys, default_fill_value=False)\n",
    "data_enc.head()"
   ]
  },
  {
   "cell_type": "code",
   "execution_count": 23,
   "metadata": {
    "scrolled": false
   },
   "outputs": [
    {
     "data": {
      "text/html": [
       "<div>\n",
       "<style scoped>\n",
       "    .dataframe tbody tr th:only-of-type {\n",
       "        vertical-align: middle;\n",
       "    }\n",
       "\n",
       "    .dataframe tbody tr th {\n",
       "        vertical-align: top;\n",
       "    }\n",
       "\n",
       "    .dataframe thead th {\n",
       "        text-align: right;\n",
       "    }\n",
       "</style>\n",
       "<table border=\"1\" class=\"dataframe\">\n",
       "  <thead>\n",
       "    <tr style=\"text-align: right;\">\n",
       "      <th></th>\n",
       "      <th>support</th>\n",
       "      <th>itemsets</th>\n",
       "      <th>length</th>\n",
       "    </tr>\n",
       "  </thead>\n",
       "  <tbody>\n",
       "    <tr>\n",
       "      <th>0</th>\n",
       "      <td>0.967391</td>\n",
       "      <td>(Neighbours bin_0.0)</td>\n",
       "      <td>1</td>\n",
       "    </tr>\n",
       "    <tr>\n",
       "      <th>1</th>\n",
       "      <td>0.876812</td>\n",
       "      <td>(Stat_Yes)</td>\n",
       "      <td>1</td>\n",
       "    </tr>\n",
       "    <tr>\n",
       "      <th>2</th>\n",
       "      <td>0.659420</td>\n",
       "      <td>(Gender_male)</td>\n",
       "      <td>1</td>\n",
       "    </tr>\n",
       "    <tr>\n",
       "      <th>3</th>\n",
       "      <td>0.902174</td>\n",
       "      <td>(Stand Up_no)</td>\n",
       "      <td>1</td>\n",
       "    </tr>\n",
       "    <tr>\n",
       "      <th>4</th>\n",
       "      <td>0.855072</td>\n",
       "      <td>(Stat_Yes, Neighbours bin_0.0)</td>\n",
       "      <td>2</td>\n",
       "    </tr>\n",
       "    <tr>\n",
       "      <th>5</th>\n",
       "      <td>0.637681</td>\n",
       "      <td>(Gender_male, Neighbours bin_0.0)</td>\n",
       "      <td>2</td>\n",
       "    </tr>\n",
       "    <tr>\n",
       "      <th>6</th>\n",
       "      <td>0.880435</td>\n",
       "      <td>(Stand Up_no, Neighbours bin_0.0)</td>\n",
       "      <td>2</td>\n",
       "    </tr>\n",
       "    <tr>\n",
       "      <th>7</th>\n",
       "      <td>0.804348</td>\n",
       "      <td>(Stat_Yes, Stand Up_no)</td>\n",
       "      <td>2</td>\n",
       "    </tr>\n",
       "    <tr>\n",
       "      <th>8</th>\n",
       "      <td>0.789855</td>\n",
       "      <td>(Stat_Yes, Neighbours bin_0.0, Stand Up_no)</td>\n",
       "      <td>3</td>\n",
       "    </tr>\n",
       "  </tbody>\n",
       "</table>\n",
       "</div>"
      ],
      "text/plain": [
       "    support                                     itemsets  length\n",
       "0  0.967391                         (Neighbours bin_0.0)       1\n",
       "1  0.876812                                   (Stat_Yes)       1\n",
       "2  0.659420                                (Gender_male)       1\n",
       "3  0.902174                                (Stand Up_no)       1\n",
       "4  0.855072               (Stat_Yes, Neighbours bin_0.0)       2\n",
       "5  0.637681            (Gender_male, Neighbours bin_0.0)       2\n",
       "6  0.880435            (Stand Up_no, Neighbours bin_0.0)       2\n",
       "7  0.804348                      (Stat_Yes, Stand Up_no)       2\n",
       "8  0.789855  (Stat_Yes, Neighbours bin_0.0, Stand Up_no)       3"
      ]
     },
     "execution_count": 23,
     "metadata": {},
     "output_type": "execute_result"
    }
   ],
   "source": [
    "# http://rasbt.github.io/mlxtend/user_guide/frequent_patterns/apriori/\n",
    "frequent_itemsets = apriori(data_enc, min_support=0.6, use_colnames=True)\n",
    "frequent_itemsets['length'] = frequent_itemsets['itemsets'].apply(lambda x: len(x))\n",
    "frequent_itemsets"
   ]
  },
  {
   "cell_type": "code",
   "execution_count": 24,
   "metadata": {},
   "outputs": [
    {
     "data": {
      "text/html": [
       "<div>\n",
       "<style scoped>\n",
       "    .dataframe tbody tr th:only-of-type {\n",
       "        vertical-align: middle;\n",
       "    }\n",
       "\n",
       "    .dataframe tbody tr th {\n",
       "        vertical-align: top;\n",
       "    }\n",
       "\n",
       "    .dataframe thead th {\n",
       "        text-align: right;\n",
       "    }\n",
       "</style>\n",
       "<table border=\"1\" class=\"dataframe\">\n",
       "  <thead>\n",
       "    <tr style=\"text-align: right;\">\n",
       "      <th></th>\n",
       "      <th>support</th>\n",
       "      <th>itemsets</th>\n",
       "      <th>length</th>\n",
       "    </tr>\n",
       "  </thead>\n",
       "  <tbody>\n",
       "    <tr>\n",
       "      <th>8</th>\n",
       "      <td>0.789855</td>\n",
       "      <td>(Stat_Yes, Neighbours bin_0.0, Stand Up_no)</td>\n",
       "      <td>3</td>\n",
       "    </tr>\n",
       "  </tbody>\n",
       "</table>\n",
       "</div>"
      ],
      "text/plain": [
       "    support                                     itemsets  length\n",
       "8  0.789855  (Stat_Yes, Neighbours bin_0.0, Stand Up_no)       3"
      ]
     },
     "execution_count": 24,
     "metadata": {},
     "output_type": "execute_result"
    }
   ],
   "source": [
    "frequent_itemsets[ (frequent_itemsets['length'] >= 3) &\n",
    "                   (frequent_itemsets['support'] >= 0.6) ]"
   ]
  },
  {
   "cell_type": "code",
   "execution_count": 25,
   "metadata": {},
   "outputs": [
    {
     "data": {
      "text/html": [
       "<div>\n",
       "<style scoped>\n",
       "    .dataframe tbody tr th:only-of-type {\n",
       "        vertical-align: middle;\n",
       "    }\n",
       "\n",
       "    .dataframe tbody tr th {\n",
       "        vertical-align: top;\n",
       "    }\n",
       "\n",
       "    .dataframe thead th {\n",
       "        text-align: right;\n",
       "    }\n",
       "</style>\n",
       "<table border=\"1\" class=\"dataframe\">\n",
       "  <thead>\n",
       "    <tr style=\"text-align: right;\">\n",
       "      <th></th>\n",
       "      <th>support</th>\n",
       "      <th>itemsets</th>\n",
       "      <th>length</th>\n",
       "    </tr>\n",
       "  </thead>\n",
       "  <tbody>\n",
       "    <tr>\n",
       "      <th>4</th>\n",
       "      <td>0.855072</td>\n",
       "      <td>(Stat_Yes, Neighbours bin_0.0)</td>\n",
       "      <td>2</td>\n",
       "    </tr>\n",
       "    <tr>\n",
       "      <th>6</th>\n",
       "      <td>0.880435</td>\n",
       "      <td>(Stand Up_no, Neighbours bin_0.0)</td>\n",
       "      <td>2</td>\n",
       "    </tr>\n",
       "    <tr>\n",
       "      <th>7</th>\n",
       "      <td>0.804348</td>\n",
       "      <td>(Stat_Yes, Stand Up_no)</td>\n",
       "      <td>2</td>\n",
       "    </tr>\n",
       "    <tr>\n",
       "      <th>8</th>\n",
       "      <td>0.789855</td>\n",
       "      <td>(Stat_Yes, Neighbours bin_0.0, Stand Up_no)</td>\n",
       "      <td>3</td>\n",
       "    </tr>\n",
       "  </tbody>\n",
       "</table>\n",
       "</div>"
      ],
      "text/plain": [
       "    support                                     itemsets  length\n",
       "4  0.855072               (Stat_Yes, Neighbours bin_0.0)       2\n",
       "6  0.880435            (Stand Up_no, Neighbours bin_0.0)       2\n",
       "7  0.804348                      (Stat_Yes, Stand Up_no)       2\n",
       "8  0.789855  (Stat_Yes, Neighbours bin_0.0, Stand Up_no)       3"
      ]
     },
     "execution_count": 25,
     "metadata": {},
     "output_type": "execute_result"
    }
   ],
   "source": [
    "frequent_itemsets[ (frequent_itemsets['length'] >= 2) &\n",
    "                   (frequent_itemsets['support'] >= 0.7) ]"
   ]
  },
  {
   "cell_type": "code",
   "execution_count": null,
   "metadata": {},
   "outputs": [],
   "source": []
  },
  {
   "cell_type": "code",
   "execution_count": null,
   "metadata": {},
   "outputs": [],
   "source": []
  },
  {
   "cell_type": "code",
   "execution_count": null,
   "metadata": {},
   "outputs": [],
   "source": []
  },
  {
   "cell_type": "code",
   "execution_count": null,
   "metadata": {},
   "outputs": [],
   "source": []
  }
 ],
 "metadata": {
  "kernelspec": {
   "display_name": "Python 3",
   "language": "python",
   "name": "python3"
  },
  "language_info": {
   "codemirror_mode": {
    "name": "ipython",
    "version": 3
   },
   "file_extension": ".py",
   "mimetype": "text/x-python",
   "name": "python",
   "nbconvert_exporter": "python",
   "pygments_lexer": "ipython3",
   "version": "3.6.8"
  }
 },
 "nbformat": 4,
 "nbformat_minor": 2
}
