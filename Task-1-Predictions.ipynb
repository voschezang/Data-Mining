{
 "cells": [
  {
   "cell_type": "code",
   "execution_count": 62,
   "metadata": {},
   "outputs": [],
   "source": [
    "# %matplotlib notebook\n",
    "# %matplotlib inline\n",
    "import numpy as np\n",
    "import pickle\n",
    "np.random.seed(123)\n",
    "import collections, copy, pickle\n",
    "from importlib import reload\n",
    "from dateutil.parser import parse\n",
    "import scipy.linalg\n",
    "import pandas as pd\n",
    "import sklearn\n",
    "import matplotlib\n",
    "import matplotlib.pyplot as plt\n",
    "from matplotlib.ticker import NullFormatter\n",
    "from matplotlib import rcParams\n",
    "rcParams['font.family'] = 'serif'\n",
    "rcParams['font.size'] = 14\n",
    "# rcParams['text.usetex'] = True\n",
    "from IPython.display import HTML"
   ]
  },
  {
   "cell_type": "code",
   "execution_count": 172,
   "metadata": {},
   "outputs": [],
   "source": [
    "from mlxtend.frequent_patterns import apriori\n",
    "\n",
    "import sklearn.ensemble\n",
    "import sklearn.svm\n",
    "import sklearn.tree\n",
    "import sklearn.linear_model\n",
    "import sklearn.neighbors\n",
    "\n",
    "from sklearn.model_selection import cross_val_score\n",
    "from sklearn.model_selection import train_test_split\n",
    "import sklearn.metrics\n",
    "\n",
    "from sklearn import preprocessing\n",
    "from sklearn.preprocessing import OneHotEncoder\n",
    "from sklearn.model_selection import train_test_split"
   ]
  },
  {
   "cell_type": "code",
   "execution_count": 64,
   "metadata": {},
   "outputs": [],
   "source": [
    "import util.plot\n",
    "import util.string"
   ]
  },
  {
   "cell_type": "code",
   "execution_count": 65,
   "metadata": {},
   "outputs": [],
   "source": [
    "# https://github.com/pbloem/machine-learning/blob/master/worksheets/Worksheet%202%2C%20Sklearn.ipynb"
   ]
  },
  {
   "cell_type": "code",
   "execution_count": 66,
   "metadata": {},
   "outputs": [],
   "source": [
    "# data = pd.read_csv('ODI-2019-clean.csv', sep=';')\n",
    "fn = 'ODI-2019-clean.pkl'\n",
    "# load (old) data from disk\n",
    "with open(fn, 'rb') as f:\n",
    "    data = pickle.load(f)"
   ]
  },
  {
   "cell_type": "code",
   "execution_count": 6,
   "metadata": {},
   "outputs": [],
   "source": [
    "# data.head()"
   ]
  },
  {
   "cell_type": "markdown",
   "metadata": {},
   "source": [
    "## Categorical models"
   ]
  },
  {
   "cell_type": "markdown",
   "metadata": {},
   "source": [
    "https://scikit-learn.org/stable/modules/classes.html#module-sklearn.preprocessing"
   ]
  },
  {
   "cell_type": "markdown",
   "metadata": {},
   "source": [
    "# Discretization\n",
    "\n",
    "https://scikit-learn.org/stable/modules/preprocessing.html#preprocessing-categorical-features\n",
    "\n",
    "https://scikit-learn.org/stable/auto_examples/preprocessing/plot_discretization_strategies.html#sphx-glr-auto-examples-preprocessing-plot-discretization-strategies-py\n",
    "\n",
    "Strategies:\n",
    "-    ‘uniform’: The discretization is uniform in each feature, which means that the bin widths are constant in each dimension.\n",
    "-    quantile’: The discretization is done on the quantiled values, which means that each bin has approximately the same number of samples.\n",
    "       - this causes outliers to be grouped together\n",
    "-    ‘kmeans’: The discretization is based on the centroids of a KMeans clustering procedure."
   ]
  },
  {
   "cell_type": "code",
   "execution_count": 8,
   "metadata": {},
   "outputs": [],
   "source": [
    "class Encoders: pass\n",
    "E = Encoders()\n",
    "E.discretizers = {}\n",
    "E.encoders = {}"
   ]
  },
  {
   "cell_type": "code",
   "execution_count": 101,
   "metadata": {},
   "outputs": [],
   "source": [
    "key = 'Other'\n",
    "# reload(util.data)\n",
    "most_common = util.data.select_most_common(data.Programme, n=8, key=key)\n",
    "value = np.array(list(most_common.values()))\n",
    "# note that pd.where different than np.where\n",
    "keys = most_common.keys()\n",
    "data.Programme.where(data.Programme.isin(keys), key, inplace=True)"
   ]
  },
  {
   "cell_type": "code",
   "execution_count": 102,
   "metadata": {},
   "outputs": [],
   "source": [
    "def discretize(data, k, n_bins=5):\n",
    "    X = data[k]\n",
    "    avg = np.nanmedian([x for x in X])\n",
    "    X = np.where(np.isnan(X), avg, X)\n",
    "    X = X.reshape(-1,1)\n",
    "    bins = np.repeat(n_bins, X.shape[1]) # e.g. [5,3] for 2 features\n",
    "    # encode to integers\n",
    "    est = preprocessing.KBinsDiscretizer(n_bins=bins, encode='ordinal', strategy='kmeans')\n",
    "    est.fit(X)\n",
    "    data[k + ' bin'] = est.transform(X)\n",
    "    E.discretizers[k] = est\n",
    "    s = ''\n",
    "    for st in [round(a,3) for a in est.bin_edges_[0]]:\n",
    "        if k == 'Year':\n",
    "            st = int(round(st))\n",
    "        s += str(st) + ', '\n",
    "    print('%s: $\\\\{%s\\\\}$\\n' % (k,s[:-2]))"
   ]
  },
  {
   "cell_type": "code",
   "execution_count": 103,
   "metadata": {},
   "outputs": [
    {
     "name": "stdout",
     "output_type": "stream",
     "text": [
      "Year: $\\{1971, 1981, 1991, 1994, 1996, 2001\\}$\n",
      "\n",
      "Money: $\\{0.0, 13.77, 37.19, 64.316, 88.56, 100.0\\}$\n",
      "\n",
      "Neighbours: $\\{0.0, 12.711, 28.4, 42.5, 64.25, 80.0\\}$\n",
      "\n",
      "Stress level: $\\{0.0, 15.307, 38.186, 62.413, 86.179, 100.0\\}$\n",
      "\n"
     ]
    }
   ],
   "source": [
    "numerical = ['Year', 'Money', 'Neighbours', 'Stress level']\n",
    "for k in numerical:\n",
    "    discretize(data, k)"
   ]
  },
  {
   "cell_type": "code",
   "execution_count": 104,
   "metadata": {},
   "outputs": [],
   "source": [
    "# def plot_discretizer(X, enc):\n",
    "#     fig = plt.figure()\n",
    "#     ax = fig.add_subplot(111)\n",
    "    \n",
    "#     xx, yy = np.meshgrid(\n",
    "#         np.linspace(X[:, 0].min(), X[:, 0].max(), 300),\n",
    "#         np.linspace(X[:, 1].min(), X[:, 1].max(), 300))\n",
    "#     grid = np.c_[xx.ravel(), yy.ravel()]\n",
    "\n",
    "#     ax.set_xlim(xx.min(), xx.max())\n",
    "#     ax.set_ylim(yy.min(), yy.max())\n",
    "#     ax.set_xticks(())\n",
    "#     ax.set_yticks(())\n",
    "\n",
    "#     # transform the dataset with KBinsDiscretizer\n",
    "#     enc.fit(X)\n",
    "#     grid_encoded = enc.transform(grid)\n",
    "\n",
    "#     ax = plt.subplot(len(X_list), len(strategies) + 1, i)\n",
    "\n",
    "#      # horizontal stripes\n",
    "#     horizontal = grid_encoded[:, 0].reshape(xx.shape)\n",
    "#     ax.contourf(xx, yy, horizontal, alpha=.5)\n",
    "#     # vertical stripes\n",
    "#     vertical = grid_encoded[:, 1].reshape(xx.shape)\n",
    "#     ax.contourf(xx, yy, vertical, alpha=.5)\n",
    "\n",
    "#     ax.scatter(X[:, 0], X[:, 1], edgecolors='k')\n",
    "#     ax.set_xlim(xx.min(), xx.max())\n",
    "#     ax.set_ylim(yy.min(), yy.max())\n",
    "#     ax.set_xticks(())\n",
    "#     ax.set_yticks(())\n",
    "#     if ds_cnt == 0:\n",
    "#         ax.set_title(\"strategy='%s'\" % (strategy, ), size=14)"
   ]
  },
  {
   "cell_type": "code",
   "execution_count": 132,
   "metadata": {},
   "outputs": [
    {
     "data": {
      "text/plain": [
       "[array([0.0, 1.0, 2.0, 3.0, 4.0], dtype=object),\n",
       " array([0.0, 1.0, 2.0, 3.0, 4.0], dtype=object),\n",
       " array([0.0, 1.0, 2.0, 3.0, 4.0], dtype=object),\n",
       " array([0.0, 1.0, 2.0, 3.0, 4.0], dtype=object),\n",
       " array(['No', 'Unknown', 'Yes'], dtype=object),\n",
       " array(['No', 'Unknown', 'Yes'], dtype=object),\n",
       " array(['No', 'Unknown', 'Yes'], dtype=object),\n",
       " array(['female', 'male', 'unknown'], dtype=object),\n",
       " array(['Fat', 'Neither', 'Slim', 'Unknown'], dtype=object),\n",
       " array(['no', 'unknown', 'yes'], dtype=object),\n",
       " array(['AI', 'BA', 'CLS', 'CS', 'Other'], dtype=object)]"
      ]
     },
     "execution_count": 132,
     "metadata": {},
     "output_type": "execute_result"
    }
   ],
   "source": [
    "def init_encoder(columns):\n",
    "    E.encoders['x'] = preprocessing.OneHotEncoder()\n",
    "    enc = E.encoders['x']\n",
    "    enc.fit(columns)\n",
    "    return enc.transform(columns)\n",
    "\n",
    "categorical = ['ML', 'IR', 'Stat', 'DB', 'Gender', 'Chocolate', 'Stand Up', 'Programme']\n",
    "y = 'ML'\n",
    "categorical.remove(y)\n",
    "keys = [k + ' bin' for k in numerical] + categorical\n",
    "X_enc = init_encoder(data[keys])\n",
    "E.encoders['x'].categories_"
   ]
  },
  {
   "cell_type": "code",
   "execution_count": 133,
   "metadata": {},
   "outputs": [
    {
     "data": {
      "text/plain": [
       "array(['No', 'Yes'], dtype=object)"
      ]
     },
     "execution_count": 133,
     "metadata": {},
     "output_type": "execute_result"
    }
   ],
   "source": [
    "def init_label_encoder(column):\n",
    "    E.encoders['y'] = preprocessing.LabelEncoder()\n",
    "    enc = E.encoders['y']\n",
    "    enc.fit(column)\n",
    "    return enc.transform(column)\n",
    "\n",
    "Y_enc = init_label_encoder(data[y])\n",
    "E.encoders['y'].classes_"
   ]
  },
  {
   "cell_type": "code",
   "execution_count": 134,
   "metadata": {},
   "outputs": [
    {
     "data": {
      "text/plain": [
       "((276, 44), (276,))"
      ]
     },
     "execution_count": 134,
     "metadata": {},
     "output_type": "execute_result"
    }
   ],
   "source": [
    "X_enc.shape, Y_enc.shape"
   ]
  },
  {
   "cell_type": "code",
   "execution_count": 135,
   "metadata": {},
   "outputs": [
    {
     "data": {
      "text/plain": [
       "((138, 44), (138,))"
      ]
     },
     "execution_count": 135,
     "metadata": {},
     "output_type": "execute_result"
    }
   ],
   "source": [
    "x_train, x_test, y_train, y_test = train_test_split(X_enc, Y_enc, test_size=0.5)\n",
    "x_train.shape, y_train.shape"
   ]
  },
  {
   "cell_type": "code",
   "execution_count": 176,
   "metadata": {},
   "outputs": [],
   "source": [
    "def cross_validation(model_func, x_train, y_train, k=None, results=None, v=0):\n",
    "    # Train for 5 folds, returing ROC AUC. You can also try 'accuracy' as a scorer\n",
    "    n_folds = 5\n",
    "    scores_acc = cross_val_score(model_func, x_train, y_train, cv=n_folds, scoring='accuracy') # roc_auc accuracy\n",
    "    scores_roc = cross_val_score(model_func, x_train, y_train, cv=n_folds, scoring='roc_auc') # roc_auc accuracy\n",
    "    if results is not None:\n",
    "        results[k] = (scores_acc, scores_roc)\n",
    "    if v:\n",
    "        print('scores per fold ', scores_acc)\n",
    "        print('  mean score    ', np.mean(scores_acc))\n",
    "        print('  standard dev. ', np.std(scores_acc))"
   ]
  },
  {
   "cell_type": "code",
   "execution_count": 182,
   "metadata": {
    "scrolled": false
   },
   "outputs": [
    {
     "name": "stdout",
     "output_type": "stream",
     "text": [
      "Logit\n",
      "SVC\n",
      "Decision Tree\n",
      "KNN 5\n",
      "Ensemble Random Forest\n"
     ]
    }
   ],
   "source": [
    "models = {\n",
    "          'Logit': sklearn.linear_model.LogisticRegression(solver='liblinear',\n",
    "                                                           multi_class='ovr'),\n",
    "#           'SGD': sklearn.linear_model.SGDClassifier(loss=\"hinge\", penalty=\"l2\", max_iter=1000, tol=1e-3),\n",
    "#           'SVC auto': sklearn.svm.SVC(gamma='auto'), \n",
    "          'SVC': sklearn.svm.SVC(kernel='linear'), \n",
    "#           'SVC polynomial': sklearn.svm.SVC(kernel='poly', gamma='auto', degree=4),    \n",
    "          'Decision Tree':  sklearn.tree.DecisionTreeClassifier(),\n",
    "          'KNN 5': sklearn.neighbors.KNeighborsClassifier(n_neighbors=5),\n",
    "#           'KNN 10': sklearn.neighbors.KNeighborsClassifier(n_neighbors=10),\n",
    "          'Ensemble Random Forest': sklearn.ensemble.RandomForestClassifier(n_estimators=100),\n",
    "#           'Ensemble Bagging': sklearn.ensemble.BaggingClassifier(n_estimators=100)\n",
    "         }\n",
    "\n",
    "results = {}\n",
    "for k,m in models.items():\n",
    "    print(k)\n",
    "    cross_validation(m, x_train, y_train, k, results)"
   ]
  },
  {
   "cell_type": "code",
   "execution_count": 183,
   "metadata": {},
   "outputs": [
    {
     "name": "stdout",
     "output_type": "stream",
     "text": [
      "Model & Mean Acc & Std Acc & Mean ROC & Std ROC \\\\ \n",
      "\\hline\n",
      "Logit & 0.7320 & 0.0586 & 0.7602 & 0.0577\\\\\n",
      "SVC & 0.7254 & 0.0833 & 0.7472 & 0.0513\\\\\n",
      "Decision Tree & 0.6386 & 0.0675 & 0.6366 & 0.0456\\\\\n",
      "KNN 5 & 0.7249 & 0.0825 & 0.7615 & 0.0891\\\\\n",
      "Ensemble Random Forest & 0.7611 & 0.0527 & 0.7810 & 0.0704\\\\\n",
      "\n",
      "best acc: Ensemble Random Forest 0.7611\n"
     ]
    }
   ],
   "source": [
    "print('Model & Mean Acc & Std Acc & Mean ROC & Std ROC \\\\\\\\ \\n\\\\hline')\n",
    "best_k = ''\n",
    "best_mean = 0\n",
    "for k, (scores_acc, scores_roc) in results.items():\n",
    "    if np.mean(scores_acc) > best_mean:\n",
    "        best_mean = np.mean(scores_acc)\n",
    "        best_k = k\n",
    "    print('%s & %0.4f & %0.4f & %0.4f & %0.4f\\\\\\\\' % (k, np.mean(scores_acc), np.std(scores_acc), np.mean(scores_roc), np.std(scores_roc)))\n",
    "print('\\nbest acc:', best_k, round(best_mean,4))"
   ]
  },
  {
   "cell_type": "code",
   "execution_count": 186,
   "metadata": {},
   "outputs": [
    {
     "name": "stdout",
     "output_type": "stream",
     "text": [
      "Model & Mean Acc & Std Acc & Mean ROC & Std ROC \\\\ \n",
      "\\hline\n",
      "\n",
      "best roc: Ensemble Random Forest 0.781\n"
     ]
    }
   ],
   "source": [
    "print('Model & Mean Acc & Std Acc & Mean ROC & Std ROC \\\\\\\\ \\n\\\\hline')\n",
    "best_k = ''\n",
    "best_mean = 0\n",
    "for k, (scores_acc, scores_roc) in results.items():\n",
    "    if np.mean(scores_roc) > best_mean:\n",
    "        best_mean = np.mean(scores_roc)\n",
    "        best_k = k\n",
    "print('\\nbest roc:', best_k, round(best_mean,4))"
   ]
  },
  {
   "cell_type": "code",
   "execution_count": 185,
   "metadata": {},
   "outputs": [
    {
     "name": "stdout",
     "output_type": "stream",
     "text": [
      "0.6449\n",
      "0.618\n"
     ]
    }
   ],
   "source": [
    "# reinit models\n",
    "models = {\n",
    "          'Logit': sklearn.linear_model.LogisticRegression(solver='liblinear',\n",
    "                                                           multi_class='ovr'),\n",
    "#           'SGD': sklearn.linear_model.SGDClassifier(loss=\"hinge\", penalty=\"l2\", max_iter=1000, tol=1e-3),\n",
    "#           'SVC auto': sklearn.svm.SVC(gamma='auto'), \n",
    "          'SVC': sklearn.svm.SVC(kernel='linear'), \n",
    "#           'SVC polynomial': sklearn.svm.SVC(kernel='poly', gamma='auto', degree=4),    \n",
    "          'Decision Tree':  sklearn.tree.DecisionTreeClassifier(),\n",
    "          'KNN 5': sklearn.neighbors.KNeighborsClassifier(n_neighbors=5),\n",
    "#           'KNN 10': sklearn.neighbors.KNeighborsClassifier(n_neighbors=10),\n",
    "          'Ensemble Random Forest': sklearn.ensemble.RandomForestClassifier(n_estimators=100),\n",
    "#           'Ensemble Bagging': sklearn.ensemble.BaggingClassifier(n_estimators=100)\n",
    "         }\n",
    "\n",
    "# train best model on whole dataset\n",
    "model = models[best_k]\n",
    "model.fit(x_train, y_train)\n",
    "y_pred = model.predict(x_test)\n",
    "\n",
    "for v in [sklearn.metrics.accuracy_score(y_test, y_pred), \n",
    "          sklearn.metrics.roc_auc_score(y_test, y_pred)]:\n",
    "    print(round(v,4))"
   ]
  },
  {
   "cell_type": "code",
   "execution_count": null,
   "metadata": {},
   "outputs": [],
   "source": []
  },
  {
   "cell_type": "code",
   "execution_count": null,
   "metadata": {},
   "outputs": [],
   "source": []
  },
  {
   "cell_type": "markdown",
   "metadata": {},
   "source": [
    "# Association rules"
   ]
  },
  {
   "cell_type": "code",
   "execution_count": 50,
   "metadata": {},
   "outputs": [],
   "source": [
    "subkeys = []\n",
    "for i,k in enumerate(keys):\n",
    "    for v in E.encoders['x'].categories_[i]:\n",
    "        subkeys.append(k + '_' + str(v))\n",
    "\n",
    "assert len(subkeys) == pd.DataFrame(X_enc.toarray()).shape[1]"
   ]
  },
  {
   "cell_type": "code",
   "execution_count": 51,
   "metadata": {},
   "outputs": [
    {
     "data": {
      "text/html": [
       "<div>\n",
       "<style scoped>\n",
       "    .dataframe tbody tr th:only-of-type {\n",
       "        vertical-align: middle;\n",
       "    }\n",
       "\n",
       "    .dataframe tbody tr th {\n",
       "        vertical-align: top;\n",
       "    }\n",
       "\n",
       "    .dataframe thead th {\n",
       "        text-align: right;\n",
       "    }\n",
       "</style>\n",
       "<table border=\"1\" class=\"dataframe\">\n",
       "  <thead>\n",
       "    <tr style=\"text-align: right;\">\n",
       "      <th></th>\n",
       "      <th>Year bin_0.0</th>\n",
       "      <th>Year bin_1.0</th>\n",
       "      <th>Year bin_2.0</th>\n",
       "      <th>Year bin_3.0</th>\n",
       "      <th>Year bin_4.0</th>\n",
       "      <th>Money bin_0.0</th>\n",
       "      <th>Money bin_1.0</th>\n",
       "      <th>Money bin_2.0</th>\n",
       "      <th>Money bin_3.0</th>\n",
       "      <th>Money bin_4.0</th>\n",
       "      <th>...</th>\n",
       "      <th>Chocolate_Unknown</th>\n",
       "      <th>Stand Up_no</th>\n",
       "      <th>Stand Up_unknown</th>\n",
       "      <th>Stand Up_yes</th>\n",
       "      <th>Programme_AI</th>\n",
       "      <th>Programme_BA</th>\n",
       "      <th>Programme_CLS</th>\n",
       "      <th>Programme_CS</th>\n",
       "      <th>Programme_Other</th>\n",
       "      <th>Programme_QRM</th>\n",
       "    </tr>\n",
       "  </thead>\n",
       "  <tbody>\n",
       "    <tr>\n",
       "      <th>0</th>\n",
       "      <td>0.0</td>\n",
       "      <td>0.0</td>\n",
       "      <td>0.0</td>\n",
       "      <td>1.0</td>\n",
       "      <td>0.0</td>\n",
       "      <td>0.0</td>\n",
       "      <td>0.0</td>\n",
       "      <td>0.0</td>\n",
       "      <td>0.0</td>\n",
       "      <td>1.0</td>\n",
       "      <td>...</td>\n",
       "      <td>0.0</td>\n",
       "      <td>1.0</td>\n",
       "      <td>0.0</td>\n",
       "      <td>0.0</td>\n",
       "      <td>1.0</td>\n",
       "      <td>0.0</td>\n",
       "      <td>0.0</td>\n",
       "      <td>0.0</td>\n",
       "      <td>0.0</td>\n",
       "      <td>0.0</td>\n",
       "    </tr>\n",
       "    <tr>\n",
       "      <th>1</th>\n",
       "      <td>0.0</td>\n",
       "      <td>0.0</td>\n",
       "      <td>1.0</td>\n",
       "      <td>0.0</td>\n",
       "      <td>0.0</td>\n",
       "      <td>1.0</td>\n",
       "      <td>0.0</td>\n",
       "      <td>0.0</td>\n",
       "      <td>0.0</td>\n",
       "      <td>0.0</td>\n",
       "      <td>...</td>\n",
       "      <td>0.0</td>\n",
       "      <td>1.0</td>\n",
       "      <td>0.0</td>\n",
       "      <td>0.0</td>\n",
       "      <td>1.0</td>\n",
       "      <td>0.0</td>\n",
       "      <td>0.0</td>\n",
       "      <td>0.0</td>\n",
       "      <td>0.0</td>\n",
       "      <td>0.0</td>\n",
       "    </tr>\n",
       "    <tr>\n",
       "      <th>2</th>\n",
       "      <td>0.0</td>\n",
       "      <td>0.0</td>\n",
       "      <td>0.0</td>\n",
       "      <td>1.0</td>\n",
       "      <td>0.0</td>\n",
       "      <td>1.0</td>\n",
       "      <td>0.0</td>\n",
       "      <td>0.0</td>\n",
       "      <td>0.0</td>\n",
       "      <td>0.0</td>\n",
       "      <td>...</td>\n",
       "      <td>0.0</td>\n",
       "      <td>0.0</td>\n",
       "      <td>1.0</td>\n",
       "      <td>0.0</td>\n",
       "      <td>0.0</td>\n",
       "      <td>0.0</td>\n",
       "      <td>0.0</td>\n",
       "      <td>1.0</td>\n",
       "      <td>0.0</td>\n",
       "      <td>0.0</td>\n",
       "    </tr>\n",
       "    <tr>\n",
       "      <th>3</th>\n",
       "      <td>0.0</td>\n",
       "      <td>0.0</td>\n",
       "      <td>1.0</td>\n",
       "      <td>0.0</td>\n",
       "      <td>0.0</td>\n",
       "      <td>0.0</td>\n",
       "      <td>0.0</td>\n",
       "      <td>1.0</td>\n",
       "      <td>0.0</td>\n",
       "      <td>0.0</td>\n",
       "      <td>...</td>\n",
       "      <td>0.0</td>\n",
       "      <td>1.0</td>\n",
       "      <td>0.0</td>\n",
       "      <td>0.0</td>\n",
       "      <td>0.0</td>\n",
       "      <td>0.0</td>\n",
       "      <td>0.0</td>\n",
       "      <td>1.0</td>\n",
       "      <td>0.0</td>\n",
       "      <td>0.0</td>\n",
       "    </tr>\n",
       "    <tr>\n",
       "      <th>4</th>\n",
       "      <td>0.0</td>\n",
       "      <td>0.0</td>\n",
       "      <td>0.0</td>\n",
       "      <td>1.0</td>\n",
       "      <td>0.0</td>\n",
       "      <td>1.0</td>\n",
       "      <td>0.0</td>\n",
       "      <td>0.0</td>\n",
       "      <td>0.0</td>\n",
       "      <td>0.0</td>\n",
       "      <td>...</td>\n",
       "      <td>0.0</td>\n",
       "      <td>1.0</td>\n",
       "      <td>0.0</td>\n",
       "      <td>0.0</td>\n",
       "      <td>0.0</td>\n",
       "      <td>0.0</td>\n",
       "      <td>0.0</td>\n",
       "      <td>1.0</td>\n",
       "      <td>0.0</td>\n",
       "      <td>0.0</td>\n",
       "    </tr>\n",
       "  </tbody>\n",
       "</table>\n",
       "<p>5 rows × 47 columns</p>\n",
       "</div>"
      ],
      "text/plain": [
       "   Year bin_0.0  Year bin_1.0  Year bin_2.0  Year bin_3.0  Year bin_4.0  \\\n",
       "0           0.0           0.0           0.0           1.0           0.0   \n",
       "1           0.0           0.0           1.0           0.0           0.0   \n",
       "2           0.0           0.0           0.0           1.0           0.0   \n",
       "3           0.0           0.0           1.0           0.0           0.0   \n",
       "4           0.0           0.0           0.0           1.0           0.0   \n",
       "\n",
       "   Money bin_0.0  Money bin_1.0  Money bin_2.0  Money bin_3.0  Money bin_4.0  \\\n",
       "0            0.0            0.0            0.0            0.0            1.0   \n",
       "1            1.0            0.0            0.0            0.0            0.0   \n",
       "2            1.0            0.0            0.0            0.0            0.0   \n",
       "3            0.0            0.0            1.0            0.0            0.0   \n",
       "4            1.0            0.0            0.0            0.0            0.0   \n",
       "\n",
       "       ...        Chocolate_Unknown  Stand Up_no  Stand Up_unknown  \\\n",
       "0      ...                      0.0          1.0               0.0   \n",
       "1      ...                      0.0          1.0               0.0   \n",
       "2      ...                      0.0          0.0               1.0   \n",
       "3      ...                      0.0          1.0               0.0   \n",
       "4      ...                      0.0          1.0               0.0   \n",
       "\n",
       "   Stand Up_yes  Programme_AI  Programme_BA  Programme_CLS  Programme_CS  \\\n",
       "0           0.0           1.0           0.0            0.0           0.0   \n",
       "1           0.0           1.0           0.0            0.0           0.0   \n",
       "2           0.0           0.0           0.0            0.0           1.0   \n",
       "3           0.0           0.0           0.0            0.0           1.0   \n",
       "4           0.0           0.0           0.0            0.0           1.0   \n",
       "\n",
       "   Programme_Other  Programme_QRM  \n",
       "0              0.0            0.0  \n",
       "1              0.0            0.0  \n",
       "2              0.0            0.0  \n",
       "3              0.0            0.0  \n",
       "4              0.0            0.0  \n",
       "\n",
       "[5 rows x 47 columns]"
      ]
     },
     "execution_count": 51,
     "metadata": {},
     "output_type": "execute_result"
    }
   ],
   "source": [
    "# data_enc = pd.DataFrame(X_enc.toarray(), columns=subkeys, dtype=bool)\n",
    "data_enc = pd.SparseDataFrame(X_enc, columns=subkeys, default_fill_value=False)\n",
    "data_enc.head()"
   ]
  },
  {
   "cell_type": "code",
   "execution_count": 52,
   "metadata": {
    "scrolled": false
   },
   "outputs": [
    {
     "data": {
      "text/html": [
       "<div>\n",
       "<style scoped>\n",
       "    .dataframe tbody tr th:only-of-type {\n",
       "        vertical-align: middle;\n",
       "    }\n",
       "\n",
       "    .dataframe tbody tr th {\n",
       "        vertical-align: top;\n",
       "    }\n",
       "\n",
       "    .dataframe thead th {\n",
       "        text-align: right;\n",
       "    }\n",
       "</style>\n",
       "<table border=\"1\" class=\"dataframe\">\n",
       "  <thead>\n",
       "    <tr style=\"text-align: right;\">\n",
       "      <th></th>\n",
       "      <th>support</th>\n",
       "      <th>itemsets</th>\n",
       "      <th>length</th>\n",
       "    </tr>\n",
       "  </thead>\n",
       "  <tbody>\n",
       "    <tr>\n",
       "      <th>0</th>\n",
       "      <td>0.967391</td>\n",
       "      <td>(Neighbours bin_0.0)</td>\n",
       "      <td>1</td>\n",
       "    </tr>\n",
       "    <tr>\n",
       "      <th>1</th>\n",
       "      <td>0.619565</td>\n",
       "      <td>(ML_Yes)</td>\n",
       "      <td>1</td>\n",
       "    </tr>\n",
       "    <tr>\n",
       "      <th>2</th>\n",
       "      <td>0.876812</td>\n",
       "      <td>(Stat_Yes)</td>\n",
       "      <td>1</td>\n",
       "    </tr>\n",
       "    <tr>\n",
       "      <th>3</th>\n",
       "      <td>0.659420</td>\n",
       "      <td>(Gender_male)</td>\n",
       "      <td>1</td>\n",
       "    </tr>\n",
       "    <tr>\n",
       "      <th>4</th>\n",
       "      <td>0.902174</td>\n",
       "      <td>(Stand Up_no)</td>\n",
       "      <td>1</td>\n",
       "    </tr>\n",
       "    <tr>\n",
       "      <th>5</th>\n",
       "      <td>0.605072</td>\n",
       "      <td>(ML_Yes, Neighbours bin_0.0)</td>\n",
       "      <td>2</td>\n",
       "    </tr>\n",
       "    <tr>\n",
       "      <th>6</th>\n",
       "      <td>0.855072</td>\n",
       "      <td>(Stat_Yes, Neighbours bin_0.0)</td>\n",
       "      <td>2</td>\n",
       "    </tr>\n",
       "    <tr>\n",
       "      <th>7</th>\n",
       "      <td>0.637681</td>\n",
       "      <td>(Gender_male, Neighbours bin_0.0)</td>\n",
       "      <td>2</td>\n",
       "    </tr>\n",
       "    <tr>\n",
       "      <th>8</th>\n",
       "      <td>0.880435</td>\n",
       "      <td>(Stand Up_no, Neighbours bin_0.0)</td>\n",
       "      <td>2</td>\n",
       "    </tr>\n",
       "    <tr>\n",
       "      <th>9</th>\n",
       "      <td>0.804348</td>\n",
       "      <td>(Stat_Yes, Stand Up_no)</td>\n",
       "      <td>2</td>\n",
       "    </tr>\n",
       "    <tr>\n",
       "      <th>10</th>\n",
       "      <td>0.789855</td>\n",
       "      <td>(Stat_Yes, Stand Up_no, Neighbours bin_0.0)</td>\n",
       "      <td>3</td>\n",
       "    </tr>\n",
       "  </tbody>\n",
       "</table>\n",
       "</div>"
      ],
      "text/plain": [
       "     support                                     itemsets  length\n",
       "0   0.967391                         (Neighbours bin_0.0)       1\n",
       "1   0.619565                                     (ML_Yes)       1\n",
       "2   0.876812                                   (Stat_Yes)       1\n",
       "3   0.659420                                (Gender_male)       1\n",
       "4   0.902174                                (Stand Up_no)       1\n",
       "5   0.605072                 (ML_Yes, Neighbours bin_0.0)       2\n",
       "6   0.855072               (Stat_Yes, Neighbours bin_0.0)       2\n",
       "7   0.637681            (Gender_male, Neighbours bin_0.0)       2\n",
       "8   0.880435            (Stand Up_no, Neighbours bin_0.0)       2\n",
       "9   0.804348                      (Stat_Yes, Stand Up_no)       2\n",
       "10  0.789855  (Stat_Yes, Stand Up_no, Neighbours bin_0.0)       3"
      ]
     },
     "execution_count": 52,
     "metadata": {},
     "output_type": "execute_result"
    }
   ],
   "source": [
    "# http://rasbt.github.io/mlxtend/user_guide/frequent_patterns/apriori/\n",
    "frequent_itemsets = apriori(data_enc, min_support=0.6, use_colnames=True)\n",
    "frequent_itemsets['length'] = frequent_itemsets['itemsets'].apply(lambda x: len(x))\n",
    "frequent_itemsets"
   ]
  },
  {
   "cell_type": "code",
   "execution_count": 53,
   "metadata": {},
   "outputs": [
    {
     "data": {
      "text/html": [
       "<div>\n",
       "<style scoped>\n",
       "    .dataframe tbody tr th:only-of-type {\n",
       "        vertical-align: middle;\n",
       "    }\n",
       "\n",
       "    .dataframe tbody tr th {\n",
       "        vertical-align: top;\n",
       "    }\n",
       "\n",
       "    .dataframe thead th {\n",
       "        text-align: right;\n",
       "    }\n",
       "</style>\n",
       "<table border=\"1\" class=\"dataframe\">\n",
       "  <thead>\n",
       "    <tr style=\"text-align: right;\">\n",
       "      <th></th>\n",
       "      <th>support</th>\n",
       "      <th>itemsets</th>\n",
       "      <th>length</th>\n",
       "    </tr>\n",
       "  </thead>\n",
       "  <tbody>\n",
       "    <tr>\n",
       "      <th>10</th>\n",
       "      <td>0.789855</td>\n",
       "      <td>(Stat_Yes, Stand Up_no, Neighbours bin_0.0)</td>\n",
       "      <td>3</td>\n",
       "    </tr>\n",
       "  </tbody>\n",
       "</table>\n",
       "</div>"
      ],
      "text/plain": [
       "     support                                     itemsets  length\n",
       "10  0.789855  (Stat_Yes, Stand Up_no, Neighbours bin_0.0)       3"
      ]
     },
     "execution_count": 53,
     "metadata": {},
     "output_type": "execute_result"
    }
   ],
   "source": [
    "frequent_itemsets[ (frequent_itemsets['length'] >= 3) &\n",
    "                   (frequent_itemsets['support'] >= 0.6) ]"
   ]
  },
  {
   "cell_type": "code",
   "execution_count": 54,
   "metadata": {},
   "outputs": [
    {
     "data": {
      "text/html": [
       "<div>\n",
       "<style scoped>\n",
       "    .dataframe tbody tr th:only-of-type {\n",
       "        vertical-align: middle;\n",
       "    }\n",
       "\n",
       "    .dataframe tbody tr th {\n",
       "        vertical-align: top;\n",
       "    }\n",
       "\n",
       "    .dataframe thead th {\n",
       "        text-align: right;\n",
       "    }\n",
       "</style>\n",
       "<table border=\"1\" class=\"dataframe\">\n",
       "  <thead>\n",
       "    <tr style=\"text-align: right;\">\n",
       "      <th></th>\n",
       "      <th>support</th>\n",
       "      <th>itemsets</th>\n",
       "      <th>length</th>\n",
       "    </tr>\n",
       "  </thead>\n",
       "  <tbody>\n",
       "    <tr>\n",
       "      <th>6</th>\n",
       "      <td>0.855072</td>\n",
       "      <td>(Stat_Yes, Neighbours bin_0.0)</td>\n",
       "      <td>2</td>\n",
       "    </tr>\n",
       "    <tr>\n",
       "      <th>8</th>\n",
       "      <td>0.880435</td>\n",
       "      <td>(Stand Up_no, Neighbours bin_0.0)</td>\n",
       "      <td>2</td>\n",
       "    </tr>\n",
       "    <tr>\n",
       "      <th>9</th>\n",
       "      <td>0.804348</td>\n",
       "      <td>(Stat_Yes, Stand Up_no)</td>\n",
       "      <td>2</td>\n",
       "    </tr>\n",
       "    <tr>\n",
       "      <th>10</th>\n",
       "      <td>0.789855</td>\n",
       "      <td>(Stat_Yes, Stand Up_no, Neighbours bin_0.0)</td>\n",
       "      <td>3</td>\n",
       "    </tr>\n",
       "  </tbody>\n",
       "</table>\n",
       "</div>"
      ],
      "text/plain": [
       "     support                                     itemsets  length\n",
       "6   0.855072               (Stat_Yes, Neighbours bin_0.0)       2\n",
       "8   0.880435            (Stand Up_no, Neighbours bin_0.0)       2\n",
       "9   0.804348                      (Stat_Yes, Stand Up_no)       2\n",
       "10  0.789855  (Stat_Yes, Stand Up_no, Neighbours bin_0.0)       3"
      ]
     },
     "execution_count": 54,
     "metadata": {},
     "output_type": "execute_result"
    }
   ],
   "source": [
    "frequent_itemsets[ (frequent_itemsets['length'] >= 2) &\n",
    "                   (frequent_itemsets['support'] >= 0.7) ]"
   ]
  },
  {
   "cell_type": "code",
   "execution_count": null,
   "metadata": {},
   "outputs": [],
   "source": []
  },
  {
   "cell_type": "code",
   "execution_count": null,
   "metadata": {},
   "outputs": [],
   "source": []
  },
  {
   "cell_type": "code",
   "execution_count": null,
   "metadata": {},
   "outputs": [],
   "source": []
  },
  {
   "cell_type": "code",
   "execution_count": null,
   "metadata": {},
   "outputs": [],
   "source": [
    "def cmap_discretize(cmap, N):\n",
    "    \"\"\"Return a discrete colormap from the continuous colormap cmap.\n",
    "    \n",
    "        cmap: colormap instance, eg. cm.jet. \n",
    "        N: number of colors.\n",
    "        \n",
    "        https://scipy-cookbook.readthedocs.io/items/Matplotlib_ColormapTransformations.html\n",
    "    \"\"\"\n",
    "    if type(cmap) == str:\n",
    "        cmap = plt.get_cmap(cmap)\n",
    "    colors_i = np.concatenate((np.linspace(0, 1., N), (0.,0.,0.,0.)))\n",
    "    colors_rgba = cmap(colors_i)\n",
    "    indices = np.linspace(0, 1., N+1)\n",
    "    cdict = {}\n",
    "    for ki, key in enumerate(('red','green','blue')):\n",
    "        cdict[key] = [(indices[i], colors_rgba[i-1,ki], colors_rgba[i,ki]) for i in range(N+1)]\n",
    "    # Return colormap object.\n",
    "    return matplotlib.colors.LinearSegmentedColormap(cmap.name + \"_%d\"%N, cdict, 1024)"
   ]
  },
  {
   "cell_type": "code",
   "execution_count": null,
   "metadata": {},
   "outputs": [],
   "source": [
    "def e(i,k):\n",
    "    # unit vector i of length k\n",
    "    return np.eye(k)[i]\n",
    "\n",
    "def fix_labels(labels):\n",
    "    # update in-place\n",
    "    for i, v in enumerate(labels.copy()):\n",
    "        if v is None:\n",
    "            labels[i] = 'None'\n",
    "        else:\n",
    "            labels[i] = fix_label(labels[i])\n",
    "\n",
    "            \n",
    "def fix_label(x):\n",
    "    max_length = 12\n",
    "    x = str.title(str(x))\n",
    "    if x is None:\n",
    "        assert False\n",
    "        return 'None'\n",
    "    translations = {'Ja': 'Yes', 'Nee': 'No', '1': 'Yes', '0':'No',\n",
    "                   'I have no idea what you are talking about': 'Unknown'}\n",
    "    if x in translations.keys():\n",
    "        return translations[x]\n",
    "    return x[:max_length]\n",
    "\n",
    "def length_exceeds(labels, t=10) -> bool:\n",
    "    return np.any([len(label) > t for label in labels])\n",
    "\n",
    "# def plot_classifier_helper(data, xlabels, ylabel, clf):\n",
    "def plot_classifier(data, xlabels, ylabel, clf):\n",
    "    rcParams['font.size'] = 14\n",
    "    X_enc = init_encoder(data[xlabels])\n",
    "    Y_enc = init_label_encoder(data[ylabel])\n",
    "\n",
    "#     Y_enc += np.random.randint(0,3, Y_enc.size)\n",
    "    clf.fit(X_enc, Y_enc)\n",
    "\n",
    "    categories = E.encoders['x'].categories_\n",
    "    dims = tuple([c.size for c in categories]) # n features\n",
    "    n_dims = sum(dims)\n",
    "    # n combinations = x * y                   ### x^2 * y^2\n",
    "    X = np.empty((np.prod([x**2 for x in dims]), 1))\n",
    "    \n",
    "    # X = np.empty((np.prod(dims), n_dims))\n",
    "    X = np.empty((dims[0], dims[1], n_dims))\n",
    "    for i,j in np.ndindex(X.shape[:2]):\n",
    "        X[i,j] = np.concatenate([e(i,dims[0]), e(j, dims[1])])\n",
    "\n",
    "    X_enc = X.reshape((dims[0] * dims[1], n_dims))\n",
    "    Y_enc = clf.predict(X_enc)\n",
    "    Y_enc[0] = 0\n",
    "    Y_enc[1] = 1\n",
    "    Y_enc[2] = 2\n",
    "    # Y = E.encoders['y'].inverse_transform(Y_enc)\n",
    "    Y = Y_enc.reshape(dims)\n",
    "\n",
    "    # def plot_classifier()\n",
    "    fig = plt.figure()\n",
    "    ax = fig.add_subplot(111)\n",
    "    # color bar labels correspond to Y (unlike x or y)\n",
    "    cb_labels = E.encoders['y'].classes_\n",
    "    cb_ticks = E.encoders['y'].transform(cb_labels)\n",
    "    n = cb_labels.size\n",
    "    c = cmap_discretize('rainbow', n) # terrain bone plasma rainbow pink cubehelix jet\n",
    "    plt.imshow(Y.T, origin='lower', cmap=c)\n",
    "    \n",
    "    x_labels = categories[0]\n",
    "    y_labels = categories[1]\n",
    "    fix_labels(x_labels)\n",
    "    fix_labels(y_labels)\n",
    "    n_x = len(x_labels)\n",
    "    n_y = len(y_labels)    \n",
    "    if length_exceeds(x_labels, 5) or n_x > 5:\n",
    "        rotation = 45\n",
    "    else:\n",
    "        rotation = 0        \n",
    "#         plt.subplots_adjust(bottom=0.15)\n",
    "    plt.xticks(np.arange(n_x), x_labels, rotation=rotation)\n",
    "    if length_exceeds(y_labels, 5) or n_y > 5:\n",
    "        rotation = 45\n",
    "    else:\n",
    "        rotation = 0\n",
    "    plt.yticks(np.arange(n_y), y_labels, rotation=rotation)\n",
    "\n",
    "    util.plot.show_grid(ax, Y)\n",
    "    #  colorbar\n",
    "    cb = plt.colorbar()\n",
    "    cb.set_ticks(cb_ticks)\n",
    "    cb.set_ticklabels(cb_labels)\n",
    "#     cb.ax.set_yticklabels(cb_labels)\n",
    "\n",
    "#     ticks = np.arange(5)\n",
    "#     labels = E.encoders['y'].inverse_transform(np.linspace(y_min, y_max, 5))\n",
    "\n",
    "# def show_grid(ax, Y):\n",
    "#     # clear grid\n",
    "#     ax.grid(False)        \n",
    "#     # disable spines\n",
    "#     for edge, spine in ax.spines.items():\n",
    "#             spine.set_visible(False)\n",
    "#     # add custom grid\n",
    "#     # add white grid to distinguish cells\n",
    "#     print(Y.shape)\n",
    "#     lw = 3\n",
    "#     ax.set_xticks(np.arange(Y.shape[0]+1) - 0.5 + 0.005*lw, minor=True)\n",
    "#     ax.set_yticks(np.arange(Y.shape[1]+1) - 0.5 + 0.01*lw, minor=True)\n",
    "#     ax.grid(which=\"minor\", color='w', linestyle='-', linewidth=lw) # 3\n",
    "#     ax.tick_params(which=\"minor\", bottom=False, left=False)    "
   ]
  },
  {
   "cell_type": "code",
   "execution_count": null,
   "metadata": {},
   "outputs": [],
   "source": [
    "np.random.seed(42)\n",
    "# clf = SVC(gamma='auto')\n",
    "clf = DecisionTreeClassifier()\n",
    "plot_classifier(data, ['Stat', 'Year bin'], 'Gender', clf)\n",
    "plt.suptitle('Effect of Stat, Year on prediction of Gender')"
   ]
  },
  {
   "cell_type": "code",
   "execution_count": null,
   "metadata": {},
   "outputs": [],
   "source": [
    "plot_classifier(data, ['Programme', 'Year bin'], 'Gender', clf)"
   ]
  },
  {
   "cell_type": "code",
   "execution_count": null,
   "metadata": {},
   "outputs": [],
   "source": [
    "# The number of divisions of the cmap we have\n",
    "k = 10\n",
    "\n",
    "# Random test data\n",
    "A = np.random.random((10,10))*k\n",
    "c = cmap_discretize('jet', k)\n",
    "\n",
    "# First show without\n",
    "plt.subplot(121)\n",
    "plt.imshow(A,interpolation='nearest',cmap=c)\n",
    "plt.colorbar()\n",
    "\n",
    "# Now label properly\n",
    "plt.subplot(122)\n",
    "plt.imshow(A,interpolation='nearest',cmap=c)\n",
    "\n",
    "cb = plt.colorbar()\n",
    "labels = np.arange(0,k,1)\n",
    "loc    = labels + .5\n",
    "cb.set_ticks(loc)\n",
    "cb.set_ticklabels(labels)"
   ]
  },
  {
   "cell_type": "code",
   "execution_count": null,
   "metadata": {},
   "outputs": [],
   "source": [
    "X = np.ndindex(())"
   ]
  },
  {
   "cell_type": "code",
   "execution_count": null,
   "metadata": {},
   "outputs": [],
   "source": [
    "x = np.arange(-5, 5, 0.1)\n",
    "y = np.arange(-5, 5, 0.1)\n",
    "xx, yy = np.meshgrid(x, y, sparse=True)\n",
    "z = np.sin(xx**2 + yy**2) / (xx**2 + yy**2)\n",
    "h = plt.contourf(x,y,z)"
   ]
  },
  {
   "cell_type": "code",
   "execution_count": null,
   "metadata": {},
   "outputs": [],
   "source": [
    "x = np.arange(-5, 5, 0.1)\n",
    "y = np.arange(-5, 5, 0.1)\n",
    "xx, yy = np.meshgrid(x, y, sparse=True)\n",
    "z = np.sin(xx + 0*yy)\n",
    "h = plt.contourf(x,y,z)\n",
    "x.shape, y.shape, z.shape"
   ]
  },
  {
   "cell_type": "code",
   "execution_count": null,
   "metadata": {},
   "outputs": [],
   "source": [
    "# xx"
   ]
  },
  {
   "cell_type": "code",
   "execution_count": null,
   "metadata": {},
   "outputs": [],
   "source": [
    "# from mlxtend.plotting import plot_decision_regions\n",
    "# import matplotlib.pyplot as plt\n",
    "# from sklearn import datasets\n",
    "# from sklearn.svm import SVC\n",
    "\n",
    "# # Loading some example data\n",
    "# iris = datasets.load_iris()\n",
    "# X = iris.data[:, [0, 2]]\n",
    "# y = iris.target\n",
    "\n",
    "# # Training a classifier\n",
    "# svm = SVC(C=0.5, kernel='linear')\n",
    "# svm.fit(x_train, y_train)\n",
    "\n",
    "\n",
    "# # Plotting decision regions\n",
    "# # plot_decision_regions(x_train.toarray(), y_train, clf=svm, legend=2)\n",
    "\n",
    "# enc = E.encoders['x']\n",
    "# enc.\n",
    "\n",
    "# # Decision region for feature 3 = 1.5\n",
    "# value = 0\n",
    "# # Plot training sample with feature 3 = 1.5 +/- 0.75\n",
    "# width = 0\n",
    "# plot_decision_regions(X, y, clf=svm,\n",
    "#                       filler_feature_values={2: value},\n",
    "#                       filler_feature_ranges={2: width},\n",
    "#                       legend=2, ax=ax)\n",
    "\n",
    "\n",
    "# # Adding axes annotations\n",
    "# plt.xlabel('sepal length [cm]')\n",
    "# plt.ylabel('petal length [cm]')\n",
    "# plt.title('SVM on Iris')\n",
    "# plt.show()\n"
   ]
  },
  {
   "cell_type": "code",
   "execution_count": null,
   "metadata": {},
   "outputs": [],
   "source": []
  },
  {
   "cell_type": "code",
   "execution_count": null,
   "metadata": {},
   "outputs": [],
   "source": [
    "# from mlxtend.plotting import plot_decision_regions\n",
    "\n",
    "# n = 10\n",
    "# plot_decision_regions(x_test[:n], y_test.astype(np.integer)[:n], \n",
    "#                       clf=clf, res=0.1);"
   ]
  },
  {
   "cell_type": "code",
   "execution_count": null,
   "metadata": {},
   "outputs": [],
   "source": []
  },
  {
   "cell_type": "code",
   "execution_count": null,
   "metadata": {},
   "outputs": [],
   "source": []
  },
  {
   "cell_type": "code",
   "execution_count": null,
   "metadata": {},
   "outputs": [],
   "source": [
    "# from sklearn.metrics import roc_curve, auc\n",
    "\n",
    "# # The linear classifier doesn't produce class probabilities by default. We'll retrain it for probabilities.\n",
    "# linear = SVC(kernel='linear', probability=True)\n",
    "# linear.fit(x_train, y_train)\n",
    "\n",
    "# # We'll need class probabilities from each of the classifiers\n",
    "# y_linear = linear.predict_proba(x_test)\n",
    "# y_tree  = tree.predict_proba(x_test)\n",
    "# y_knn   = knn.predict_proba(x_test)\n",
    "\n",
    "# # Compute the points on the curve\n",
    "# # We pass the probability of the second class (KIA) as the y_score\n",
    "# curve_linear = sklearn.metrics.roc_curve(y_test, y_linear[:, 1])\n",
    "# curve_tree   = sklearn.metrics.roc_curve(y_test, y_tree[:, 1])\n",
    "# curve_knn    = sklearn.metrics.roc_curve(y_test, y_knn[:, 1])\n",
    "\n",
    "# # Compute Area Under the Curve\n",
    "# auc_linear = auc(curve_linear[0], curve_linear[1])\n",
    "# auc_tree   = auc(curve_tree[0], curve_tree[1])\n",
    "# auc_knn    = auc(curve_knn[0], curve_knn[1])\n",
    "\n",
    "# plt.plot(curve_linear[0], curve_linear[1], label='linear (area = %0.2f)' % auc_linear)\n",
    "# plt.plot(curve_tree[0], curve_tree[1], label='tree (area = %0.2f)' % auc_tree)\n",
    "# plt.plot(curve_knn[0], curve_knn[1], label='knn (area = %0.2f)'% auc_knn)\n",
    "\n",
    "# plt.xlim([0.0, 1.0])\n",
    "# plt.ylim([0.0, 1.0])\n",
    "# plt.xlabel('False Positive Rate')\n",
    "# plt.ylabel('True Positive Rate')\n",
    "# plt.title('ROC curve');\n",
    "\n",
    "# plt.legend();"
   ]
  },
  {
   "cell_type": "code",
   "execution_count": null,
   "metadata": {},
   "outputs": [],
   "source": []
  }
 ],
 "metadata": {
  "kernelspec": {
   "display_name": "Python 3",
   "language": "python",
   "name": "python3"
  },
  "language_info": {
   "codemirror_mode": {
    "name": "ipython",
    "version": 3
   },
   "file_extension": ".py",
   "mimetype": "text/x-python",
   "name": "python",
   "nbconvert_exporter": "python",
   "pygments_lexer": "ipython3",
   "version": "3.6.8"
  }
 },
 "nbformat": 4,
 "nbformat_minor": 2
}
