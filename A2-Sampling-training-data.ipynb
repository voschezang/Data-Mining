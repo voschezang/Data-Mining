{
 "cells": [
  {
   "cell_type": "code",
   "execution_count": 2,
   "metadata": {},
   "outputs": [],
   "source": [
    "import numpy as np\n",
    "seed = 123\n",
    "np.random.seed(seed)\n",
    "import collections\n",
    "from importlib import reload\n",
    "import pandas as pd\n",
    "import sklearn"
   ]
  },
  {
   "cell_type": "code",
   "execution_count": 11,
   "metadata": {},
   "outputs": [],
   "source": [
    "import xgboost as xgb\n",
    "\n",
    "import sklearn.ensemble\n",
    "import sklearn.svm\n",
    "import sklearn.tree\n",
    "import sklearn.linear_model\n",
    "import sklearn.neighbors\n",
    "\n",
    "from sklearn.model_selection import cross_val_score\n",
    "from sklearn.model_selection import train_test_split\n",
    "import sklearn.metrics\n",
    "\n",
    "from sklearn import preprocessing\n",
    "from sklearn.preprocessing import OneHotEncoder\n",
    "from sklearn.model_selection import train_test_split"
   ]
  },
  {
   "cell_type": "code",
   "execution_count": 12,
   "metadata": {},
   "outputs": [],
   "source": [
    "# Consider the training dataset\n",
    "# Split the data up in n subsets, based on `search_id` to prevent occurence of a `search_id` in multiple sets\n",
    "# Resample each subset, now based on classes: select 1/3 booking, 1/3 click (but no booking), 1/3 none\n",
    "#     The resampling is used the preserve the class sizes\n",
    "# Use crossvalidation on the n sets to select hyperparams\n",
    "# Finally train model on full training dataset and make a prediction of the (unseen) test dataset"
   ]
  },
  {
   "cell_type": "code",
   "execution_count": 13,
   "metadata": {},
   "outputs": [],
   "source": [
    "import util.data\n",
    "import util.model\n",
    "import util.ndcg"
   ]
  },
  {
   "cell_type": "code",
   "execution_count": 14,
   "metadata": {},
   "outputs": [],
   "source": [
    "data_all = pd.read_csv('data/training_set_VU_DM_clean.csv', sep=';', nrows=5*1000)\n",
    "data_test_unlabelled = pd.read_csv('data/test_set_VU_DM_clean.csv', sep=';', nrows=1000)\n",
    "data_all.drop(columns=['position'], inplace=True)\n",
    "\n",
    "for k in data_all.columns:\n",
    "    if data_all[k].isna().sum() > 0:\n",
    "#         print('rm %0.4f' % (data_all[k].isna().sum() / data_all.shape[0]), k)\n",
    "        data_all.drop(columns=[k], inplace=True)"
   ]
  },
  {
   "cell_type": "code",
   "execution_count": 15,
   "metadata": {},
   "outputs": [],
   "source": [
    "# set aside some labelled data for testing (based on srch_id)\n",
    "ids = data_all.srch_id.unique()\n",
    "ids_train, ids_test = train_test_split(ids, test_size=0.5, random_state=123)\n",
    "data = data_all[data_all.srch_id.isin(ids_train)]\n",
    "data_test = data_all[data_all.srch_id.isin(ids_test)]"
   ]
  },
  {
   "cell_type": "code",
   "execution_count": 16,
   "metadata": {},
   "outputs": [],
   "source": [
    "# split cross validation folds\n",
    "folds = util.data.cv_folds_for_sklearn(data, n_cv_folds=5, resampling_ratio=1)\n",
    "\n",
    "# Use the full (pre-splitted) dataset because we use custom indices\n",
    "x, y = util.data.split_xy(data_all)"
   ]
  },
  {
   "cell_type": "code",
   "execution_count": 17,
   "metadata": {},
   "outputs": [],
   "source": [
    "seed = 123\n",
    "models = {\n",
    "#           'Logit': sklearn.linear_model.LogisticRegression(solver='liblinear',\n",
    "#                                                            multi_class='ovr'),\n",
    "# #           'SGD': sklearn.linear_model.SGDClassifier(loss=\"hinge\", penalty=\"l2\", max_iter=1000, tol=1e-3),\n",
    "#           'SVM': sklearn.svm.SVR(kernel='linear'),\n",
    "          'Decision Tree':  sklearn.tree.DecisionTreeClassifier(),\n",
    "#           'KNN 10': sklearn.neighbors.KNeighborsClassifier(n_neighbors=10),\n",
    "          'Ensemble Random Forest': sklearn.ensemble.RandomForestClassifier(n_estimators=100),\n",
    "#             'Gradient Boost': sklearn.ensemble.GradientBoostingRegressor(loss='ls', learning_rate=0.1, \n",
    "#                             n_estimators=100, subsample=1.0, criterion='friedman_mse', \n",
    "#                             max_depth=3,random_state=seed, alpha=0.9, tol=0.0001)    \n",
    "         'AdaBoost': sklearn.ensemble.AdaBoostRegressor(),\n",
    "          'Gradient Boost': xgb.XGBRegressor(objective ='reg:linear', colsample_bytree = 0.3, learning_rate = 0.01, \n",
    "                          max_depth = 4, alpha = 10, n_estimators = 500, n_jobs=2, seed=123)\n",
    "         }"
   ]
  },
  {
   "cell_type": "code",
   "execution_count": 18,
   "metadata": {
    "scrolled": false
   },
   "outputs": [
    {
     "name": "stdout",
     "output_type": "stream",
     "text": [
      "Decision Tree\n",
      "\u001b[34m\t scoring: neg_mean_squared_error\u001b[0m\n",
      "scores per fold  [-5.2226, -5.6173, -5.7808, -4.5556, -5.9567]\n",
      "  mean score     -5.426596685086084\n",
      "  standard dev.  0.4986318838216973\n",
      "Ensemble Random Forest\n",
      "\u001b[34m\t scoring: neg_mean_squared_error\u001b[0m\n",
      "scores per fold  [-8.6667, -8.6667, -8.1378, -8.0105, -8.6667]\n",
      "  mean score     -8.42966384009691\n",
      "  standard dev.  0.29304708566917703\n",
      "AdaBoost\n",
      "\u001b[34m\t scoring: neg_mean_squared_error\u001b[0m\n",
      "scores per fold  [-3.3738, -3.5364, -3.948, -2.6292, -2.9393]\n",
      "  mean score     -3.2853553506171993\n",
      "  standard dev.  0.46047158708654734\n",
      "Gradient Boost\n",
      "\u001b[34m\t scoring: neg_mean_squared_error\u001b[0m\n",
      "scores per fold  [-3.4948, -3.6474, -3.2325, -2.8904, -3.2581]\n",
      "  mean score     -3.3046289440703043\n",
      "  standard dev.  0.25791790098037665\n"
     ]
    }
   ],
   "source": [
    "# reload(util.model)\n",
    "n_folds_used = 5\n",
    "results = {}\n",
    "for k,m in models.items():\n",
    "    print(k)\n",
    "    util.model.cross_validation(m, x, y, folds[:n_folds_used], k, results, scoring='neg_mean_squared_error')"
   ]
  },
  {
   "cell_type": "code",
   "execution_count": 19,
   "metadata": {},
   "outputs": [
    {
     "name": "stdout",
     "output_type": "stream",
     "text": [
      "Model & Mean & Std. dev. \\\\ \n",
      "\\hline\n",
      "Decision Tree & -5.4266 & 0.4986\\\\\n",
      "Ensemble Random Forest & -8.4297 & 0.2930\\\\\n",
      "AdaBoost & -3.2854 & 0.4605\\\\\n",
      "Gradient Boost & -3.3046 & 0.2579\\\\\n",
      "\u001b[32m\n",
      "best score: AdaBoost, with mean: -3.2854\u001b[0m\n"
     ]
    }
   ],
   "source": [
    "k = util.model.scores_table(results)"
   ]
  },
  {
   "cell_type": "code",
   "execution_count": 20,
   "metadata": {},
   "outputs": [
    {
     "data": {
      "text/plain": [
       "AdaBoostRegressor(base_estimator=None, learning_rate=1.0, loss='linear',\n",
       "         n_estimators=50, random_state=None)"
      ]
     },
     "execution_count": 20,
     "metadata": {},
     "output_type": "execute_result"
    }
   ],
   "source": [
    "model = models[k]\n",
    "# retrain model on train (+validation) data\n",
    "x_test, y_test = util.data.split_xy(data_test)\n",
    "model.fit(x,y)"
   ]
  },
  {
   "cell_type": "code",
   "execution_count": 21,
   "metadata": {},
   "outputs": [],
   "source": [
    "y_pred = model.predict(x_test)"
   ]
  },
  {
   "cell_type": "code",
   "execution_count": 49,
   "metadata": {
    "scrolled": false
   },
   "outputs": [
    {
     "name": "stdout",
     "output_type": "stream",
     "text": [
      "Index(['SearchId', 'PropertyId'], dtype='object')\n"
     ]
    }
   ],
   "source": [
    "# reload(util.ndcg)\n",
    "# reload(util.data)\n",
    "\n",
    "# y_pred_ = util.data.y_pred(x_test, y_pred)\n",
    "\n",
    "\n",
    "# # ndcg_true = util.ndcg.y_true(data_test)\n",
    "# # ndcg_pred = util.ndcg.y_pred(x_test, y_pred)\n",
    "\n",
    "# # ndcg_true, ndcg_pred, ndcg_true / ndcg_pred"
   ]
  },
  {
   "cell_type": "markdown",
   "metadata": {},
   "source": [
    "# Predict test data"
   ]
  },
  {
   "cell_type": "code",
   "execution_count": 24,
   "metadata": {},
   "outputs": [],
   "source": [
    "data_all = pd.read_csv('data/training_set_VU_DM_clean.csv', sep=';')\n",
    "scores = pd.read_csv('data/scores_train.csv', sep=';')\n",
    "data_all.drop(columns=['position'], inplace=True)\n",
    "\n",
    "for k in data_all.columns:\n",
    "    if data_all[k].isna().sum() > 0:\n",
    "#         print('rm %0.4f' % (data_all[k].isna().sum() / data_all.shape[0]), k)\n",
    "        data_all.drop(columns=[k], inplace=True)"
   ]
  },
  {
   "cell_type": "code",
   "execution_count": 25,
   "metadata": {},
   "outputs": [],
   "source": [
    "reload(util.data)\n",
    "# use a single fold, to allow oversampling of bookings or undersampling of clicks/others\n",
    "folds = util.data.cv_folds_for_sklearn(data_all, n_cv_folds=1, resampling_ratio=0)\n",
    "train_indices = folds[0][0]\n",
    "x_train, y_train = util.data.split_xy(data_all, selection=train_indices)"
   ]
  },
  {
   "cell_type": "code",
   "execution_count": 26,
   "metadata": {},
   "outputs": [],
   "source": [
    "# read the full dataset\n",
    "data_test_unlabelled = pd.read_csv('data/test_set_VU_DM_clean.csv', sep=';')\n",
    "# init x_test, neglect columns not present in x_train\n",
    "x_test = data_test_unlabelled[x_train.columns]\n",
    "assert x_train.shape[1] == x_test.shape[1]"
   ]
  },
  {
   "cell_type": "code",
   "execution_count": 27,
   "metadata": {},
   "outputs": [],
   "source": [
    "x_test = data_test_unlabelled[x_train.columns]"
   ]
  },
  {
   "cell_type": "code",
   "execution_count": 28,
   "metadata": {},
   "outputs": [
    {
     "data": {
      "text/plain": [
       "XGBRegressor(alpha=10, base_score=0.5, booster='gbtree', colsample_bylevel=1,\n",
       "       colsample_bytree=0.3, gamma=0, importance_type='gain',\n",
       "       learning_rate=0.01, max_delta_step=0, max_depth=4,\n",
       "       min_child_weight=1, missing=None, n_estimators=500, n_jobs=2,\n",
       "       nthread=None, objective='reg:linear', random_state=0, reg_alpha=0,\n",
       "       reg_lambda=1, scale_pos_weight=1, seed=123, silent=True,\n",
       "       subsample=1)"
      ]
     },
     "execution_count": 28,
     "metadata": {},
     "output_type": "execute_result"
    }
   ],
   "source": [
    "# model = models[k]\n",
    "model = xgb.XGBRegressor(objective ='reg:linear', colsample_bytree = 0.3, learning_rate = 0.01, \n",
    "                          max_depth = 4, alpha = 10, n_estimators = 500, n_jobs=2, seed=123)\n",
    "model.fit(x_train, y_train)"
   ]
  },
  {
   "cell_type": "code",
   "execution_count": 29,
   "metadata": {},
   "outputs": [],
   "source": [
    "y_pred = model.predict(x_test)\n",
    "y_pred_ = util.data.y_pred(x_test, y_pred, save=True)"
   ]
  },
  {
   "cell_type": "code",
   "execution_count": 36,
   "metadata": {},
   "outputs": [
    {
     "data": {
      "text/html": [
       "<div>\n",
       "<style scoped>\n",
       "    .dataframe tbody tr th:only-of-type {\n",
       "        vertical-align: middle;\n",
       "    }\n",
       "\n",
       "    .dataframe tbody tr th {\n",
       "        vertical-align: top;\n",
       "    }\n",
       "\n",
       "    .dataframe thead th {\n",
       "        text-align: right;\n",
       "    }\n",
       "</style>\n",
       "<table border=\"1\" class=\"dataframe\">\n",
       "  <thead>\n",
       "    <tr style=\"text-align: right;\">\n",
       "      <th></th>\n",
       "      <th>srch_id</th>\n",
       "      <th>prop_id</th>\n",
       "    </tr>\n",
       "  </thead>\n",
       "  <tbody>\n",
       "    <tr>\n",
       "      <th>0</th>\n",
       "      <td>1</td>\n",
       "      <td>54937</td>\n",
       "    </tr>\n",
       "    <tr>\n",
       "      <th>1</th>\n",
       "      <td>1</td>\n",
       "      <td>61934</td>\n",
       "    </tr>\n",
       "    <tr>\n",
       "      <th>2</th>\n",
       "      <td>1</td>\n",
       "      <td>78599</td>\n",
       "    </tr>\n",
       "    <tr>\n",
       "      <th>3</th>\n",
       "      <td>1</td>\n",
       "      <td>99484</td>\n",
       "    </tr>\n",
       "    <tr>\n",
       "      <th>4</th>\n",
       "      <td>1</td>\n",
       "      <td>123675</td>\n",
       "    </tr>\n",
       "    <tr>\n",
       "      <th>5</th>\n",
       "      <td>1</td>\n",
       "      <td>82231</td>\n",
       "    </tr>\n",
       "    <tr>\n",
       "      <th>6</th>\n",
       "      <td>1</td>\n",
       "      <td>94729</td>\n",
       "    </tr>\n",
       "    <tr>\n",
       "      <th>7</th>\n",
       "      <td>1</td>\n",
       "      <td>63894</td>\n",
       "    </tr>\n",
       "    <tr>\n",
       "      <th>8</th>\n",
       "      <td>1</td>\n",
       "      <td>73666</td>\n",
       "    </tr>\n",
       "    <tr>\n",
       "      <th>9</th>\n",
       "      <td>1</td>\n",
       "      <td>28181</td>\n",
       "    </tr>\n",
       "  </tbody>\n",
       "</table>\n",
       "</div>"
      ],
      "text/plain": [
       "   srch_id  prop_id\n",
       "0        1    54937\n",
       "1        1    61934\n",
       "2        1    78599\n",
       "3        1    99484\n",
       "4        1   123675\n",
       "5        1    82231\n",
       "6        1    94729\n",
       "7        1    63894\n",
       "8        1    73666\n",
       "9        1    28181"
      ]
     },
     "execution_count": 36,
     "metadata": {},
     "output_type": "execute_result"
    }
   ],
   "source": [
    "pd.read_csv('data/y_pred_result_xgb_1b.csv', sep=',', nrows=10)"
   ]
  },
  {
   "cell_type": "code",
   "execution_count": 51,
   "metadata": {},
   "outputs": [],
   "source": []
  },
  {
   "cell_type": "code",
   "execution_count": null,
   "metadata": {},
   "outputs": [],
   "source": [
    "\n",
    "\n",
    "\n",
    "\n",
    "\n",
    "\n",
    "\n",
    "\n"
   ]
  },
  {
   "cell_type": "code",
   "execution_count": 36,
   "metadata": {},
   "outputs": [],
   "source": [
    "# some tests\n",
    "reload(util.data)\n",
    "\n",
    "n_cv_folds = 5\n",
    "ids = sklearn.utils.shuffle(data.srch_id.unique(), random_state=123)\n",
    "ids_per_fold  = np.array_split(ids, n_cv_folds)\n",
    "data_splits = util.data.split_data_based_on_ids(data, ids_per_fold)\n",
    "sum_ = sum([split.shape[0] for split in data_splits])\n",
    "assert sum_ == data.shape[0], (sum_, data.shape[0])\n",
    "\n",
    "for i in range(min(2,len(data_splits))):\n",
    "    for j in range(min(4, len(data_splits))):\n",
    "        # check index\n",
    "        if i != j:\n",
    "            for idx in data_splits[i].index:\n",
    "                assert idx not in data_splits[j].index\n",
    "\n",
    "        # check attr srch_id\n",
    "        if i != j:\n",
    "            for srch_id in data_splits[i].srch_id:\n",
    "                assert data_splits[j].query('srch_id == @srch_id').srch_id.size == 0"
   ]
  },
  {
   "cell_type": "code",
   "execution_count": 17,
   "metadata": {},
   "outputs": [],
   "source": [
    "bco_splits = [ util.data.split_bookings_clicks_others(data) for data in data_splits ]\n",
    "\n",
    "for i in range(len(bco_splits)):\n",
    "    for j in range(len(bco_splits)):\n",
    "        if i != j:\n",
    "            for srch_id in bco_splits[i][0].srch_id:\n",
    "                assert bco_splits[j][0].query('srch_id == @srch_id').shape[0] == 0\n",
    "                assert bco_splits[j][1].query('srch_id == @srch_id').shape[0] == 0\n",
    "                assert bco_splits[j][2].query('srch_id == @srch_id').shape[0] == 0"
   ]
  },
  {
   "cell_type": "code",
   "execution_count": 20,
   "metadata": {},
   "outputs": [],
   "source": [
    "# e.g. for every cv split i\n",
    "i = 0\n",
    "bco_split = bco_splits[i]\n",
    "bookings, clicks, others = bco_split\n",
    "size_per_sample = 2\n",
    "assert len(util.data.sample([bookings, clicks, others], size_per_sample)) == 3 * size_per_sample"
   ]
  },
  {
   "cell_type": "code",
   "execution_count": null,
   "metadata": {},
   "outputs": [],
   "source": []
  }
 ],
 "metadata": {
  "kernelspec": {
   "display_name": "Python 3",
   "language": "python",
   "name": "python3"
  },
  "language_info": {
   "codemirror_mode": {
    "name": "ipython",
    "version": 3
   },
   "file_extension": ".py",
   "mimetype": "text/x-python",
   "name": "python",
   "nbconvert_exporter": "python",
   "pygments_lexer": "ipython3",
   "version": "3.6.8"
  }
 },
 "nbformat": 4,
 "nbformat_minor": 2
}
