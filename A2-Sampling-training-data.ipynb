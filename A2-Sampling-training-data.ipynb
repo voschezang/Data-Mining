{
 "cells": [
  {
   "cell_type": "code",
   "execution_count": 1,
   "metadata": {},
   "outputs": [],
   "source": [
    "import numpy as np\n",
    "seed = 123\n",
    "np.random.seed(seed)\n",
    "import collections\n",
    "from importlib import reload\n",
    "import pandas as pd\n",
    "import sklearn"
   ]
  },
  {
   "cell_type": "code",
   "execution_count": 2,
   "metadata": {},
   "outputs": [],
   "source": [
    "import xgboost as xgb\n",
    "\n",
    "import sklearn.ensemble\n",
    "import sklearn.svm\n",
    "import sklearn.tree\n",
    "import sklearn.linear_model\n",
    "import sklearn.neighbors\n",
    "\n",
    "from sklearn.model_selection import cross_val_score\n",
    "from sklearn.model_selection import train_test_split\n",
    "import sklearn.metrics\n",
    "\n",
    "from sklearn import preprocessing\n",
    "from sklearn.preprocessing import OneHotEncoder\n",
    "from sklearn.model_selection import train_test_split"
   ]
  },
  {
   "cell_type": "code",
   "execution_count": 3,
   "metadata": {},
   "outputs": [],
   "source": [
    "# Consider the training dataset\n",
    "# Split the data up in n subsets, based on `search_id` to prevent occurence of a `search_id` in multiple sets\n",
    "# Resample each subset, now based on classes: select 1/3 booking, 1/3 click (but no booking), 1/3 none\n",
    "#     The resampling is used the preserve the class sizes\n",
    "# Use crossvalidation on the n sets to select hyperparams\n",
    "# Finally train model on full training dataset and make a prediction of the (unseen) test dataset"
   ]
  },
  {
   "cell_type": "code",
   "execution_count": 4,
   "metadata": {},
   "outputs": [],
   "source": [
    "import util.data\n",
    "import util.model\n",
    "import util.ndcg"
   ]
  },
  {
   "cell_type": "code",
   "execution_count": 5,
   "metadata": {},
   "outputs": [],
   "source": [
    "data_all = pd.read_csv('data/training_set_VU_DM_clean.csv', sep=';', nrows=2*1000)\n",
    "data_test_unlabelled = pd.read_csv('data/test_set_VU_DM_clean.csv', sep=';', nrows=1000)\n",
    "# scores = pd.read_csv('data/scores_train.csv', sep=';')\n",
    "data_all.drop(columns=['position'], inplace=True)"
   ]
  },
  {
   "cell_type": "code",
   "execution_count": 6,
   "metadata": {
    "scrolled": true
   },
   "outputs": [],
   "source": [
    "for k in data_all.columns:\n",
    "    if data_all[k].isna().sum() > 0:\n",
    "#         print('rm %0.4f' % (data_all[k].isna().sum() / data_all.shape[0]), k)\n",
    "        data_all.drop(columns=[k], inplace=True)"
   ]
  },
  {
   "cell_type": "code",
   "execution_count": 7,
   "metadata": {},
   "outputs": [],
   "source": [
    "# save some labelled data for testing\n",
    "ids = data_all.srch_id.unique()\n",
    "ids_train, ids_test = train_test_split(ids, test_size=0.5, random_state=42)\n",
    "data = data_all[data_all.srch_id.isin(ids_train)]\n",
    "data_test = data_all[data_all.srch_id.isin(ids_test)]"
   ]
  },
  {
   "cell_type": "code",
   "execution_count": 8,
   "metadata": {},
   "outputs": [],
   "source": [
    "# split cross validation folds\n",
    "folds = util.data.cv_folds_for_sklearn(data, n_cv_folds=5, resampling_ratio=0)\n",
    "\n",
    "# Use the full (pre-splitted) dataset because we use custom indices\n",
    "x, y = util.data.split_xy(data_all)"
   ]
  },
  {
   "cell_type": "code",
   "execution_count": 9,
   "metadata": {},
   "outputs": [],
   "source": [
    "seed = 123\n",
    "models = {\n",
    "#           'Logit': sklearn.linear_model.LogisticRegression(solver='liblinear',\n",
    "#                                                            multi_class='ovr'),\n",
    "# #           'SGD': sklearn.linear_model.SGDClassifier(loss=\"hinge\", penalty=\"l2\", max_iter=1000, tol=1e-3),\n",
    "#           'SVM': sklearn.svm.SVR(kernel='linear'),\n",
    "          'Decision Tree':  sklearn.tree.DecisionTreeClassifier(),\n",
    "#           'KNN 10': sklearn.neighbors.KNeighborsClassifier(n_neighbors=10),\n",
    "          'Ensemble Random Forest': sklearn.ensemble.RandomForestClassifier(n_estimators=100),\n",
    "#             'Gradient Boost': sklearn.ensemble.GradientBoostingRegressor(loss='ls', learning_rate=0.1, \n",
    "#                             n_estimators=100, subsample=1.0, criterion='friedman_mse', \n",
    "#                             max_depth=3,random_state=seed, alpha=0.9, tol=0.0001)    \n",
    "         'AdaBoost': sklearn.ensemble.AdaBoostRegressor(),\n",
    "          'Gradient Boost': xgb.XGBRegressor(objective ='reg:linear', colsample_bytree = 0.3, learning_rate = 0.01, \n",
    "                          max_depth = 4, alpha = 10, n_estimators = 500, n_jobs=2, seed=123)\n",
    "         }"
   ]
  },
  {
   "cell_type": "code",
   "execution_count": 10,
   "metadata": {
    "scrolled": false
   },
   "outputs": [
    {
     "name": "stdout",
     "output_type": "stream",
     "text": [
      "Decision Tree\n",
      "\u001b[34m\t scoring: neg_mean_squared_error\u001b[0m\n",
      "scores per fold  [-8.6667, -10.6667, -0.3333, -9.8333, -7.0]\n",
      "  mean score     -7.3\n",
      "  standard dev.  3.694440267332643\n",
      "Ensemble Random Forest\n",
      "\u001b[34m\t scoring: neg_mean_squared_error\u001b[0m\n",
      "scores per fold  [-17.0, -12.6667, -5.3333, -10.4167, -8.5]\n",
      "  mean score     -10.783333333333333\n",
      "  standard dev.  3.9305074594623126\n",
      "AdaBoost\n",
      "\u001b[34m\t scoring: neg_mean_squared_error\u001b[0m\n",
      "scores per fold  [-6.2147, -8.9823, -5.3416, -7.6481, -7.0208]\n",
      "  mean score     -7.041524103712727\n",
      "  standard dev.  1.2416127937466896\n",
      "Gradient Boost\n",
      "\u001b[34m\t scoring: neg_mean_squared_error\u001b[0m\n",
      "scores per fold  [-4.9554, -8.9844, -7.1534, -6.8281, -5.8642]\n",
      "  mean score     -6.757090912919649\n",
      "  standard dev.  1.3539811648090367\n"
     ]
    }
   ],
   "source": [
    "# reload(util.model)\n",
    "n_folds_used = 5\n",
    "results = {}\n",
    "for k,m in models.items():\n",
    "    print(k)\n",
    "    util.model.cross_validation(m, x, y, folds[:n_folds_used], k, results, scoring='neg_mean_squared_error')"
   ]
  },
  {
   "cell_type": "code",
   "execution_count": 11,
   "metadata": {},
   "outputs": [
    {
     "name": "stdout",
     "output_type": "stream",
     "text": [
      "Model & Mean & Std. dev. \\\\ \n",
      "\\hline\n",
      "Decision Tree & -7.3000 & 3.6944\\\\\n",
      "Ensemble Random Forest & -10.7833 & 3.9305\\\\\n",
      "AdaBoost & -7.0415 & 1.2416\\\\\n",
      "Gradient Boost & -6.7571 & 1.3540\\\\\n",
      "\u001b[32m\n",
      "best score: Gradient Boost, with mean: -6.7571\u001b[0m\n"
     ]
    }
   ],
   "source": [
    "k = util.model.scores_table(results)"
   ]
  },
  {
   "cell_type": "code",
   "execution_count": 21,
   "metadata": {},
   "outputs": [
    {
     "data": {
      "text/plain": [
       "XGBRegressor(alpha=10, base_score=0.5, booster='gbtree', colsample_bylevel=1,\n",
       "       colsample_bytree=0.3, gamma=0, importance_type='gain',\n",
       "       learning_rate=0.01, max_delta_step=0, max_depth=4,\n",
       "       min_child_weight=1, missing=None, n_estimators=500, n_jobs=2,\n",
       "       nthread=None, objective='reg:linear', random_state=0, reg_alpha=0,\n",
       "       reg_lambda=1, scale_pos_weight=1, seed=123, silent=True,\n",
       "       subsample=1)"
      ]
     },
     "execution_count": 21,
     "metadata": {},
     "output_type": "execute_result"
    }
   ],
   "source": [
    "model = models[k]\n",
    "# retrain model on train (+validation) data\n",
    "x_test, y_test = util.data.split_xy(data_test)\n",
    "model.fit(x,y)"
   ]
  },
  {
   "cell_type": "code",
   "execution_count": 22,
   "metadata": {},
   "outputs": [],
   "source": [
    "y_pred = model.predict(x_test)"
   ]
  },
  {
   "cell_type": "code",
   "execution_count": 23,
   "metadata": {
    "scrolled": false
   },
   "outputs": [
    {
     "name": "stderr",
     "output_type": "stream",
     "text": [
      "/Users/mark/miniconda3/lib/python3.6/site-packages/ipykernel_launcher.py:5: RuntimeWarning: invalid value encountered in double_scalars\n",
      "  \"\"\"\n"
     ]
    },
    {
     "data": {
      "text/plain": [
       "(0.0, 0.0, nan)"
      ]
     },
     "execution_count": 23,
     "metadata": {},
     "output_type": "execute_result"
    }
   ],
   "source": [
    "# reload(util.ndcg)\n",
    "ndcg_true = util.ndcg.y_true(data_test)\n",
    "ndcg_pred = util.ndcg.y_pred(x_test, y_pred)\n",
    "\n",
    "ndcg_true, ndcg_pred, ndcg_true / ndcg_pred"
   ]
  },
  {
   "cell_type": "code",
   "execution_count": 25,
   "metadata": {},
   "outputs": [
    {
     "data": {
      "text/plain": [
       "0.0"
      ]
     },
     "execution_count": 25,
     "metadata": {},
     "output_type": "execute_result"
    }
   ],
   "source": [
    "util.ndcg.mean(data_test), data_test.shape"
   ]
  },
  {
   "cell_type": "code",
   "execution_count": null,
   "metadata": {},
   "outputs": [],
   "source": []
  },
  {
   "cell_type": "code",
   "execution_count": null,
   "metadata": {},
   "outputs": [],
   "source": [
    "\n",
    "\n",
    "\n",
    "\n",
    "\n",
    "\n",
    "\n",
    "\n"
   ]
  },
  {
   "cell_type": "code",
   "execution_count": 15,
   "metadata": {},
   "outputs": [],
   "source": [
    "# some tests\n",
    "reload(util.data)\n",
    "\n",
    "n_cv_folds = 5\n",
    "ids = sklearn.utils.shuffle(data.srch_id.unique(), random_state=123)\n",
    "ids_per_fold  = np.array_split(ids, n_cv_folds)\n",
    "data_splits = util.data.split_data_based_on_ids(data, ids_per_fold)\n",
    "sum_ = sum([split.shape[0] for split in data_splits])\n",
    "assert sum_ == data.shape[0], (sum_, data.shape[0])\n",
    "\n",
    "for i in range(min(2,len(data_splits))):\n",
    "    for j in range(min(4, len(data_splits))):\n",
    "        # check index\n",
    "        if i != j:\n",
    "            for idx in data_splits[i].index:\n",
    "                assert idx not in data_splits[j].index\n",
    "\n",
    "        # check attr srch_id\n",
    "        if i != j:\n",
    "            for srch_id in data_splits[i].srch_id:\n",
    "                assert data_splits[j].query('srch_id == @srch_id').srch_id.size == 0"
   ]
  },
  {
   "cell_type": "code",
   "execution_count": 17,
   "metadata": {},
   "outputs": [],
   "source": [
    "bco_splits = [ util.data.split_bookings_clicks_others(data) for data in data_splits ]\n",
    "\n",
    "for i in range(len(bco_splits)):\n",
    "    for j in range(len(bco_splits)):\n",
    "        if i != j:\n",
    "            for srch_id in bco_splits[i][0].srch_id:\n",
    "                assert bco_splits[j][0].query('srch_id == @srch_id').shape[0] == 0\n",
    "                assert bco_splits[j][1].query('srch_id == @srch_id').shape[0] == 0\n",
    "                assert bco_splits[j][2].query('srch_id == @srch_id').shape[0] == 0"
   ]
  },
  {
   "cell_type": "code",
   "execution_count": 20,
   "metadata": {},
   "outputs": [],
   "source": [
    "# e.g. for every cv split i\n",
    "i = 0\n",
    "bco_split = bco_splits[i]\n",
    "bookings, clicks, others = bco_split\n",
    "size_per_sample = 2\n",
    "assert len(util.data.sample([bookings, clicks, others], size_per_sample)) == 3 * size_per_sample"
   ]
  },
  {
   "cell_type": "code",
   "execution_count": null,
   "metadata": {},
   "outputs": [],
   "source": []
  }
 ],
 "metadata": {
  "kernelspec": {
   "display_name": "Python 3",
   "language": "python",
   "name": "python3"
  },
  "language_info": {
   "codemirror_mode": {
    "name": "ipython",
    "version": 3
   },
   "file_extension": ".py",
   "mimetype": "text/x-python",
   "name": "python",
   "nbconvert_exporter": "python",
   "pygments_lexer": "ipython3",
   "version": "3.6.8"
  }
 },
 "nbformat": 4,
 "nbformat_minor": 2
}
