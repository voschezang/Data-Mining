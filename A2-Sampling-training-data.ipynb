{
 "cells": [
  {
   "cell_type": "code",
   "execution_count": 1,
   "metadata": {},
   "outputs": [],
   "source": [
    "import numpy as np\n",
    "seed = 123\n",
    "np.random.seed(seed)\n",
    "import collections\n",
    "from importlib import reload\n",
    "import pandas as pd\n",
    "import sklearn"
   ]
  },
  {
   "cell_type": "code",
   "execution_count": 2,
   "metadata": {},
   "outputs": [],
   "source": [
    "import xgboost as xgb\n",
    "\n",
    "import sklearn.ensemble\n",
    "import sklearn.svm\n",
    "import sklearn.tree\n",
    "import sklearn.linear_model\n",
    "import sklearn.neighbors\n",
    "\n",
    "from sklearn.model_selection import cross_val_score\n",
    "from sklearn.model_selection import train_test_split\n",
    "import sklearn.metrics\n",
    "\n",
    "from sklearn import preprocessing\n",
    "from sklearn.preprocessing import OneHotEncoder\n",
    "from sklearn.model_selection import train_test_split"
   ]
  },
  {
   "cell_type": "code",
   "execution_count": 3,
   "metadata": {},
   "outputs": [],
   "source": [
    "# Consider the training dataset\n",
    "# Split the data up in n subsets, based on `search_id` to prevent occurence of a `search_id` in multiple sets\n",
    "# Resample each subset, now based on classes: select 1/3 booking, 1/3 click (but no booking), 1/3 none\n",
    "#     The resampling is used the preserve the class sizes\n",
    "# Use crossvalidation on the n sets to select hyperparams\n",
    "# Finally train model on full training dataset and make a prediction of the (unseen) test dataset"
   ]
  },
  {
   "cell_type": "code",
   "execution_count": 56,
   "metadata": {},
   "outputs": [],
   "source": [
    "import util.data\n",
    "import util.model"
   ]
  },
  {
   "cell_type": "code",
   "execution_count": 5,
   "metadata": {},
   "outputs": [],
   "source": [
    "data = pd.read_csv('data/training_set_VU_DM_clean.csv', sep=';', nrows=2*1000)\n",
    "data_test = pd.read_csv('data/test_set_VU_DM_clean.csv', sep=';', nrows=1000)\n",
    "# scores = pd.read_csv('data/scores_train.csv', sep=';')\n",
    "data.drop(columns=['position'], inplace=True)"
   ]
  },
  {
   "cell_type": "code",
   "execution_count": 6,
   "metadata": {
    "scrolled": true
   },
   "outputs": [
    {
     "name": "stdout",
     "output_type": "stream",
     "text": [
      "rm  0.9815 comp1_rate\n",
      "rm  0.98 comp1_inv\n",
      "rm  0.984 comp1_rate_percent_diff\n",
      "rm  0.59 comp2_rate\n",
      "rm  0.5705 comp2_inv\n",
      "rm  0.8935 comp2_rate_percent_diff\n",
      "rm  0.6495 comp3_rate\n",
      "rm  0.6335 comp3_inv\n",
      "rm  0.9185 comp3_rate_percent_diff\n",
      "rm  0.94 comp4_rate\n",
      "rm  0.9315 comp4_inv\n",
      "rm  0.9785 comp4_rate_percent_diff\n",
      "rm  0.5105 comp5_rate\n",
      "rm  0.4855 comp5_inv\n",
      "rm  0.817 comp5_rate_percent_diff\n",
      "rm  0.9235 comp6_rate\n",
      "rm  0.9175 comp6_inv\n",
      "rm  0.9655 comp6_rate_percent_diff\n",
      "rm  0.9075 comp7_rate\n",
      "rm  0.8915 comp7_inv\n",
      "rm  0.96 comp7_rate_percent_diff\n",
      "rm  0.5755 comp8_rate\n",
      "rm  0.556 comp8_inv\n",
      "rm  0.876 comp8_rate_percent_diff\n"
     ]
    }
   ],
   "source": [
    "for k in data.columns:\n",
    "    if data[k].isna().sum() > 0:\n",
    "        print('rm ', data[k].isna().sum() / data.shape[0], k)\n",
    "        data.drop(columns=[k], inplace=True)"
   ]
  },
  {
   "cell_type": "code",
   "execution_count": 57,
   "metadata": {},
   "outputs": [
    {
     "data": {
      "text/plain": [
       "['click_bool', 'booking_bool', 'score']"
      ]
     },
     "execution_count": 57,
     "metadata": {},
     "output_type": "execute_result"
    }
   ],
   "source": [
    "y_labels = [ k for k in data.columns if k not in data_test.columns ]\n",
    "y_labels"
   ]
  },
  {
   "cell_type": "code",
   "execution_count": 58,
   "metadata": {},
   "outputs": [],
   "source": [
    "def split_xy(data: pd.DataFrame, y_label='score'):\n",
    "    return data.drop(columns=y_labels).values, data[y_label].values"
   ]
  },
  {
   "cell_type": "code",
   "execution_count": 59,
   "metadata": {},
   "outputs": [],
   "source": [
    "reload(util.data)\n",
    "folds = util.data.cv_folds_for_sklearn(data, n_cv_folds=5, resampling_ratio=0)\n",
    "x, y = split_xy(data)"
   ]
  },
  {
   "cell_type": "code",
   "execution_count": 79,
   "metadata": {},
   "outputs": [],
   "source": [
    "seed = 123\n",
    "models = {\n",
    "#           'Logit': sklearn.linear_model.LogisticRegression(solver='liblinear',\n",
    "#                                                            multi_class='ovr'),\n",
    "# #           'SGD': sklearn.linear_model.SGDClassifier(loss=\"hinge\", penalty=\"l2\", max_iter=1000, tol=1e-3),\n",
    "#           'SVM': sklearn.svm.SVR(kernel='linear'),\n",
    "          'Decision Tree':  sklearn.tree.DecisionTreeClassifier(),\n",
    "#           'KNN 10': sklearn.neighbors.KNeighborsClassifier(n_neighbors=10),\n",
    "          'Ensemble Random Forest': sklearn.ensemble.RandomForestClassifier(n_estimators=100),\n",
    "#             'Gradient Boost': sklearn.ensemble.GradientBoostingRegressor(loss='ls', learning_rate=0.1, \n",
    "#                             n_estimators=100, subsample=1.0, criterion='friedman_mse', \n",
    "#                             max_depth=3,random_state=seed, alpha=0.9, tol=0.0001)    \n",
    "         'AdaBoost': sklearn.ensemble.AdaBoostRegressor(),\n",
    "          'Gradient Boost': xgb.XGBRegressor(objective ='reg:linear', colsample_bytree = 0.3, learning_rate = 0.01, \n",
    "                          max_depth = 4, alpha = 10, n_estimators = 500, n_jobs=2, seed=123)\n",
    "         }"
   ]
  },
  {
   "cell_type": "code",
   "execution_count": 80,
   "metadata": {
    "scrolled": false
   },
   "outputs": [
    {
     "name": "stdout",
     "output_type": "stream",
     "text": [
      "Decision Tree\n",
      "\u001b[34m\t scoring: explained_variance\u001b[0m\n",
      "scores per fold  [-0.7823, -0.1613, 0.4868, -0.3942, -1.7196]\n",
      "  mean score     -0.5141237447359895\n",
      "  standard dev.  0.7301631882599674\n",
      "Ensemble Random Forest\n",
      "\u001b[34m\t scoring: explained_variance\u001b[0m\n",
      "scores per fold  [-0.3158, -0.896, -0.119, -0.3366, 0.3333]\n",
      "  mean score     -0.2668421336788683\n",
      "  standard dev.  0.39627909860175575\n",
      "AdaBoost\n",
      "\u001b[34m\t scoring: explained_variance\u001b[0m\n",
      "scores per fold  [-0.2719, 0.299, 0.6323, 0.1855, 0.9336]\n",
      "  mean score     0.35571003690180514\n",
      "  standard dev.  0.4090201366793554\n",
      "Gradient Boost\n",
      "\u001b[34m\t scoring: explained_variance\u001b[0m\n",
      "scores per fold  [0.1445, 0.2856, 0.3264, 0.1966, 0.4465]\n",
      "  mean score     0.2799185131606986\n",
      "  standard dev.  0.10508558687659222\n"
     ]
    }
   ],
   "source": [
    "reload(util.model)\n",
    "n_folds_used = 5\n",
    "results = {}\n",
    "for k,m in models.items():\n",
    "    print(k)\n",
    "    util.model.cross_validation(m, x, y, folds[:n_folds_used], k, results)"
   ]
  },
  {
   "cell_type": "code",
   "execution_count": 81,
   "metadata": {},
   "outputs": [
    {
     "name": "stdout",
     "output_type": "stream",
     "text": [
      "Model & Mean & Std. dev. \\\\ \n",
      "\\hline\n",
      "Decision Tree & -0.5141 & 0.7302\\\\\n",
      "Ensemble Random Forest & -0.2668 & 0.3963\\\\\n",
      "AdaBoost & 0.3557 & 0.4090\\\\\n",
      "Gradient Boost & 0.2799 & 0.1051\\\\\n",
      "\u001b[32m\n",
      "best score: AdaBoost, with mean: 0.3557\u001b[0m\n"
     ]
    }
   ],
   "source": [
    "util.model.scores_table(results)"
   ]
  },
  {
   "cell_type": "code",
   "execution_count": 78,
   "metadata": {},
   "outputs": [
    {
     "data": {
      "text/plain": [
       "((22,), (22,), (22,))"
      ]
     },
     "execution_count": 78,
     "metadata": {},
     "output_type": "execute_result"
    }
   ],
   "source": [
    "y1 = y[folds[0][0]]\n",
    "y1[y1 == 5].shape, y1[y1 == 0].shape, y1[y1 == 1].shape"
   ]
  },
  {
   "cell_type": "code",
   "execution_count": null,
   "metadata": {},
   "outputs": [],
   "source": []
  },
  {
   "cell_type": "code",
   "execution_count": null,
   "metadata": {},
   "outputs": [],
   "source": []
  },
  {
   "cell_type": "code",
   "execution_count": null,
   "metadata": {},
   "outputs": [],
   "source": []
  },
  {
   "cell_type": "code",
   "execution_count": null,
   "metadata": {},
   "outputs": [],
   "source": [
    "\n",
    "\n",
    "\n",
    "\n",
    "\n",
    "\n",
    "\n",
    "\n"
   ]
  },
  {
   "cell_type": "code",
   "execution_count": 15,
   "metadata": {},
   "outputs": [],
   "source": [
    "# some tests\n",
    "reload(util.data)\n",
    "\n",
    "n_cv_folds = 5\n",
    "ids = sklearn.utils.shuffle(data.srch_id.unique(), random_state=123)\n",
    "ids_per_fold  = np.array_split(ids, n_cv_folds)\n",
    "data_splits = util.data.split_data_based_on_ids(data, ids_per_fold)\n",
    "sum_ = sum([split.shape[0] for split in data_splits])\n",
    "assert sum_ == data.shape[0], (sum_, data.shape[0])\n",
    "\n",
    "for i in range(min(2,len(data_splits))):\n",
    "    for j in range(min(4, len(data_splits))):\n",
    "        # check index\n",
    "        if i != j:\n",
    "            for idx in data_splits[i].index:\n",
    "                assert idx not in data_splits[j].index\n",
    "\n",
    "        # check attr srch_id\n",
    "        if i != j:\n",
    "            for srch_id in data_splits[i].srch_id:\n",
    "                assert data_splits[j].query('srch_id == @srch_id').srch_id.size == 0"
   ]
  },
  {
   "cell_type": "code",
   "execution_count": 17,
   "metadata": {},
   "outputs": [],
   "source": [
    "bco_splits = [ util.data.split_bookings_clicks_others(data) for data in data_splits ]\n",
    "\n",
    "for i in range(len(bco_splits)):\n",
    "    for j in range(len(bco_splits)):\n",
    "        if i != j:\n",
    "            for srch_id in bco_splits[i][0].srch_id:\n",
    "                assert bco_splits[j][0].query('srch_id == @srch_id').shape[0] == 0\n",
    "                assert bco_splits[j][1].query('srch_id == @srch_id').shape[0] == 0\n",
    "                assert bco_splits[j][2].query('srch_id == @srch_id').shape[0] == 0"
   ]
  },
  {
   "cell_type": "code",
   "execution_count": 20,
   "metadata": {},
   "outputs": [],
   "source": [
    "# e.g. for every cv split i\n",
    "i = 0\n",
    "bco_split = bco_splits[i]\n",
    "bookings, clicks, others = bco_split\n",
    "size_per_sample = 2\n",
    "assert len(util.data.sample([bookings, clicks, others], size_per_sample)) == 3 * size_per_sample"
   ]
  },
  {
   "cell_type": "code",
   "execution_count": null,
   "metadata": {},
   "outputs": [],
   "source": []
  }
 ],
 "metadata": {
  "kernelspec": {
   "display_name": "Python 3",
   "language": "python",
   "name": "python3"
  },
  "language_info": {
   "codemirror_mode": {
    "name": "ipython",
    "version": 3
   },
   "file_extension": ".py",
   "mimetype": "text/x-python",
   "name": "python",
   "nbconvert_exporter": "python",
   "pygments_lexer": "ipython3",
   "version": "3.6.8"
  }
 },
 "nbformat": 4,
 "nbformat_minor": 2
}
