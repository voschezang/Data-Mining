{
 "cells": [
  {
   "cell_type": "code",
   "execution_count": 619,
   "metadata": {},
   "outputs": [],
   "source": [
    "# %matplotlib notebook\n",
    "# %matplotlib inline\n",
    "import numpy as np\n",
    "np.random.seed(123)\n",
    "import collections, copy, pickle\n",
    "import scipy.linalg\n",
    "import pandas as pd\n",
    "import sklearn\n",
    "# import scipy.sparse\n",
    "# import scipy.sparse.linalg\n",
    "import matplotlib\n",
    "# import matplotlib.transforms\n",
    "import matplotlib.pyplot as plt\n",
    "from matplotlib.ticker import NullFormatter\n",
    "# import mpl_toolkits.mplot3d.axes3d as p3\n",
    "# from mpl_toolkits.mplot3d import Axes3D\n",
    "# from matplotlib import cm\n",
    "# from matplotlib.ticker import LinearLocator, FormatStrFormatter\n",
    "# from matplotlib import animation\n",
    "from matplotlib import rcParams\n",
    "rcParams['font.family'] = 'serif'\n",
    "rcParams['font.size'] = 14\n",
    "# rcParams['text.usetex'] = True\n",
    "from IPython.display import HTML\n",
    "# from numba import jit, njit, float32, prange\n",
    "# import cProfile"
   ]
  },
  {
   "cell_type": "code",
   "execution_count": 436,
   "metadata": {},
   "outputs": [],
   "source": [
    "from sklearn.svm import SVC\n",
    "from sklearn.metrics import accuracy_score\n",
    "from sklearn.tree import DecisionTreeClassifier\n",
    "from sklearn.model_selection import cross_val_score\n",
    "from sklearn.metrics import roc_auc_score, make_scorer\n",
    "\n",
    "from sklearn.model_selection import train_test_split\n",
    "from sklearn.svm import SVC\n",
    "from sklearn.metrics import accuracy_score\n",
    "from sklearn.tree import DecisionTreeClassifier\n",
    "from sklearn.neighbors import KNeighborsClassifier\n",
    "from sklearn.model_selection import cross_val_score\n",
    "from sklearn.metrics import roc_auc_score, make_scorer\n",
    "from sklearn.metrics import mean_squared_error, r2_score\n",
    "from sklearn.linear_model import LinearRegression\n",
    "from sklearn.tree import DecisionTreeRegressor\n",
    "from sklearn.neighbors import KNeighborsRegressor\n",
    "from sklearn.metrics import mean_squared_error"
   ]
  },
  {
   "cell_type": "code",
   "execution_count": 246,
   "metadata": {},
   "outputs": [],
   "source": [
    "# https://github.com/pbloem/machine-learning/blob/master/worksheets/Worksheet%202%2C%20Sklearn.ipynb"
   ]
  },
  {
   "cell_type": "code",
   "execution_count": 3,
   "metadata": {},
   "outputs": [],
   "source": [
    "data = pd.read_csv('ODI-2019-clean.csv', sep=';')"
   ]
  },
  {
   "cell_type": "code",
   "execution_count": 4,
   "metadata": {},
   "outputs": [
    {
     "data": {
      "text/html": [
       "<div>\n",
       "<style scoped>\n",
       "    .dataframe tbody tr th:only-of-type {\n",
       "        vertical-align: middle;\n",
       "    }\n",
       "\n",
       "    .dataframe tbody tr th {\n",
       "        vertical-align: top;\n",
       "    }\n",
       "\n",
       "    .dataframe thead th {\n",
       "        text-align: right;\n",
       "    }\n",
       "</style>\n",
       "<table border=\"1\" class=\"dataframe\">\n",
       "  <thead>\n",
       "    <tr style=\"text-align: right;\">\n",
       "      <th></th>\n",
       "      <th>Unnamed: 0</th>\n",
       "      <th>Day</th>\n",
       "      <th>Month</th>\n",
       "      <th>Year</th>\n",
       "      <th>Neighbours</th>\n",
       "      <th>Money</th>\n",
       "    </tr>\n",
       "  </thead>\n",
       "  <tbody>\n",
       "    <tr>\n",
       "      <th>count</th>\n",
       "      <td>276.000000</td>\n",
       "      <td>201.000000</td>\n",
       "      <td>201.000000</td>\n",
       "      <td>176.000000</td>\n",
       "      <td>276.000000</td>\n",
       "      <td>276.000000</td>\n",
       "    </tr>\n",
       "    <tr>\n",
       "      <th>mean</th>\n",
       "      <td>137.500000</td>\n",
       "      <td>15.233831</td>\n",
       "      <td>6.651741</td>\n",
       "      <td>1992.323864</td>\n",
       "      <td>39.286232</td>\n",
       "      <td>inf</td>\n",
       "    </tr>\n",
       "    <tr>\n",
       "      <th>std</th>\n",
       "      <td>79.818544</td>\n",
       "      <td>8.970510</td>\n",
       "      <td>3.519675</td>\n",
       "      <td>13.174117</td>\n",
       "      <td>250.892272</td>\n",
       "      <td>NaN</td>\n",
       "    </tr>\n",
       "    <tr>\n",
       "      <th>min</th>\n",
       "      <td>0.000000</td>\n",
       "      <td>0.000000</td>\n",
       "      <td>0.000000</td>\n",
       "      <td>1900.000000</td>\n",
       "      <td>0.000000</td>\n",
       "      <td>0.000000</td>\n",
       "    </tr>\n",
       "    <tr>\n",
       "      <th>25%</th>\n",
       "      <td>68.750000</td>\n",
       "      <td>8.000000</td>\n",
       "      <td>4.000000</td>\n",
       "      <td>1993.000000</td>\n",
       "      <td>2.000000</td>\n",
       "      <td>1.000000</td>\n",
       "    </tr>\n",
       "    <tr>\n",
       "      <th>50%</th>\n",
       "      <td>137.500000</td>\n",
       "      <td>15.000000</td>\n",
       "      <td>7.000000</td>\n",
       "      <td>1995.000000</td>\n",
       "      <td>3.000000</td>\n",
       "      <td>10.000000</td>\n",
       "    </tr>\n",
       "    <tr>\n",
       "      <th>75%</th>\n",
       "      <td>206.250000</td>\n",
       "      <td>23.000000</td>\n",
       "      <td>10.000000</td>\n",
       "      <td>1996.000000</td>\n",
       "      <td>6.000000</td>\n",
       "      <td>80.000000</td>\n",
       "    </tr>\n",
       "    <tr>\n",
       "      <th>max</th>\n",
       "      <td>275.000000</td>\n",
       "      <td>31.000000</td>\n",
       "      <td>12.000000</td>\n",
       "      <td>2030.000000</td>\n",
       "      <td>3921.000000</td>\n",
       "      <td>inf</td>\n",
       "    </tr>\n",
       "  </tbody>\n",
       "</table>\n",
       "</div>"
      ],
      "text/plain": [
       "       Unnamed: 0         Day       Month         Year   Neighbours  \\\n",
       "count  276.000000  201.000000  201.000000   176.000000   276.000000   \n",
       "mean   137.500000   15.233831    6.651741  1992.323864    39.286232   \n",
       "std     79.818544    8.970510    3.519675    13.174117   250.892272   \n",
       "min      0.000000    0.000000    0.000000  1900.000000     0.000000   \n",
       "25%     68.750000    8.000000    4.000000  1993.000000     2.000000   \n",
       "50%    137.500000   15.000000    7.000000  1995.000000     3.000000   \n",
       "75%    206.250000   23.000000   10.000000  1996.000000     6.000000   \n",
       "max    275.000000   31.000000   12.000000  2030.000000  3921.000000   \n",
       "\n",
       "            Money  \n",
       "count  276.000000  \n",
       "mean          inf  \n",
       "std           NaN  \n",
       "min      0.000000  \n",
       "25%      1.000000  \n",
       "50%     10.000000  \n",
       "75%     80.000000  \n",
       "max           inf  "
      ]
     },
     "execution_count": 4,
     "metadata": {},
     "output_type": "execute_result"
    }
   ],
   "source": [
    "data.describe()"
   ]
  },
  {
   "cell_type": "code",
   "execution_count": 5,
   "metadata": {},
   "outputs": [
    {
     "data": {
      "text/html": [
       "<div>\n",
       "<style scoped>\n",
       "    .dataframe tbody tr th:only-of-type {\n",
       "        vertical-align: middle;\n",
       "    }\n",
       "\n",
       "    .dataframe tbody tr th {\n",
       "        vertical-align: top;\n",
       "    }\n",
       "\n",
       "    .dataframe thead th {\n",
       "        text-align: right;\n",
       "    }\n",
       "</style>\n",
       "<table border=\"1\" class=\"dataframe\">\n",
       "  <thead>\n",
       "    <tr style=\"text-align: right;\">\n",
       "      <th></th>\n",
       "      <th>Unnamed: 0</th>\n",
       "      <th>Timestamp</th>\n",
       "      <th>ML</th>\n",
       "      <th>IR</th>\n",
       "      <th>Stat</th>\n",
       "      <th>DB</th>\n",
       "      <th>Gender</th>\n",
       "      <th>Chocolate</th>\n",
       "      <th>Stand up</th>\n",
       "      <th>Rand</th>\n",
       "      <th>Bedtime</th>\n",
       "      <th>Good day (1)</th>\n",
       "      <th>Good day (2)</th>\n",
       "      <th>Stress level</th>\n",
       "      <th>Program</th>\n",
       "      <th>Day</th>\n",
       "      <th>Month</th>\n",
       "      <th>Year</th>\n",
       "      <th>Neighbours</th>\n",
       "      <th>Money</th>\n",
       "    </tr>\n",
       "  </thead>\n",
       "  <tbody>\n",
       "    <tr>\n",
       "      <th>0</th>\n",
       "      <td>0</td>\n",
       "      <td>3/27/2019 10:16:11</td>\n",
       "      <td>yes</td>\n",
       "      <td>1</td>\n",
       "      <td>mu</td>\n",
       "      <td>ja</td>\n",
       "      <td>unknown</td>\n",
       "      <td>slim</td>\n",
       "      <td>no</td>\n",
       "      <td>6</td>\n",
       "      <td>23:00</td>\n",
       "      <td>sun</td>\n",
       "      <td>lecture</td>\n",
       "      <td>NaN</td>\n",
       "      <td>AI</td>\n",
       "      <td>NaN</td>\n",
       "      <td>NaN</td>\n",
       "      <td>NaN</td>\n",
       "      <td>3.0</td>\n",
       "      <td>100.0</td>\n",
       "    </tr>\n",
       "    <tr>\n",
       "      <th>1</th>\n",
       "      <td>1</td>\n",
       "      <td>4/1/2019 15:58:21</td>\n",
       "      <td>no</td>\n",
       "      <td>0</td>\n",
       "      <td>mu</td>\n",
       "      <td>ja</td>\n",
       "      <td>male</td>\n",
       "      <td>fat</td>\n",
       "      <td>no</td>\n",
       "      <td>7</td>\n",
       "      <td>3</td>\n",
       "      <td>DM</td>\n",
       "      <td>AI</td>\n",
       "      <td>1</td>\n",
       "      <td>AI</td>\n",
       "      <td>9.0</td>\n",
       "      <td>7.0</td>\n",
       "      <td>1992.0</td>\n",
       "      <td>1.0</td>\n",
       "      <td>0.0</td>\n",
       "    </tr>\n",
       "    <tr>\n",
       "      <th>2</th>\n",
       "      <td>2</td>\n",
       "      <td>4/1/2019 15:59:07</td>\n",
       "      <td>yes</td>\n",
       "      <td>1</td>\n",
       "      <td>unknown</td>\n",
       "      <td>ja</td>\n",
       "      <td>male</td>\n",
       "      <td>neither</td>\n",
       "      <td>unknown</td>\n",
       "      <td>0</td>\n",
       "      <td>0</td>\n",
       "      <td>0</td>\n",
       "      <td>0</td>\n",
       "      <td>100</td>\n",
       "      <td>CS</td>\n",
       "      <td>4.0</td>\n",
       "      <td>8.0</td>\n",
       "      <td>1995.0</td>\n",
       "      <td>0.0</td>\n",
       "      <td>0.0</td>\n",
       "    </tr>\n",
       "    <tr>\n",
       "      <th>3</th>\n",
       "      <td>3</td>\n",
       "      <td>4/1/2019 15:59:30</td>\n",
       "      <td>yes</td>\n",
       "      <td>1</td>\n",
       "      <td>mu</td>\n",
       "      <td>ja</td>\n",
       "      <td>male</td>\n",
       "      <td>fat</td>\n",
       "      <td>no</td>\n",
       "      <td>1,645</td>\n",
       "      <td>0,3</td>\n",
       "      <td>Winning</td>\n",
       "      <td>Food</td>\n",
       "      <td>0</td>\n",
       "      <td>ECONOMETRICS</td>\n",
       "      <td>29.0</td>\n",
       "      <td>9.0</td>\n",
       "      <td>1993.0</td>\n",
       "      <td>2.0</td>\n",
       "      <td>42.0</td>\n",
       "    </tr>\n",
       "    <tr>\n",
       "      <th>4</th>\n",
       "      <td>4</td>\n",
       "      <td>4/1/2019 15:59:58</td>\n",
       "      <td>no</td>\n",
       "      <td>1</td>\n",
       "      <td>mu</td>\n",
       "      <td>ja</td>\n",
       "      <td>male</td>\n",
       "      <td>neither</td>\n",
       "      <td>no</td>\n",
       "      <td>66</td>\n",
       "      <td>20</td>\n",
       "      <td>kiss</td>\n",
       "      <td>love</td>\n",
       "      <td>100</td>\n",
       "      <td>CS</td>\n",
       "      <td>NaN</td>\n",
       "      <td>NaN</td>\n",
       "      <td>NaN</td>\n",
       "      <td>2.0</td>\n",
       "      <td>10.0</td>\n",
       "    </tr>\n",
       "  </tbody>\n",
       "</table>\n",
       "</div>"
      ],
      "text/plain": [
       "   Unnamed: 0           Timestamp   ML IR     Stat  DB   Gender Chocolate  \\\n",
       "0           0  3/27/2019 10:16:11  yes  1       mu  ja  unknown      slim   \n",
       "1           1   4/1/2019 15:58:21   no  0       mu  ja     male       fat   \n",
       "2           2   4/1/2019 15:59:07  yes  1  unknown  ja     male   neither   \n",
       "3           3   4/1/2019 15:59:30  yes  1       mu  ja     male       fat   \n",
       "4           4   4/1/2019 15:59:58   no  1       mu  ja     male   neither   \n",
       "\n",
       "  Stand up   Rand Bedtime Good day (1) Good day (2) Stress level  \\\n",
       "0       no      6   23:00          sun      lecture          NaN   \n",
       "1       no      7       3           DM           AI            1   \n",
       "2  unknown      0       0            0            0          100   \n",
       "3       no  1,645     0,3      Winning         Food            0   \n",
       "4       no     66      20         kiss         love          100   \n",
       "\n",
       "        Program   Day  Month    Year  Neighbours  Money  \n",
       "0            AI   NaN    NaN     NaN         3.0  100.0  \n",
       "1            AI   9.0    7.0  1992.0         1.0    0.0  \n",
       "2            CS   4.0    8.0  1995.0         0.0    0.0  \n",
       "3  ECONOMETRICS  29.0    9.0  1993.0         2.0   42.0  \n",
       "4            CS   NaN    NaN     NaN         2.0   10.0  "
      ]
     },
     "execution_count": 5,
     "metadata": {},
     "output_type": "execute_result"
    }
   ],
   "source": [
    "data.head()"
   ]
  },
  {
   "cell_type": "markdown",
   "metadata": {},
   "source": [
    "## Categorical models"
   ]
  },
  {
   "cell_type": "code",
   "execution_count": 16,
   "metadata": {},
   "outputs": [],
   "source": [
    "# https://scikit-learn.org/stable/modules/classes.html#module-sklearn.preprocessing\n",
    "\n",
    "# from sklearn.preprocessing import MultiLabelBinarizer\n",
    "from sklearn import preprocessing\n",
    "from sklearn.preprocessing import OneHotEncoder\n",
    "from sklearn.model_selection import train_test_split"
   ]
  },
  {
   "cell_type": "markdown",
   "metadata": {},
   "source": [
    "# Discretization\n",
    "\n",
    "https://scikit-learn.org/stable/modules/preprocessing.html#preprocessing-categorical-features\n",
    "\n",
    "https://scikit-learn.org/stable/auto_examples/preprocessing/plot_discretization_strategies.html#sphx-glr-auto-examples-preprocessing-plot-discretization-strategies-py\n",
    "\n",
    "Strategies:\n",
    "-    ‘uniform’: The discretization is uniform in each feature, which means that the bin widths are constant in each dimension.\n",
    "-    quantile’: The discretization is done on the quantiled values, which means that each bin has approximately the same number of samples.\n",
    "       - this causes outliers to be grouped together\n",
    "-    ‘kmeans’: The discretization is based on the centroids of a KMeans clustering procedure."
   ]
  },
  {
   "cell_type": "code",
   "execution_count": 89,
   "metadata": {},
   "outputs": [],
   "source": [
    "X = data['Year']\n",
    "mean = np.nanmean([x for x in X])\n",
    "X = np.where(np.isnan(X), mean, X)\n",
    "X = X.reshape(-1,1)\n",
    "bins = np.repeat(5, X.shape[1]) # e.g. [5,3] for 2 features\n",
    "# quantile seem the best strategies\n",
    "est = preprocessing.KBinsDiscretizer(n_bins=bins, encode='ordinal', strategy='kmeans')\n",
    "est.fit(X)\n",
    "data['Year bin'] = est.transform(X)\n",
    "\n",
    "class Encoders: pass\n",
    "E = Encoders()\n",
    "E.discretizers = {'Year': est}\n",
    "E.encoders = {}"
   ]
  },
  {
   "cell_type": "code",
   "execution_count": 90,
   "metadata": {},
   "outputs": [],
   "source": [
    "# def plot_discretizer(X, enc):\n",
    "#     fig = plt.figure()\n",
    "#     ax = fig.add_subplot(111)\n",
    "    \n",
    "#     xx, yy = np.meshgrid(\n",
    "#         np.linspace(X[:, 0].min(), X[:, 0].max(), 300),\n",
    "#         np.linspace(X[:, 1].min(), X[:, 1].max(), 300))\n",
    "#     grid = np.c_[xx.ravel(), yy.ravel()]\n",
    "\n",
    "#     ax.set_xlim(xx.min(), xx.max())\n",
    "#     ax.set_ylim(yy.min(), yy.max())\n",
    "#     ax.set_xticks(())\n",
    "#     ax.set_yticks(())\n",
    "\n",
    "#     # transform the dataset with KBinsDiscretizer\n",
    "#     enc.fit(X)\n",
    "#     grid_encoded = enc.transform(grid)\n",
    "\n",
    "#     ax = plt.subplot(len(X_list), len(strategies) + 1, i)\n",
    "\n",
    "#      # horizontal stripes\n",
    "#     horizontal = grid_encoded[:, 0].reshape(xx.shape)\n",
    "#     ax.contourf(xx, yy, horizontal, alpha=.5)\n",
    "#     # vertical stripes\n",
    "#     vertical = grid_encoded[:, 1].reshape(xx.shape)\n",
    "#     ax.contourf(xx, yy, vertical, alpha=.5)\n",
    "\n",
    "#     ax.scatter(X[:, 0], X[:, 1], edgecolors='k')\n",
    "#     ax.set_xlim(xx.min(), xx.max())\n",
    "#     ax.set_ylim(yy.min(), yy.max())\n",
    "#     ax.set_xticks(())\n",
    "#     ax.set_yticks(())\n",
    "#     if ds_cnt == 0:\n",
    "#         ax.set_title(\"strategy='%s'\" % (strategy, ), size=14)"
   ]
  },
  {
   "cell_type": "code",
   "execution_count": 91,
   "metadata": {},
   "outputs": [],
   "source": [
    "# plot_discretizer(X, est)"
   ]
  },
  {
   "cell_type": "code",
   "execution_count": 476,
   "metadata": {},
   "outputs": [
    {
     "data": {
      "text/plain": [
       "[array(['mu', 'sigma', 'unknown'], dtype=object),\n",
       " array([0.0, 1.0, 2.0, 3.0, 4.0], dtype=object),\n",
       " array(['AI', 'BA', 'BIOINFORMATICS', 'BIOSB', 'BOINFORMATICS', 'CLS',\n",
       "        'CLSJD', 'CS', 'CS (EXCHANGE)',\n",
       "        'DBI DIGITAL BUSINESS AND INNOVATION', 'DHPQRM',\n",
       "        'DIGITAL BUSINESS & INNOVATION', 'DS', 'DUISENBERG QRM',\n",
       "        'ECONOMETRICS', 'EOR', 'EXCHANGE STUDENT (SOCIOLOGY)', 'FINANCE',\n",
       "        'FINANCIAL ECONOMETRIVS', 'HEALTH SCIENCES',\n",
       "        'INFORMATION SCIENCES ', 'INFORMATION STUDIES: DATA SCIENCE (UVA)',\n",
       "        'M AI', 'MA DATA SCIENCE (UVA)', 'MA LANGUAGE TECHNOLOGY',\n",
       "        'MASTER AI', 'MASTER DIGITAL BUSINESS AND INNOVATION',\n",
       "        'MASTER HEALTH SCIENCES',\n",
       "        'MASTER MANAGEMENT, POLICY ANALYSIS AND ENTREPENEURSHIP IN HEALTH AND LIFE SCIENCES',\n",
       "        'MASTER OF FINANCE', 'MASTERS COMPUATIONAL SCIENCE', 'MASTERS EOR',\n",
       "        'MATHS, STOCHASTICS, MASTER, UVA', 'MBA', 'MEDICAL INFORMATICS',\n",
       "        'MS', 'MSC QRM (DHP)', 'MSCS', 'MULTIPLE PROGRAMMES',\n",
       "        'OPERATION RESEARCH', 'PSYCHOLOGY', 'QRM',\n",
       "        'QUANTITATIVE RISK MANAGEMENT', 'QUANTITATIVE RISK MANAGEMENT ',\n",
       "        'RM HUMANITIES: LINGUISTICS', 'UVA AI',\n",
       "        'UVA MASTER INFORMATION STUDIES, TRACK DATA SCIENCE',\n",
       "        'UVA MSC INFORMATION STUDIES: DATA SCIENCE',\n",
       "        'UVA: INFORMATION SYSTEMS - DATA SCIENCE', 'X'], dtype=object)]"
      ]
     },
     "execution_count": 476,
     "metadata": {},
     "output_type": "execute_result"
    }
   ],
   "source": [
    "def init_encoder(columns):\n",
    "    E.encoders['x'] = preprocessing.OneHotEncoder()\n",
    "    enc = E.encoders['x']\n",
    "    enc.fit(columns)\n",
    "    return enc.transform(columns)\n",
    "\n",
    "X_enc = init_encoder(data[['Stat', 'Year bin', 'Program']])\n",
    "E.encoders['x'].categories_"
   ]
  },
  {
   "cell_type": "code",
   "execution_count": 477,
   "metadata": {},
   "outputs": [
    {
     "data": {
      "text/plain": [
       "array(['female', 'male', 'unknown'], dtype=object)"
      ]
     },
     "execution_count": 477,
     "metadata": {},
     "output_type": "execute_result"
    }
   ],
   "source": [
    "def init_label_encoder(column):\n",
    "    E.encoders['y'] = preprocessing.LabelEncoder()\n",
    "    enc = E.encoders['y']\n",
    "    enc.fit(column)\n",
    "    return enc.transform(column)\n",
    "\n",
    "Y_enc = init_label_encoder(data['Gender'])\n",
    "E.encoders['y'].classes_"
   ]
  },
  {
   "cell_type": "code",
   "execution_count": 478,
   "metadata": {},
   "outputs": [
    {
     "data": {
      "text/plain": [
       "((276, 58), (276,))"
      ]
     },
     "execution_count": 478,
     "metadata": {},
     "output_type": "execute_result"
    }
   ],
   "source": [
    "X_enc.shape, Y_enc.shape"
   ]
  },
  {
   "cell_type": "code",
   "execution_count": 479,
   "metadata": {},
   "outputs": [
    {
     "data": {
      "text/plain": [
       "((138, 58), (138,))"
      ]
     },
     "execution_count": 479,
     "metadata": {},
     "output_type": "execute_result"
    }
   ],
   "source": [
    "x_train, x_test, y_train, y_test = train_test_split(X_enc, Y_enc, test_size=0.5)\n",
    "x_train.shape, y_train.shape"
   ]
  },
  {
   "cell_type": "code",
   "execution_count": 480,
   "metadata": {},
   "outputs": [
    {
     "data": {
      "text/plain": [
       "0.6666666666666666"
      ]
     },
     "execution_count": 480,
     "metadata": {},
     "output_type": "execute_result"
    }
   ],
   "source": [
    "clf = SVC(gamma='auto')\n",
    "clf.fit(x_train, y_train)\n",
    "y_pred = clf.predict(x_test)\n",
    "accuracy_score(y_test, y_pred)"
   ]
  },
  {
   "cell_type": "code",
   "execution_count": 481,
   "metadata": {},
   "outputs": [
    {
     "data": {
      "text/plain": [
       "0.6521739130434783"
      ]
     },
     "execution_count": 481,
     "metadata": {},
     "output_type": "execute_result"
    }
   ],
   "source": [
    "# eval on train data\n",
    "clf = SVC(gamma='auto')\n",
    "clf.fit(x_train, y_train)\n",
    "y_pred = clf.predict(x_train)\n",
    "accuracy_score(y_train, y_pred)"
   ]
  },
  {
   "cell_type": "code",
   "execution_count": 482,
   "metadata": {},
   "outputs": [
    {
     "data": {
      "text/plain": [
       "0.6666666666666666"
      ]
     },
     "execution_count": 482,
     "metadata": {},
     "output_type": "execute_result"
    }
   ],
   "source": [
    "clf = SVC(kernel='poly', gamma='auto', degree=4)\n",
    "clf.fit(x_train, y_train)\n",
    "y_pred = clf.predict(x_test)\n",
    "accuracy_score(y_test, y_pred)"
   ]
  },
  {
   "cell_type": "code",
   "execution_count": 483,
   "metadata": {},
   "outputs": [
    {
     "data": {
      "text/plain": [
       "0.5434782608695652"
      ]
     },
     "execution_count": 483,
     "metadata": {},
     "output_type": "execute_result"
    }
   ],
   "source": [
    "tree = DecisionTreeClassifier()\n",
    "tree.fit(x_train, y_train)\n",
    "y_predicted = tree.predict(x_test)\n",
    "accuracy_score(y_test, y_predicted)"
   ]
  },
  {
   "cell_type": "code",
   "execution_count": 484,
   "metadata": {},
   "outputs": [
    {
     "name": "stdout",
     "output_type": "stream",
     "text": [
      "scores per fold  [0.64912281 0.66071429 0.65454545 0.66666667 0.64814815]\n",
      "  mean score     0.6558394724184199\n",
      "  standard dev.  0.007027609627066194\n"
     ]
    }
   ],
   "source": [
    "# The cross_val_score function does all the training for us. We simply pass \n",
    "# it the complete data, the model, and the metric.\n",
    "\n",
    "linear = SVC(kernel='linear', probability=True)\n",
    "\n",
    "# Train for 5 folds, returing ROC AUC. You can also try 'accuracy' as a scorer\n",
    "n_folds = 5\n",
    "scores = cross_val_score(linear, X_enc, Y_enc, cv=n_folds, scoring='accuracy') # roc_auc accuracy\n",
    "\n",
    "print('scores per fold ', scores)\n",
    "print('  mean score    ', np.mean(scores))\n",
    "print('  standard dev. ', np.std(scores))"
   ]
  },
  {
   "cell_type": "code",
   "execution_count": 485,
   "metadata": {},
   "outputs": [],
   "source": [
    "# TODO random forest\n",
    "# simple NN"
   ]
  },
  {
   "cell_type": "code",
   "execution_count": 620,
   "metadata": {},
   "outputs": [],
   "source": [
    "def cmap_discretize(cmap, N):\n",
    "    \"\"\"Return a discrete colormap from the continuous colormap cmap.\n",
    "    \n",
    "        cmap: colormap instance, eg. cm.jet. \n",
    "        N: number of colors.\n",
    "        \n",
    "        https://scipy-cookbook.readthedocs.io/items/Matplotlib_ColormapTransformations.html\n",
    "    \"\"\"\n",
    "    if type(cmap) == str:\n",
    "        cmap = plt.get_cmap(cmap)\n",
    "    colors_i = np.concatenate((np.linspace(0, 1., N), (0.,0.,0.,0.)))\n",
    "    colors_rgba = cmap(colors_i)\n",
    "    indices = np.linspace(0, 1., N+1)\n",
    "    cdict = {}\n",
    "    for ki, key in enumerate(('red','green','blue')):\n",
    "        cdict[key] = [(indices[i], colors_rgba[i-1,ki], colors_rgba[i,ki]) for i in range(N+1)]\n",
    "    # Return colormap object.\n",
    "    return matplotlib.colors.LinearSegmentedColormap(cmap.name + \"_%d\"%N, cdict, 1024)"
   ]
  },
  {
   "cell_type": "code",
   "execution_count": 645,
   "metadata": {},
   "outputs": [],
   "source": [
    "def e(i,k):\n",
    "    # unit vector i of length k\n",
    "    return np.eye(k)[i]\n",
    "\n",
    "def fix_labels(labels):\n",
    "    # update in-place\n",
    "    for i, v in enumerate(labels.copy()):\n",
    "        if v is None:\n",
    "            labels[i] = 'None'\n",
    "        else:\n",
    "            labels[i] = fix_label(labels[i])\n",
    "\n",
    "# def plot_classifier_helper(data, xlabels, ylabel, clf):\n",
    "def plot_classifier(data, xlabels, ylabel, clf):\n",
    "    X_enc = init_encoder(data[xlabels])\n",
    "    Y_enc = init_label_encoder(data[ylabel])\n",
    "\n",
    "#     Y_enc += np.random.randint(0,3, Y_enc.size)\n",
    "    clf.fit(X_enc, Y_enc)\n",
    "\n",
    "    categories = E.encoders['x'].categories_\n",
    "    dims = tuple([c.size for c in categories]) # n features\n",
    "    n_dims = sum(dims)\n",
    "    # n combinations = x * y                   ### x^2 * y^2\n",
    "    X = np.empty((np.prod([x**2 for x in dims]), 1))\n",
    "    \n",
    "    # X = np.empty((np.prod(dims), n_dims))\n",
    "    X = np.empty((dims[0], dims[1], n_dims))\n",
    "    for i,j in np.ndindex(X.shape[:2]):\n",
    "        X[i,j] = np.concatenate([e(i,dims[0]), e(j, dims[1])])\n",
    "\n",
    "    X_enc = X.reshape((dims[0] * dims[1], n_dims))\n",
    "    Y_enc = clf.predict(X_enc)\n",
    "    Y_enc[0] = 0\n",
    "    Y_enc[1] = 1\n",
    "    Y_enc[2] = 2\n",
    "    # Y = E.encoders['y'].inverse_transform(Y_enc)\n",
    "    Y = Y_enc.reshape(dims)\n",
    "\n",
    "    # def plot_classifier()\n",
    "    fig = plt.figure()\n",
    "    ax = fig.add_subplot(111)\n",
    "    # color bar labels correspond to Y (unlike x or y)\n",
    "    cb_labels = E.encoders['y'].classes_\n",
    "    cb_ticks = E.encoders['y'].transform(cb_labels)\n",
    "    n = cb_labels.size\n",
    "    c = cmap_discretize('rainbow', n) # terrain bone plasma rainbow pink cubehelix jet\n",
    "    plt.imshow(Y.T, origin='lower', cmap=c)\n",
    "    \n",
    "    x_labels = categories[0]\n",
    "    y_labels = categories[1]\n",
    "    fix_labels(x_labels)\n",
    "    fix_labels(y_labels)\n",
    "    n_x = len(x_labels)\n",
    "    n_y = len(y_labels)    \n",
    "    rotation = 0\n",
    "    length = sum([len(label) for label in x_labels])\n",
    "    if length > 10:\n",
    "        rotation = 45\n",
    "    else:\n",
    "        rotation = 0        \n",
    "#         plt.subplots_adjust(bottom=0.15)\n",
    "    plt.xticks(np.arange(n_x), x_labels, rotation=rotation)\n",
    "    rotation = 0\n",
    "    length = sum([len(label) for label in y_labels])\n",
    "    if length > 10:\n",
    "        rotation = 45\n",
    "    else:\n",
    "        rotation = 0\n",
    "    plt.yticks(np.arange(n_y), y_labels, rotation=rotation)\n",
    "#     plt.subplots_adjust(right=0.9)\n",
    "\n",
    "\n",
    "    # clear grid\n",
    "    ax.grid(False)        \n",
    "    # disable spines\n",
    "    for edge, spine in ax.spines.items():\n",
    "            spine.set_visible(False)\n",
    "    # add custom grid\n",
    "    # add white grid to distinguish cells\n",
    "    ax.set_xticks(np.arange(Y.shape[0]+1) - 0.5, minor=True)\n",
    "    ax.set_yticks(np.arange(Y.shape[1]+1) - 0.5, minor=True)\n",
    "    ax.grid(which=\"minor\", color='w', linestyle='-', linewidth=3)\n",
    "    ax.tick_params(which=\"minor\", bottom=False, left=False)\n",
    "    \n",
    "    cb = plt.colorbar()\n",
    "    cb.set_ticks(cb_ticks)\n",
    "    cb.set_ticklabels(cb_labels)\n",
    "#     cb.ax.set_yticklabels(cb_labels)\n",
    "\n",
    "#     ticks = np.arange(5)\n",
    "#     labels = E.encoders['y'].inverse_transform(np.linspace(y_min, y_max, 5))"
   ]
  },
  {
   "cell_type": "code",
   "execution_count": 647,
   "metadata": {},
   "outputs": [
    {
     "data": {
      "text/plain": [
       "Text(0.5, 0.98, 'Effect of Stat, Year on prediction of Gender')"
      ]
     },
     "execution_count": 647,
     "metadata": {},
     "output_type": "execute_result"
    },
    {
     "data": {
      "image/png": "[encoded data removed]",
      "text/plain": [
       "<Figure size 432x288 with 2 Axes>"
      ]
     },
     "metadata": {
      "needs_background": "light"
     },
     "output_type": "display_data"
    }
   ],
   "source": [
    "np.random.seed(42)\n",
    "# clf = SVC(gamma='auto')\n",
    "clf = DecisionTreeClassifier()\n",
    "plot_classifier(data, ['Stat', 'Year bin'], 'Gender', clf)\n",
    "plt.suptitle('Effect of Stat, Year on prediction of Gender')"
   ]
  },
  {
   "cell_type": "code",
   "execution_count": 563,
   "metadata": {},
   "outputs": [
    {
     "data": {
      "text/plain": [
       "array([1])"
      ]
     },
     "execution_count": 563,
     "metadata": {},
     "output_type": "execute_result"
    }
   ],
   "source": [
    "# The number of divisions of the cmap we have\n",
    "k = 10\n",
    "\n",
    "# Random test data\n",
    "A = np.random.random((10,10))*k\n",
    "c = cmap_discretize('jet', k)\n",
    "\n",
    "# First show without\n",
    "plt.subplot(121)\n",
    "plt.imshow(A,interpolation='nearest',cmap=c)\n",
    "plt.colorbar()\n",
    "\n",
    "# Now label properly\n",
    "plt.subplot(122)\n",
    "plt.imshow(A,interpolation='nearest',cmap=c)\n",
    "\n",
    "cb = plt.colorbar()\n",
    "labels = np.arange(0,k,1)\n",
    "loc    = labels + .5\n",
    "cb.set_ticks(loc)\n",
    "cb.set_ticklabels(labels)"
   ]
  },
  {
   "cell_type": "code",
   "execution_count": 144,
   "metadata": {},
   "outputs": [],
   "source": [
    "X = np.ndindex(())"
   ]
  },
  {
   "cell_type": "code",
   "execution_count": 178,
   "metadata": {},
   "outputs": [
    {
     "data": {
      "image/png": "[encoded data removed]",
      "text/plain": [
       "<Figure size 432x288 with 1 Axes>"
      ]
     },
     "metadata": {
      "needs_background": "light"
     },
     "output_type": "display_data"
    }
   ],
   "source": [
    "x = np.arange(-5, 5, 0.1)\n",
    "y = np.arange(-5, 5, 0.1)\n",
    "xx, yy = np.meshgrid(x, y, sparse=True)\n",
    "z = np.sin(xx**2 + yy**2) / (xx**2 + yy**2)\n",
    "h = plt.contourf(x,y,z)"
   ]
  },
  {
   "cell_type": "code",
   "execution_count": 224,
   "metadata": {},
   "outputs": [
    {
     "data": {
      "text/plain": [
       "((100,), (100,), (100, 100))"
      ]
     },
     "execution_count": 224,
     "metadata": {},
     "output_type": "execute_result"
    },
    {
     "data": {
      "image/png": "[encoded data removed]",
      "text/plain": [
       "<Figure size 432x288 with 1 Axes>"
      ]
     },
     "metadata": {
      "needs_background": "light"
     },
     "output_type": "display_data"
    }
   ],
   "source": [
    "x = np.arange(-5, 5, 0.1)\n",
    "y = np.arange(-5, 5, 0.1)\n",
    "xx, yy = np.meshgrid(x, y, sparse=True)\n",
    "z = np.sin(xx + 0*yy)\n",
    "h = plt.contourf(x,y,z)\n",
    "x.shape, y.shape, z.shape"
   ]
  },
  {
   "cell_type": "code",
   "execution_count": 226,
   "metadata": {},
   "outputs": [],
   "source": [
    "# xx"
   ]
  },
  {
   "cell_type": "code",
   "execution_count": 142,
   "metadata": {},
   "outputs": [],
   "source": [
    "# from mlxtend.plotting import plot_decision_regions\n",
    "# import matplotlib.pyplot as plt\n",
    "# from sklearn import datasets\n",
    "# from sklearn.svm import SVC\n",
    "\n",
    "# # Loading some example data\n",
    "# iris = datasets.load_iris()\n",
    "# X = iris.data[:, [0, 2]]\n",
    "# y = iris.target\n",
    "\n",
    "# # Training a classifier\n",
    "# svm = SVC(C=0.5, kernel='linear')\n",
    "# svm.fit(x_train, y_train)\n",
    "\n",
    "\n",
    "# # Plotting decision regions\n",
    "# # plot_decision_regions(x_train.toarray(), y_train, clf=svm, legend=2)\n",
    "\n",
    "# enc = E.encoders['x']\n",
    "# enc.\n",
    "\n",
    "# # Decision region for feature 3 = 1.5\n",
    "# value = 0\n",
    "# # Plot training sample with feature 3 = 1.5 +/- 0.75\n",
    "# width = 0\n",
    "# plot_decision_regions(X, y, clf=svm,\n",
    "#                       filler_feature_values={2: value},\n",
    "#                       filler_feature_ranges={2: width},\n",
    "#                       legend=2, ax=ax)\n",
    "\n",
    "\n",
    "# # Adding axes annotations\n",
    "# plt.xlabel('sepal length [cm]')\n",
    "# plt.ylabel('petal length [cm]')\n",
    "# plt.title('SVM on Iris')\n",
    "# plt.show()\n"
   ]
  },
  {
   "cell_type": "code",
   "execution_count": null,
   "metadata": {},
   "outputs": [],
   "source": []
  },
  {
   "cell_type": "code",
   "execution_count": 101,
   "metadata": {},
   "outputs": [],
   "source": [
    "# from mlxtend.plotting import plot_decision_regions\n",
    "\n",
    "# n = 10\n",
    "# plot_decision_regions(x_test[:n], y_test.astype(np.integer)[:n], \n",
    "#                       clf=clf, res=0.1);"
   ]
  },
  {
   "cell_type": "code",
   "execution_count": null,
   "metadata": {},
   "outputs": [],
   "source": []
  },
  {
   "cell_type": "code",
   "execution_count": null,
   "metadata": {},
   "outputs": [],
   "source": []
  },
  {
   "cell_type": "code",
   "execution_count": 237,
   "metadata": {},
   "outputs": [],
   "source": [
    "# from sklearn.metrics import roc_curve, auc\n",
    "\n",
    "# # The linear classifier doesn't produce class probabilities by default. We'll retrain it for probabilities.\n",
    "# linear = SVC(kernel='linear', probability=True)\n",
    "# linear.fit(x_train, y_train)\n",
    "\n",
    "# # We'll need class probabilities from each of the classifiers\n",
    "# y_linear = linear.predict_proba(x_test)\n",
    "# y_tree  = tree.predict_proba(x_test)\n",
    "# y_knn   = knn.predict_proba(x_test)\n",
    "\n",
    "# # Compute the points on the curve\n",
    "# # We pass the probability of the second class (KIA) as the y_score\n",
    "# curve_linear = sklearn.metrics.roc_curve(y_test, y_linear[:, 1])\n",
    "# curve_tree   = sklearn.metrics.roc_curve(y_test, y_tree[:, 1])\n",
    "# curve_knn    = sklearn.metrics.roc_curve(y_test, y_knn[:, 1])\n",
    "\n",
    "# # Compute Area Under the Curve\n",
    "# auc_linear = auc(curve_linear[0], curve_linear[1])\n",
    "# auc_tree   = auc(curve_tree[0], curve_tree[1])\n",
    "# auc_knn    = auc(curve_knn[0], curve_knn[1])\n",
    "\n",
    "# plt.plot(curve_linear[0], curve_linear[1], label='linear (area = %0.2f)' % auc_linear)\n",
    "# plt.plot(curve_tree[0], curve_tree[1], label='tree (area = %0.2f)' % auc_tree)\n",
    "# plt.plot(curve_knn[0], curve_knn[1], label='knn (area = %0.2f)'% auc_knn)\n",
    "\n",
    "# plt.xlim([0.0, 1.0])\n",
    "# plt.ylim([0.0, 1.0])\n",
    "# plt.xlabel('False Positive Rate')\n",
    "# plt.ylabel('True Positive Rate')\n",
    "# plt.title('ROC curve');\n",
    "\n",
    "# plt.legend();"
   ]
  },
  {
   "cell_type": "code",
   "execution_count": null,
   "metadata": {},
   "outputs": [],
   "source": []
  }
 ],
 "metadata": {
  "kernelspec": {
   "display_name": "Python 3",
   "language": "python",
   "name": "python3"
  },
  "language_info": {
   "codemirror_mode": {
    "name": "ipython",
    "version": 3
   },
   "file_extension": ".py",
   "mimetype": "text/x-python",
   "name": "python",
   "nbconvert_exporter": "python",
   "pygments_lexer": "ipython3",
   "version": "3.6.8"
  }
 },
 "nbformat": 4,
 "nbformat_minor": 2
}
