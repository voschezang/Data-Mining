{
 "cells": [
  {
   "cell_type": "code",
   "execution_count": 39,
   "metadata": {},
   "outputs": [],
   "source": [
    "import numpy as np\n",
    "seed = 123\n",
    "np.random.seed(seed)\n",
    "import collections\n",
    "from importlib import reload\n",
    "import pandas as pd\n",
    "import sklearn\n",
    "from termcolor import colored # if error: pip3 install termcolor; conda install termcolor "
   ]
  },
  {
   "cell_type": "code",
   "execution_count": 26,
   "metadata": {},
   "outputs": [],
   "source": [
    "import xgboost as xgb\n",
    "from sklearn.model_selection import cross_val_score\n",
    "from sklearn.model_selection import train_test_split\n",
    "import sklearn.metrics\n",
    "\n",
    "from sklearn import preprocessing\n",
    "from sklearn.preprocessing import OneHotEncoder\n",
    "from sklearn.model_selection import train_test_split\n",
    "import sklearn.ensemble"
   ]
  },
  {
   "cell_type": "code",
   "execution_count": 31,
   "metadata": {},
   "outputs": [],
   "source": [
    "import util.data\n",
    "import util.model\n",
    "import util.ndcg"
   ]
  },
  {
   "cell_type": "code",
   "execution_count": 32,
   "metadata": {},
   "outputs": [],
   "source": [
    "# TODO nrows\n",
    "data_all = pd.read_csv('data/training_set_VU_DM_clean.csv', sep=';', nrows=10*1000)\n",
    "# data_all = pd.read_csv('data/training_set_VU_DM_clean.csv', sep=';')"
   ]
  },
  {
   "cell_type": "code",
   "execution_count": 33,
   "metadata": {},
   "outputs": [],
   "source": [
    "data_test_unlabelled = pd.read_csv('data/test_set_VU_DM_clean.csv', sep=';', nrows=1000)\n",
    "\n",
    "for k in data_all.columns:\n",
    "    if data_all[k].isna().sum() > 0:\n",
    "#         print('rm %0.4f' % (data_all[k].isna().sum() / data_all.shape[0]), k)\n",
    "        data_all.drop(columns=[k], inplace=True)"
   ]
  },
  {
   "cell_type": "code",
   "execution_count": 34,
   "metadata": {},
   "outputs": [],
   "source": [
    "# set aside some labelled data for testing (based on srch_id)\n",
    "ids = data_all.srch_id.unique()\n",
    "ids_train, ids_test = train_test_split(ids, test_size=0.5, random_state=123)\n",
    "data = data_all[data_all.srch_id.isin(ids_train)]\n",
    "data_test = data_all[data_all.srch_id.isin(ids_test)]"
   ]
  },
  {
   "cell_type": "code",
   "execution_count": 35,
   "metadata": {},
   "outputs": [],
   "source": [
    "# split cross validation folds\n",
    "folds = util.data.cv_folds_for_sklearn(data, n_cv_folds=5, resampling_ratio=0)\n",
    "\n",
    "# Use the full (pre-splitted) dataset because we use custom indices\n",
    "# x_train, y_train will depend on the folds\n",
    "x, y = util.data.split_xy(data_all)"
   ]
  },
  {
   "cell_type": "code",
   "execution_count": 36,
   "metadata": {},
   "outputs": [],
   "source": [
    "x_test, y_test = util.data.split_xy(data_test)"
   ]
  },
  {
   "cell_type": "code",
   "execution_count": 41,
   "metadata": {},
   "outputs": [
    {
     "name": "stdout",
     "output_type": "stream",
     "text": [
      "\n",
      "# GBoost reg (score: neg_mean_squared_error)\n",
      "Best params (train)\n",
      "\t {'learning_rate': 0.01, 'max_depth': 2, 'n_estimators': 1000}\n",
      "\u001b[32mmse: 0.3306\u001b[0m\n",
      "\u001b[34mndcg: 0.4022\u001b[0m\n",
      "\n",
      "# GBoost ndcg (score: neg_mean_squared_error)\n",
      "Best params (train)\n",
      "\t {'learning_rate': 0.01, 'max_depth': 2, 'n_estimators': 1000}\n",
      "\u001b[32mmse: 0.3306\u001b[0m\n",
      "\u001b[34mndcg: 0.4022\u001b[0m\n",
      "done\n"
     ]
    }
   ],
   "source": [
    "# https://scikit-learn.org/stable/auto_examples/model_selection/plot_grid_search_digits.html#sphx-glr-auto-examples-model-selection-plot-grid-search-digits-py\n",
    "kwargs = {'random_state': 123}\n",
    "models = {}\n",
    "params = {}\n",
    "models['GBoost reg'] = xgb.XGBRegressor(criterion='friedman_mse', loss='ls', tol=1e-4, **kwargs)\n",
    "models['GBoost ndcg'] = xgb.XGBRegressor(objective='rank:ndcg', criterion='friedman_mse', loss='ls', tol=1e-4, **kwargs)\n",
    "params['GBoost reg'] = {#'objective': ['reg:linear', 'rank:ndcg'],\n",
    "                    'n_estimators': [10,100,1000], # TODO try increasing this number\n",
    "                    'learning_rate': [0.1, 0.01, 0.001],\n",
    "                    'max_depth': [1,2,3]\n",
    "                   }\n",
    "params['GBoost ndcg'] = params['GBoost reg']\n",
    "\n",
    "models['AdaBoost'] = sklearn.ensemble.AdaBoostRegressor()\n",
    "params['AdaBoost'] = {'learning_rate':[1, 0.1],\n",
    "                     'n_estimators': [50, 100, 1000],\n",
    "                      'loss': ['linear', 'square']\n",
    "                     }\n",
    "\n",
    "\n",
    "scores = ['neg_mean_squared_error'] # TODO add ndcg here\n",
    "for k, model in models.items():\n",
    "    for score in scores:\n",
    "        print(\"\\n# %s (score: %s)\" % (k, score))\n",
    "        assert k in params.keys(), 'models and params should have the same keys'\n",
    "        clf = sklearn.model_selection.GridSearchCV(model, params[k], cv=folds, scoring=score)\n",
    "        clf.fit(x, y) # cv/folds is used to select folds\n",
    "        print(\"Best params (train)\")\n",
    "        print('\\t', clf.best_params_)\n",
    "        y_true, y_pred = y_test, clf.predict(x_test)\n",
    "        mse =  sklearn.metrics.mean_squared_error(y_true, y_pred)\n",
    "        print(colored('mse: %0.4f' % mse, 'green'))\n",
    "        ndcg = util.ndcg.ndcg(x_test, y_test, y_pred)\n",
    "        print(colored('ndcg: %0.4f' % ndcg, 'blue'))\n",
    "\n",
    "print('done')"
   ]
  },
  {
   "cell_type": "code",
   "execution_count": null,
   "metadata": {},
   "outputs": [],
   "source": [
    "\n",
    "\n",
    "\n"
   ]
  }
 ],
 "metadata": {
  "kernelspec": {
   "display_name": "Python 3",
   "language": "python",
   "name": "python3"
  },
  "language_info": {
   "codemirror_mode": {
    "name": "ipython",
    "version": 3
   },
   "file_extension": ".py",
   "mimetype": "text/x-python",
   "name": "python",
   "nbconvert_exporter": "python",
   "pygments_lexer": "ipython3",
   "version": "3.6.8"
  }
 },
 "nbformat": 4,
 "nbformat_minor": 2
}
