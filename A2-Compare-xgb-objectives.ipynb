{
 "cells": [
  {
   "cell_type": "code",
   "execution_count": 2,
   "metadata": {},
   "outputs": [],
   "source": [
    "import numpy as np\n",
    "seed = 123\n",
    "np.random.seed(seed)\n",
    "import collections\n",
    "from importlib import reload\n",
    "import pandas as pd\n",
    "import sklearn\n",
    "from termcolor import colored # if error: pip3 install termcolor; conda install termcolor "
   ]
  },
  {
   "cell_type": "code",
   "execution_count": 3,
   "metadata": {},
   "outputs": [],
   "source": [
    "import xgboost as xgb\n",
    "from sklearn.model_selection import cross_val_score\n",
    "from sklearn.model_selection import train_test_split\n",
    "import sklearn.metrics\n",
    "\n",
    "from sklearn import preprocessing\n",
    "from sklearn.preprocessing import OneHotEncoder\n",
    "from sklearn.model_selection import train_test_split\n",
    "import sklearn.ensemble"
   ]
  },
  {
   "cell_type": "code",
   "execution_count": 4,
   "metadata": {},
   "outputs": [],
   "source": [
    "import util.data\n",
    "import util.model\n",
    "import util.ndcg"
   ]
  },
  {
   "cell_type": "markdown",
   "metadata": {},
   "source": [
    "# 1) Use all features"
   ]
  },
  {
   "cell_type": "code",
   "execution_count": 5,
   "metadata": {},
   "outputs": [],
   "source": [
    "# TODO nrows\n",
    "data_all = pd.read_csv('data/training_set_VU_DM_clean.csv', sep=';', nrows=10*1000)\n",
    "# data_all = pd.read_csv('data/training_set_VU_DM_clean.csv', sep=';')\n",
    "\n",
    "data_test_unlabelled = pd.read_csv('data/test_set_VU_DM_clean.csv', sep=';', nrows=1000)"
   ]
  },
  {
   "cell_type": "code",
   "execution_count": 6,
   "metadata": {},
   "outputs": [],
   "source": [
    "for k in data_all.columns:\n",
    "    if data_all[k].isna().sum() > 0:\n",
    "#         print('rm %0.4f' % (data_all[k].isna().sum() / data_all.shape[0]), k)\n",
    "        data_all.drop(columns=[k], inplace=True)\n",
    "\n",
    "gross_booking_scaler = preprocessing.RobustScaler(copy=False)\n",
    "\n",
    "# set aside some labelled data for testing (based on srch_id)\n",
    "ids = data_all.srch_id.unique()\n",
    "ids_train, ids_test = train_test_split(ids, test_size=0.5, random_state=123)\n",
    "k = 'gross_bookings_usd'\n",
    "data_all.loc[ids_train, k] = gross_booking_scaler.fit_transform(data_all.loc[ids_train, [k]])\n",
    "data_all.loc[ids_test, k] = gross_booking_scaler.transform(data_all.loc[ids_test, [k]])\n",
    "# add noise to reduce dependency on this attr\n",
    "data_all.loc[ids_train, k] += np.random.normal(loc=0, scale=0.01, size=ids_train.size)\n",
    "\n",
    "data = data_all[data_all.srch_id.isin(ids_train)]\n",
    "data_test = data_all[data_all.srch_id.isin(ids_test)]\n",
    "\n",
    "# split cross validation folds\n",
    "folds = util.data.cv_folds_for_sklearn(data, n_cv_folds=5, resampling_ratio=0)\n",
    "\n",
    "# Use the full (pre-splitted) dataset because we use custom indices\n",
    "# x_train, y_train will depend on the folds\n",
    "x, y = util.data.split_xy(data_all)\n",
    "\n",
    "x_test, y_test = util.data.split_xy(data_test)"
   ]
  },
  {
   "cell_type": "code",
   "execution_count": 9,
   "metadata": {},
   "outputs": [
    {
     "name": "stdout",
     "output_type": "stream",
     "text": [
      "\n",
      "# Ensemble Random Forest\t (score: neg_mean_squared_error)\n",
      "\tBest params (train) {'n_estimators': 100}\n",
      "\u001b[32m\tmse: 0.0000\u001b[0m\n",
      "\u001b[34m\tndcg: 0.4022\u001b[0m\n",
      "\n",
      "# GBoost reg\t (score: neg_mean_squared_error)\n",
      "\tBest params (train) {'learning_rate': 0.01, 'max_depth': 3, 'n_estimators': 500}\n",
      "\u001b[32m\tmse: 0.3687\u001b[0m\n",
      "\u001b[34m\tndcg: 0.4022\u001b[0m\n",
      "\n",
      "# GBoost ndcg\t (score: neg_mean_squared_error)\n",
      "\tBest params (train) {'learning_rate': 0.1, 'max_depth': 1, 'n_estimators': 500}\n",
      "\u001b[32m\tmse: 0.7070\u001b[0m\n",
      "\u001b[34m\tndcg: 0.4022\u001b[0m\n",
      "\n",
      "# AdaBoost\t (score: neg_mean_squared_error)\n",
      "\tBest params (train) {'learning_rate': 0.1, 'loss': 'linear', 'n_estimators': 100}\n",
      "\u001b[32m\tmse: 0.7888\u001b[0m\n",
      "\u001b[34m\tndcg: 0.4022\u001b[0m\n",
      "done\n"
     ]
    }
   ],
   "source": [
    "kwargs = {'random_state': 1234}\n",
    "models = {}\n",
    "params = {}\n",
    "models['GBoost reg'] = xgb.XGBRegressor(criterion='friedman_mse', loss='ls', base_score=0, tol=1e-4, n_jobs=2, **kwargs)\n",
    "models['GBoost ndcg'] = xgb.XGBRegressor(objective='rank:ndcg', criterion='friedman_mse', \n",
    "                                         loss='ls', base_score=0, tol=1e-4, n_jobs=2, **kwargs)\n",
    "params['GBoost reg'] = {'n_estimators': [100, 500, 1000],\n",
    "                    'learning_rate': [0.2, 0.1, 0.01, 0.001],\n",
    "                    'max_depth': [1,2,3,4]\n",
    "                   }\n",
    "params['GBoost ndcg'] = params['GBoost reg']\n",
    "models['Ensemble Random Forest'] = sklearn.ensemble.RandomForestClassifier(n_jobs=2)\n",
    "params['Ensemble Random Forest'] = {'n_estimators': [100]}\n",
    "models['AdaBoost'] = sklearn.ensemble.AdaBoostRegressor()\n",
    "params['AdaBoost'] = {'learning_rate':[0.2, 0.1, 0.01],\n",
    "                     'n_estimators': [50, 100, 500],\n",
    "                      'loss': ['linear', 'square']\n",
    "                     }\n",
    "\n",
    "scores = ['neg_mean_squared_error'] # TODO add ndcg here\n",
    "for k, model in models.items():\n",
    "    for score in scores:\n",
    "        print(\"\\n# %s\\t (score: %s)\" % (k, score))\n",
    "        assert k in params.keys(), 'models and params should have the same keys'\n",
    "        clf = sklearn.model_selection.GridSearchCV(model, params[k], cv=folds, scoring=score, iid=True, n_jobs=2)\n",
    "        clf.fit(x, y) # cv/folds is used to select folds\n",
    "        print(\"\\tBest params (train)\", clf.best_params_)\n",
    "        y_true, y_pred = y_test, clf.predict(x_test)\n",
    "        mse =  sklearn.metrics.mean_squared_error(y_true, y_pred)\n",
    "        print(colored('\\tmse: %0.4f' % mse, 'green'))\n",
    "        ndcg = util.ndcg.ndcg(x_test, y_test, y_pred)\n",
    "        print(colored('\\tndcg: %0.4f' % ndcg, 'blue'))\n",
    "\n",
    "print('done')"
   ]
  },
  {
   "cell_type": "markdown",
   "metadata": {},
   "source": [
    "# 2) Use a subset of features"
   ]
  },
  {
   "cell_type": "code",
   "execution_count": 11,
   "metadata": {},
   "outputs": [],
   "source": [
    "# TODO nrows\n",
    "data_all = pd.read_csv('data/training_set_VU_DM_clean.csv', sep=';', nrows=10*1000)\n",
    "# data_all = pd.read_csv('data/training_set_VU_DM_clean.csv', sep=';')\n",
    "\n",
    "data_test_unlabelled = pd.read_csv('data/test_set_VU_DM_clean.csv', sep=';', nrows=1000)"
   ]
  },
  {
   "cell_type": "code",
   "execution_count": 12,
   "metadata": {},
   "outputs": [
    {
     "data": {
      "text/plain": [
       "['srch_id',\n",
       " 'visitor_hist_starrating',\n",
       " 'prop_id',\n",
       " 'prop_review_score',\n",
       " 'prop_location_score1',\n",
       " 'prop_location_score2',\n",
       " 'promotion_flag',\n",
       " 'srch_length_of_stay',\n",
       " 'srch_query_affinity_score',\n",
       " 'orig_destination_distance',\n",
       " 'click_bool',\n",
       " 'gross_bookings_usd',\n",
       " 'booking_bool',\n",
       " 'srch_person_per_room_score',\n",
       " 'srch_adults_per_room_score',\n",
       " 'delta_starrating',\n",
       " 'visitor_hist_adr_usd_log',\n",
       " 'price_usd_log',\n",
       " 'unavailable_comp',\n",
       " 'available_comp',\n",
       " 'month',\n",
       " 'score',\n",
       " 'prop_starrating_label0',\n",
       " 'prop_starrating_label1',\n",
       " 'prop_starrating_label2',\n",
       " 'prop_starrating_label3',\n",
       " 'srch_length_of_stay_bin0',\n",
       " 'srch_length_of_stay_bin1',\n",
       " 'srch_length_of_stay_bin2',\n",
       " 'orig_destination_distance_bin0',\n",
       " 'orig_destination_distance_bin1',\n",
       " 'orig_destination_distance_bin2']"
      ]
     },
     "execution_count": 12,
     "metadata": {},
     "output_type": "execute_result"
    }
   ],
   "source": [
    "features = [k for k in data_all.columns if \n",
    "            'score' in k or \n",
    "            'srch_id' in k or \n",
    "            'prop_id' in k or \n",
    "            'booking_bool' in k or\n",
    "            'click_bool' in k or\n",
    "            'unavailable_comp' in k or\n",
    "            'available_comp' in k or\n",
    "            'visitor_hist_starrating' in k or\n",
    "            'delta_starrating' in k or\n",
    "            'visitor_hist_adr_usd_log' in k or\n",
    "            'price_usd_log' in k or\n",
    "            'month' in k or\n",
    "            'starrating' in k or\n",
    "            'promotion' in k or\n",
    "            'srch_length' in k or\n",
    "            'distance' in k or\n",
    "            'gross_booking' in k\n",
    "           ]\n",
    "features"
   ]
  },
  {
   "cell_type": "code",
   "execution_count": 14,
   "metadata": {},
   "outputs": [],
   "source": [
    "for k in data_all.columns:\n",
    "    if k not in features:\n",
    "        data_all.drop(columns=[k], inplace=True)\n",
    "for k in data_test_unlabelled.columns:\n",
    "    if k not in features:\n",
    "        data_test_unlabelled.drop(columns=[k], inplace=True)\n",
    "\n",
    "# data_all = data_all[[k for k in data_all.columns if k in features]]\n",
    "# data_test_unlabelled = data_test_unlabelled[[k for k in data_test_unlabelled.columns if k in features]]\n",
    "\n",
    "for k in data_all.columns:\n",
    "    if data_all[k].isna().sum() > 0:\n",
    "#         print('rm %0.4f' % (data_all[k].isna().sum() / data_all.shape[0]), k)\n",
    "        data_all.drop(columns=[k], inplace=True)\n",
    "\n",
    "gross_booking_scaler = preprocessing.RobustScaler(copy=False)\n",
    "\n",
    "# set aside some labelled data for testing (based on srch_id)\n",
    "ids = data_all.srch_id.unique()\n",
    "ids_train, ids_test = train_test_split(ids, test_size=0.5, random_state=123)\n",
    "k = 'gross_bookings_usd'\n",
    "data_all.loc[ids_train, k] = gross_booking_scaler.fit_transform(data_all.loc[ids_train, [k]])\n",
    "data_all.loc[ids_test, k] = gross_booking_scaler.transform(data_all.loc[ids_test, [k]])\n",
    "# add noise to reduce dependency on this attr\n",
    "data_all.loc[ids_train, k] += np.random.normal(loc=0, scale=0.01, size=ids_train.size)\n",
    "\n",
    "data = data_all[data_all.srch_id.isin(ids_train)]\n",
    "data_test = data_all[data_all.srch_id.isin(ids_test)]\n",
    "\n",
    "# split cross validation folds\n",
    "folds = util.data.cv_folds_for_sklearn(data, n_cv_folds=5, resampling_ratio=0)\n",
    "\n",
    "# Use the full (pre-splitted) dataset because we use custom indices\n",
    "# x_train, y_train will depend on the folds\n",
    "x, y = util.data.split_xy(data_all)\n",
    "\n",
    "x_test, y_test = util.data.split_xy(data_test)"
   ]
  },
  {
   "cell_type": "code",
   "execution_count": 15,
   "metadata": {},
   "outputs": [
    {
     "name": "stdout",
     "output_type": "stream",
     "text": [
      "\n",
      "# GBoost reg\t (score: neg_mean_squared_error)\n",
      "\tBest params (train) {'learning_rate': 0.1, 'max_depth': 2, 'n_estimators': 100}\n",
      "\u001b[32m\tmse: 0.4282\u001b[0m\n",
      "\u001b[34m\tndcg: 0.4022\u001b[0m\n",
      "\n",
      "# GBoost ndcg\t (score: neg_mean_squared_error)\n",
      "\tBest params (train) {'learning_rate': 0.2, 'max_depth': 1, 'n_estimators': 500}\n",
      "\u001b[32m\tmse: 0.7070\u001b[0m\n",
      "\u001b[34m\tndcg: 0.4022\u001b[0m\n",
      "done\n"
     ]
    }
   ],
   "source": [
    "kwargs = {'random_state': 1234}\n",
    "models = {}\n",
    "params = {}\n",
    "models['GBoost reg'] = xgb.XGBRegressor(criterion='friedman_mse', loss='ls', base_score=0, tol=1e-4, n_jobs=2, **kwargs)\n",
    "models['GBoost ndcg'] = xgb.XGBRegressor(objective='rank:ndcg', criterion='friedman_mse', \n",
    "                                         loss='ls', base_score=0, tol=1e-4, n_jobs=2, **kwargs)\n",
    "params['GBoost reg'] = {'n_estimators': [100, 500, 1000],\n",
    "                    'learning_rate': [0.2, 0.1, 0.01, 0.001],\n",
    "                    'max_depth': [1,2,3,4]\n",
    "                   }\n",
    "params['GBoost ndcg'] = params['GBoost reg']\n",
    "# models['Ensemble Random Forest'] = sklearn.ensemble.RandomForestClassifier(n_jobs=2)\n",
    "# params['Ensemble Random Forest'] = {'n_estimators': [100]}\n",
    "# models['AdaBoost'] = sklearn.ensemble.AdaBoostRegressor()\n",
    "# params['AdaBoost'] = {'learning_rate':[0.2, 0.1, 0.01],\n",
    "#                      'n_estimators': [50, 100, 500],\n",
    "#                       'loss': ['linear', 'square']\n",
    "#                      }\n",
    "\n",
    "scores = ['neg_mean_squared_error'] # TODO add ndcg here\n",
    "for k, model in models.items():\n",
    "    for score in scores:\n",
    "        print(\"\\n# %s\\t (score: %s)\" % (k, score))\n",
    "        assert k in params.keys(), 'models and params should have the same keys'\n",
    "        clf = sklearn.model_selection.GridSearchCV(model, params[k], cv=folds, scoring=score, iid=True, n_jobs=2)\n",
    "        clf.fit(x, y) # cv/folds is used to select folds\n",
    "        print(\"\\tBest params (train)\", clf.best_params_)\n",
    "        y_true, y_pred = y_test, clf.predict(x_test)\n",
    "        mse =  sklearn.metrics.mean_squared_error(y_true, y_pred)\n",
    "        print(colored('\\tmse: %0.4f' % mse, 'green'))\n",
    "        ndcg = util.ndcg.ndcg(x_test, y_test, y_pred)\n",
    "        print(colored('\\tndcg: %0.4f' % ndcg, 'blue'))\n",
    "\n",
    "print('done')"
   ]
  },
  {
   "cell_type": "code",
   "execution_count": null,
   "metadata": {},
   "outputs": [],
   "source": []
  },
  {
   "cell_type": "code",
   "execution_count": 33,
   "metadata": {},
   "outputs": [],
   "source": [
    "# data_all_clusters = pd.read_csv('data/clustering_data_train.csv', sep=';')\n",
    "# data_all_clusters"
   ]
  }
 ],
 "metadata": {
  "kernelspec": {
   "display_name": "Python 3",
   "language": "python",
   "name": "python3"
  },
  "language_info": {
   "codemirror_mode": {
    "name": "ipython",
    "version": 3
   },
   "file_extension": ".py",
   "mimetype": "text/x-python",
   "name": "python",
   "nbconvert_exporter": "python",
   "pygments_lexer": "ipython3",
   "version": "3.6.8"
  }
 },
 "nbformat": 4,
 "nbformat_minor": 2
}
