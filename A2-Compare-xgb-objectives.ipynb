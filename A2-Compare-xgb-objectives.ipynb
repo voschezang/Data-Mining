{
 "cells": [
  {
   "cell_type": "code",
   "execution_count": 1,
   "metadata": {},
   "outputs": [],
   "source": [
    "import numpy as np\n",
    "seed = 123\n",
    "np.random.seed(seed)\n",
    "import collections\n",
    "from importlib import reload\n",
    "import pandas as pd\n",
    "import sklearn\n",
    "from termcolor import colored # if error: pip3 install termcolor; conda install termcolor "
   ]
  },
  {
   "cell_type": "code",
   "execution_count": 2,
   "metadata": {},
   "outputs": [],
   "source": [
    "import xgboost as xgb\n",
    "from sklearn.model_selection import cross_val_score\n",
    "from sklearn.model_selection import train_test_split\n",
    "import sklearn.metrics\n",
    "\n",
    "from sklearn import preprocessing\n",
    "from sklearn.preprocessing import OneHotEncoder\n",
    "import sklearn.ensemble"
   ]
  },
  {
   "cell_type": "code",
   "execution_count": 3,
   "metadata": {},
   "outputs": [],
   "source": [
    "import util.data\n",
    "import util.model\n",
    "import util.ndcg"
   ]
  },
  {
   "cell_type": "markdown",
   "metadata": {},
   "source": [
    "# 1) Use all features"
   ]
  },
  {
   "cell_type": "code",
   "execution_count": 4,
   "metadata": {},
   "outputs": [],
   "source": [
    "# TODO nrows\n",
    "data_all = pd.read_csv('data/training_set_VU_DM_clean.csv', sep=';', nrows=10*1000)\n",
    "# data_all = pd.read_csv('data/training_set_VU_DM_clean.csv', sep=';', nrows=500*1000)\n",
    "# data_all = pd.read_csv('data/training_set_VU_DM_clean.csv', sep=';')\n",
    "\n",
    "data_test_unlabelled = pd.read_csv('data/test_set_VU_DM_clean.csv', sep=';', nrows=1000)"
   ]
  },
  {
   "cell_type": "code",
   "execution_count": 5,
   "metadata": {},
   "outputs": [],
   "source": [
    "for k in data_all.columns:\n",
    "    if data_all[k].isna().sum() > 0:\n",
    "#         print('rm %0.4f' % (data_all[k].isna().sum() / data_all.shape[0]), k)\n",
    "        data_all.drop(columns=[k], inplace=True)\n",
    "\n",
    "gross_booking_scaler = preprocessing.RobustScaler(copy=False)\n",
    "\n",
    "# set aside some labelled data for testing (based on srch_id)\n",
    "ids = data_all.srch_id.unique()\n",
    "ids_train, ids_test = train_test_split(ids, test_size=0.5, random_state=123)\n",
    "data = data_all[data_all.srch_id.isin(ids_train)]\n",
    "data_test = data_all[data_all.srch_id.isin(ids_test)]\n",
    "\n",
    "k = 'gross_bookings_usd'\n",
    "data_all.loc[data.index, k] = gross_booking_scaler.fit_transform(data[[k]].values)\n",
    "data_all.loc[data_test.index, k] = gross_booking_scaler.transform(data_test[[k]].values)\n",
    "# add noise to reduce dependency on this attr\n",
    "data_all.loc[data.index, k] += np.random.normal(loc=0, scale=0.01, size=data[k].size)\n",
    "\n",
    "# split cross validation folds\n",
    "folds = util.data.cv_folds_for_sklearn(data, n_cv_folds=5, resampling_ratio=0)\n",
    "\n",
    "# Use the full (pre-splitted) dataset because we use custom indices\n",
    "# x_train, y_train will depend on the folds\n",
    "x, y = util.data.split_xy(data_all)\n",
    "\n",
    "x_test, y_test = util.data.split_xy(data_test)"
   ]
  },
  {
   "cell_type": "code",
   "execution_count": 6,
   "metadata": {},
   "outputs": [
    {
     "data": {
      "text/plain": [
       "((4884, 85), (5116, 85), 412)"
      ]
     },
     "execution_count": 6,
     "metadata": {},
     "output_type": "execute_result"
    }
   ],
   "source": [
    "data.shape, data_test.shape, ids.size # 20086"
   ]
  },
  {
   "cell_type": "code",
   "execution_count": 8,
   "metadata": {},
   "outputs": [
    {
     "name": "stdout",
     "output_type": "stream",
     "text": [
      "shape (10000, 85)\n",
      "\n",
      "# GBoost reg\t (score: neg_mean_squared_error)\n",
      "\tBest params (train) {'learning_rate': 0.01, 'max_depth': 2, 'n_estimators': 500}\n",
      "\u001b[32m\tmse (^2): 0.9041 (4.5203)\u001b[0m\n",
      "0.97659487 1.2980322\n",
      "\n",
      "# GBoost ndcg\t (score: neg_mean_squared_error)\n"
     ]
    },
    {
     "ename": "KeyboardInterrupt",
     "evalue": "",
     "output_type": "error",
     "traceback": [
      "\u001b[0;31m---------------------------------------------------------------------------\u001b[0m",
      "\u001b[0;31mKeyboardInterrupt\u001b[0m                         Traceback (most recent call last)",
      "\u001b[0;32m<ipython-input-8-ec4bb65ba9ee>\u001b[0m in \u001b[0;36m<module>\u001b[0;34m()\u001b[0m\n\u001b[1;32m     40\u001b[0m         \u001b[0mclf\u001b[0m \u001b[0;34m=\u001b[0m \u001b[0msklearn\u001b[0m\u001b[0;34m.\u001b[0m\u001b[0mmodel_selection\u001b[0m\u001b[0;34m.\u001b[0m\u001b[0mGridSearchCV\u001b[0m\u001b[0;34m(\u001b[0m\u001b[0mmodel\u001b[0m\u001b[0;34m,\u001b[0m \u001b[0mparams\u001b[0m\u001b[0;34m[\u001b[0m\u001b[0mk\u001b[0m\u001b[0;34m]\u001b[0m\u001b[0;34m,\u001b[0m \u001b[0mcv\u001b[0m\u001b[0;34m=\u001b[0m\u001b[0mfolds\u001b[0m\u001b[0;34m,\u001b[0m \u001b[0mscoring\u001b[0m\u001b[0;34m=\u001b[0m\u001b[0mscore\u001b[0m\u001b[0;34m,\u001b[0m \u001b[0miid\u001b[0m\u001b[0;34m=\u001b[0m\u001b[0;32mTrue\u001b[0m\u001b[0;34m,\u001b[0m \u001b[0mn_jobs\u001b[0m\u001b[0;34m=\u001b[0m\u001b[0;36m2\u001b[0m\u001b[0;34m)\u001b[0m\u001b[0;34m\u001b[0m\u001b[0;34m\u001b[0m\u001b[0m\n\u001b[1;32m     41\u001b[0m         \u001b[0ms\u001b[0m \u001b[0;34m=\u001b[0m \u001b[0;36m5.\u001b[0m \u001b[0;31m# scalar for score\u001b[0m\u001b[0;34m\u001b[0m\u001b[0;34m\u001b[0m\u001b[0m\n\u001b[0;32m---> 42\u001b[0;31m         \u001b[0mclf\u001b[0m\u001b[0;34m.\u001b[0m\u001b[0mfit\u001b[0m\u001b[0;34m(\u001b[0m\u001b[0mx\u001b[0m\u001b[0;34m,\u001b[0m \u001b[0my\u001b[0m\u001b[0;34m/\u001b[0m\u001b[0ms\u001b[0m\u001b[0;34m)\u001b[0m \u001b[0;31m# cv/folds is used to select folds\u001b[0m\u001b[0;34m\u001b[0m\u001b[0;34m\u001b[0m\u001b[0m\n\u001b[0m\u001b[1;32m     43\u001b[0m         \u001b[0mprint\u001b[0m\u001b[0;34m(\u001b[0m\u001b[0;34m\"\\tBest params (train)\"\u001b[0m\u001b[0;34m,\u001b[0m \u001b[0mclf\u001b[0m\u001b[0;34m.\u001b[0m\u001b[0mbest_params_\u001b[0m\u001b[0;34m)\u001b[0m\u001b[0;34m\u001b[0m\u001b[0;34m\u001b[0m\u001b[0m\n\u001b[1;32m     44\u001b[0m         \u001b[0my_true\u001b[0m\u001b[0;34m,\u001b[0m \u001b[0my_pred\u001b[0m \u001b[0;34m=\u001b[0m \u001b[0my_test\u001b[0m\u001b[0;34m/\u001b[0m\u001b[0ms\u001b[0m\u001b[0;34m,\u001b[0m \u001b[0mclf\u001b[0m\u001b[0;34m.\u001b[0m\u001b[0mpredict\u001b[0m\u001b[0;34m(\u001b[0m\u001b[0mx_test\u001b[0m\u001b[0;34m)\u001b[0m\u001b[0;34m\u001b[0m\u001b[0;34m\u001b[0m\u001b[0m\n",
      "\u001b[0;32m~/miniconda3/lib/python3.6/site-packages/sklearn/model_selection/_search.py\u001b[0m in \u001b[0;36mfit\u001b[0;34m(self, X, y, groups, **fit_params)\u001b[0m\n\u001b[1;32m    720\u001b[0m                 \u001b[0;32mreturn\u001b[0m \u001b[0mresults_container\u001b[0m\u001b[0;34m[\u001b[0m\u001b[0;36m0\u001b[0m\u001b[0;34m]\u001b[0m\u001b[0;34m\u001b[0m\u001b[0;34m\u001b[0m\u001b[0m\n\u001b[1;32m    721\u001b[0m \u001b[0;34m\u001b[0m\u001b[0m\n\u001b[0;32m--> 722\u001b[0;31m             \u001b[0mself\u001b[0m\u001b[0;34m.\u001b[0m\u001b[0m_run_search\u001b[0m\u001b[0;34m(\u001b[0m\u001b[0mevaluate_candidates\u001b[0m\u001b[0;34m)\u001b[0m\u001b[0;34m\u001b[0m\u001b[0;34m\u001b[0m\u001b[0m\n\u001b[0m\u001b[1;32m    723\u001b[0m \u001b[0;34m\u001b[0m\u001b[0m\n\u001b[1;32m    724\u001b[0m         \u001b[0mresults\u001b[0m \u001b[0;34m=\u001b[0m \u001b[0mresults_container\u001b[0m\u001b[0;34m[\u001b[0m\u001b[0;36m0\u001b[0m\u001b[0;34m]\u001b[0m\u001b[0;34m\u001b[0m\u001b[0;34m\u001b[0m\u001b[0m\n",
      "\u001b[0;32m~/miniconda3/lib/python3.6/site-packages/sklearn/model_selection/_search.py\u001b[0m in \u001b[0;36m_run_search\u001b[0;34m(self, evaluate_candidates)\u001b[0m\n\u001b[1;32m   1189\u001b[0m     \u001b[0;32mdef\u001b[0m \u001b[0m_run_search\u001b[0m\u001b[0;34m(\u001b[0m\u001b[0mself\u001b[0m\u001b[0;34m,\u001b[0m \u001b[0mevaluate_candidates\u001b[0m\u001b[0;34m)\u001b[0m\u001b[0;34m:\u001b[0m\u001b[0;34m\u001b[0m\u001b[0;34m\u001b[0m\u001b[0m\n\u001b[1;32m   1190\u001b[0m         \u001b[0;34m\"\"\"Search all candidates in param_grid\"\"\"\u001b[0m\u001b[0;34m\u001b[0m\u001b[0;34m\u001b[0m\u001b[0m\n\u001b[0;32m-> 1191\u001b[0;31m         \u001b[0mevaluate_candidates\u001b[0m\u001b[0;34m(\u001b[0m\u001b[0mParameterGrid\u001b[0m\u001b[0;34m(\u001b[0m\u001b[0mself\u001b[0m\u001b[0;34m.\u001b[0m\u001b[0mparam_grid\u001b[0m\u001b[0;34m)\u001b[0m\u001b[0;34m)\u001b[0m\u001b[0;34m\u001b[0m\u001b[0;34m\u001b[0m\u001b[0m\n\u001b[0m\u001b[1;32m   1192\u001b[0m \u001b[0;34m\u001b[0m\u001b[0m\n\u001b[1;32m   1193\u001b[0m \u001b[0;34m\u001b[0m\u001b[0m\n",
      "\u001b[0;32m~/miniconda3/lib/python3.6/site-packages/sklearn/model_selection/_search.py\u001b[0m in \u001b[0;36mevaluate_candidates\u001b[0;34m(candidate_params)\u001b[0m\n\u001b[1;32m    709\u001b[0m                                \u001b[0;32mfor\u001b[0m \u001b[0mparameters\u001b[0m\u001b[0;34m,\u001b[0m \u001b[0;34m(\u001b[0m\u001b[0mtrain\u001b[0m\u001b[0;34m,\u001b[0m \u001b[0mtest\u001b[0m\u001b[0;34m)\u001b[0m\u001b[0;34m\u001b[0m\u001b[0;34m\u001b[0m\u001b[0m\n\u001b[1;32m    710\u001b[0m                                in product(candidate_params,\n\u001b[0;32m--> 711\u001b[0;31m                                           cv.split(X, y, groups)))\n\u001b[0m\u001b[1;32m    712\u001b[0m \u001b[0;34m\u001b[0m\u001b[0m\n\u001b[1;32m    713\u001b[0m                 \u001b[0mall_candidate_params\u001b[0m\u001b[0;34m.\u001b[0m\u001b[0mextend\u001b[0m\u001b[0;34m(\u001b[0m\u001b[0mcandidate_params\u001b[0m\u001b[0;34m)\u001b[0m\u001b[0;34m\u001b[0m\u001b[0;34m\u001b[0m\u001b[0m\n",
      "\u001b[0;32m~/miniconda3/lib/python3.6/site-packages/sklearn/externals/joblib/parallel.py\u001b[0m in \u001b[0;36m__call__\u001b[0;34m(self, iterable)\u001b[0m\n\u001b[1;32m    928\u001b[0m \u001b[0;34m\u001b[0m\u001b[0m\n\u001b[1;32m    929\u001b[0m             \u001b[0;32mwith\u001b[0m \u001b[0mself\u001b[0m\u001b[0;34m.\u001b[0m\u001b[0m_backend\u001b[0m\u001b[0;34m.\u001b[0m\u001b[0mretrieval_context\u001b[0m\u001b[0;34m(\u001b[0m\u001b[0;34m)\u001b[0m\u001b[0;34m:\u001b[0m\u001b[0;34m\u001b[0m\u001b[0;34m\u001b[0m\u001b[0m\n\u001b[0;32m--> 930\u001b[0;31m                 \u001b[0mself\u001b[0m\u001b[0;34m.\u001b[0m\u001b[0mretrieve\u001b[0m\u001b[0;34m(\u001b[0m\u001b[0;34m)\u001b[0m\u001b[0;34m\u001b[0m\u001b[0;34m\u001b[0m\u001b[0m\n\u001b[0m\u001b[1;32m    931\u001b[0m             \u001b[0;31m# Make sure that we get a last message telling us we are done\u001b[0m\u001b[0;34m\u001b[0m\u001b[0;34m\u001b[0m\u001b[0;34m\u001b[0m\u001b[0m\n\u001b[1;32m    932\u001b[0m             \u001b[0melapsed_time\u001b[0m \u001b[0;34m=\u001b[0m \u001b[0mtime\u001b[0m\u001b[0;34m.\u001b[0m\u001b[0mtime\u001b[0m\u001b[0;34m(\u001b[0m\u001b[0;34m)\u001b[0m \u001b[0;34m-\u001b[0m \u001b[0mself\u001b[0m\u001b[0;34m.\u001b[0m\u001b[0m_start_time\u001b[0m\u001b[0;34m\u001b[0m\u001b[0;34m\u001b[0m\u001b[0m\n",
      "\u001b[0;32m~/miniconda3/lib/python3.6/site-packages/sklearn/externals/joblib/parallel.py\u001b[0m in \u001b[0;36mretrieve\u001b[0;34m(self)\u001b[0m\n\u001b[1;32m    831\u001b[0m             \u001b[0;32mtry\u001b[0m\u001b[0;34m:\u001b[0m\u001b[0;34m\u001b[0m\u001b[0;34m\u001b[0m\u001b[0m\n\u001b[1;32m    832\u001b[0m                 \u001b[0;32mif\u001b[0m \u001b[0mgetattr\u001b[0m\u001b[0;34m(\u001b[0m\u001b[0mself\u001b[0m\u001b[0;34m.\u001b[0m\u001b[0m_backend\u001b[0m\u001b[0;34m,\u001b[0m \u001b[0;34m'supports_timeout'\u001b[0m\u001b[0;34m,\u001b[0m \u001b[0;32mFalse\u001b[0m\u001b[0;34m)\u001b[0m\u001b[0;34m:\u001b[0m\u001b[0;34m\u001b[0m\u001b[0;34m\u001b[0m\u001b[0m\n\u001b[0;32m--> 833\u001b[0;31m                     \u001b[0mself\u001b[0m\u001b[0;34m.\u001b[0m\u001b[0m_output\u001b[0m\u001b[0;34m.\u001b[0m\u001b[0mextend\u001b[0m\u001b[0;34m(\u001b[0m\u001b[0mjob\u001b[0m\u001b[0;34m.\u001b[0m\u001b[0mget\u001b[0m\u001b[0;34m(\u001b[0m\u001b[0mtimeout\u001b[0m\u001b[0;34m=\u001b[0m\u001b[0mself\u001b[0m\u001b[0;34m.\u001b[0m\u001b[0mtimeout\u001b[0m\u001b[0;34m)\u001b[0m\u001b[0;34m)\u001b[0m\u001b[0;34m\u001b[0m\u001b[0;34m\u001b[0m\u001b[0m\n\u001b[0m\u001b[1;32m    834\u001b[0m                 \u001b[0;32melse\u001b[0m\u001b[0;34m:\u001b[0m\u001b[0;34m\u001b[0m\u001b[0;34m\u001b[0m\u001b[0m\n\u001b[1;32m    835\u001b[0m                     \u001b[0mself\u001b[0m\u001b[0;34m.\u001b[0m\u001b[0m_output\u001b[0m\u001b[0;34m.\u001b[0m\u001b[0mextend\u001b[0m\u001b[0;34m(\u001b[0m\u001b[0mjob\u001b[0m\u001b[0;34m.\u001b[0m\u001b[0mget\u001b[0m\u001b[0;34m(\u001b[0m\u001b[0;34m)\u001b[0m\u001b[0;34m)\u001b[0m\u001b[0;34m\u001b[0m\u001b[0;34m\u001b[0m\u001b[0m\n",
      "\u001b[0;32m~/miniconda3/lib/python3.6/site-packages/sklearn/externals/joblib/_parallel_backends.py\u001b[0m in \u001b[0;36mwrap_future_result\u001b[0;34m(future, timeout)\u001b[0m\n\u001b[1;32m    519\u001b[0m         AsyncResults.get from multiprocessing.\"\"\"\n\u001b[1;32m    520\u001b[0m         \u001b[0;32mtry\u001b[0m\u001b[0;34m:\u001b[0m\u001b[0;34m\u001b[0m\u001b[0;34m\u001b[0m\u001b[0m\n\u001b[0;32m--> 521\u001b[0;31m             \u001b[0;32mreturn\u001b[0m \u001b[0mfuture\u001b[0m\u001b[0;34m.\u001b[0m\u001b[0mresult\u001b[0m\u001b[0;34m(\u001b[0m\u001b[0mtimeout\u001b[0m\u001b[0;34m=\u001b[0m\u001b[0mtimeout\u001b[0m\u001b[0;34m)\u001b[0m\u001b[0;34m\u001b[0m\u001b[0;34m\u001b[0m\u001b[0m\n\u001b[0m\u001b[1;32m    522\u001b[0m         \u001b[0;32mexcept\u001b[0m \u001b[0mLokyTimeoutError\u001b[0m\u001b[0;34m:\u001b[0m\u001b[0;34m\u001b[0m\u001b[0;34m\u001b[0m\u001b[0m\n\u001b[1;32m    523\u001b[0m             \u001b[0;32mraise\u001b[0m \u001b[0mTimeoutError\u001b[0m\u001b[0;34m(\u001b[0m\u001b[0;34m)\u001b[0m\u001b[0;34m\u001b[0m\u001b[0;34m\u001b[0m\u001b[0m\n",
      "\u001b[0;32m~/miniconda3/lib/python3.6/concurrent/futures/_base.py\u001b[0m in \u001b[0;36mresult\u001b[0;34m(self, timeout)\u001b[0m\n\u001b[1;32m    425\u001b[0m                 \u001b[0;32mreturn\u001b[0m \u001b[0mself\u001b[0m\u001b[0;34m.\u001b[0m\u001b[0m__get_result\u001b[0m\u001b[0;34m(\u001b[0m\u001b[0;34m)\u001b[0m\u001b[0;34m\u001b[0m\u001b[0;34m\u001b[0m\u001b[0m\n\u001b[1;32m    426\u001b[0m \u001b[0;34m\u001b[0m\u001b[0m\n\u001b[0;32m--> 427\u001b[0;31m             \u001b[0mself\u001b[0m\u001b[0;34m.\u001b[0m\u001b[0m_condition\u001b[0m\u001b[0;34m.\u001b[0m\u001b[0mwait\u001b[0m\u001b[0;34m(\u001b[0m\u001b[0mtimeout\u001b[0m\u001b[0;34m)\u001b[0m\u001b[0;34m\u001b[0m\u001b[0;34m\u001b[0m\u001b[0m\n\u001b[0m\u001b[1;32m    428\u001b[0m \u001b[0;34m\u001b[0m\u001b[0m\n\u001b[1;32m    429\u001b[0m             \u001b[0;32mif\u001b[0m \u001b[0mself\u001b[0m\u001b[0;34m.\u001b[0m\u001b[0m_state\u001b[0m \u001b[0;32min\u001b[0m \u001b[0;34m[\u001b[0m\u001b[0mCANCELLED\u001b[0m\u001b[0;34m,\u001b[0m \u001b[0mCANCELLED_AND_NOTIFIED\u001b[0m\u001b[0;34m]\u001b[0m\u001b[0;34m:\u001b[0m\u001b[0;34m\u001b[0m\u001b[0;34m\u001b[0m\u001b[0m\n",
      "\u001b[0;32m~/miniconda3/lib/python3.6/threading.py\u001b[0m in \u001b[0;36mwait\u001b[0;34m(self, timeout)\u001b[0m\n\u001b[1;32m    293\u001b[0m         \u001b[0;32mtry\u001b[0m\u001b[0;34m:\u001b[0m    \u001b[0;31m# restore state no matter what (e.g., KeyboardInterrupt)\u001b[0m\u001b[0;34m\u001b[0m\u001b[0;34m\u001b[0m\u001b[0m\n\u001b[1;32m    294\u001b[0m             \u001b[0;32mif\u001b[0m \u001b[0mtimeout\u001b[0m \u001b[0;32mis\u001b[0m \u001b[0;32mNone\u001b[0m\u001b[0;34m:\u001b[0m\u001b[0;34m\u001b[0m\u001b[0;34m\u001b[0m\u001b[0m\n\u001b[0;32m--> 295\u001b[0;31m                 \u001b[0mwaiter\u001b[0m\u001b[0;34m.\u001b[0m\u001b[0macquire\u001b[0m\u001b[0;34m(\u001b[0m\u001b[0;34m)\u001b[0m\u001b[0;34m\u001b[0m\u001b[0;34m\u001b[0m\u001b[0m\n\u001b[0m\u001b[1;32m    296\u001b[0m                 \u001b[0mgotit\u001b[0m \u001b[0;34m=\u001b[0m \u001b[0;32mTrue\u001b[0m\u001b[0;34m\u001b[0m\u001b[0;34m\u001b[0m\u001b[0m\n\u001b[1;32m    297\u001b[0m             \u001b[0;32melse\u001b[0m\u001b[0;34m:\u001b[0m\u001b[0;34m\u001b[0m\u001b[0;34m\u001b[0m\u001b[0m\n",
      "\u001b[0;31mKeyboardInterrupt\u001b[0m: "
     ]
    }
   ],
   "source": [
    "# TODO\n",
    "# https://scikit-learn.org/stable/modules/generated/sklearn.model_selection.RandomizedSearchCV.html#sklearn.model_selection.RandomizedSearchCV\n",
    "    \n",
    "kwargs = {'random_state': 1234}\n",
    "models = {}\n",
    "params = {}\n",
    "models['GBoost reg'] = xgb.XGBRegressor(criterion='friedman_mse', loss='ls', base_score=0, tol=1e-4, n_jobs=2, **kwargs)\n",
    "models['GBoost ndcg'] = xgb.XGBRegressor(objective='rank:ndcg', criterion='friedman_mse', \n",
    "                                         loss='ls', base_score=0, tol=1e-4, n_jobs=2, **kwargs)\n",
    "params['GBoost ndcg'] = {'n_estimators': [100, 1000],\n",
    "                    'learning_rate': [0.01, 0.001],\n",
    "                    'max_depth': [1,4]\n",
    "                   }\n",
    "params['GBoost reg'] = params['GBoost ndcg']\n",
    "models['Ensemble Random Forest'] = sklearn.ensemble.RandomForestClassifier(n_jobs=2)\n",
    "params['Ensemble Random Forest'] = {'n_estimators': [1000]}\n",
    "models['AdaBoost'] = sklearn.ensemble.AdaBoostRegressor()\n",
    "params['AdaBoost'] = {'learning_rate':[0.1],\n",
    "                     'n_estimators': [50, 100],\n",
    "                      'loss': ['linear']\n",
    "                     }\n",
    "\n",
    "\n",
    "# models['new'] = xgb.XGBRegressor(criterion='friedman_mse', \n",
    "#                           learning_rate=0.001, max_depth=4,\n",
    "#                         loss='ls', base_score=0, tol=1e-4, n_jobs=4, **kwargs)\n",
    "# params['new'] = {'n_estimators': [1000]}\n",
    "\n",
    "\n",
    "scores = ['neg_mean_squared_error'] # TODO add ndcg here\n",
    "print('shape', data_all.shape)\n",
    "for k, model in models.items():\n",
    "    for score in scores:\n",
    "        print(\"\\n# %s\\t (score: %s)\" % (k, score))\n",
    "        assert k in params.keys(), 'models and params should have the same keys'\n",
    "        clf = sklearn.model_selection.GridSearchCV(model, params[k], cv=folds, scoring=score, iid=True, n_jobs=2)\n",
    "        s = 5. # scalar for score\n",
    "        clf.fit(x, y/s) # cv/folds is used to select folds\n",
    "        print(\"\\tBest params (train)\", clf.best_params_)\n",
    "        y_true, y_pred = y_test/s, clf.predict(x_test)\n",
    "        mse =  sklearn.metrics.mean_squared_error(y_true, y_pred)\n",
    "        print(colored('\\tmse (^2): %0.4f (%0.4f)' % (mse, mse*s), 'green'))\n",
    "#         ndcg = util.ndcg.ndcg(x_test, y_test, y_pred)\n",
    "#         print(colored('\\tndcg: %0.4f' % ndcg, 'blue'))\n",
    "        print(np.median(y_pred), np.max(y_pred))\n",
    "\n",
    "print('done')"
   ]
  },
  {
   "cell_type": "markdown",
   "metadata": {},
   "source": [
    "# 2) Use a subset of features"
   ]
  },
  {
   "cell_type": "code",
   "execution_count": 11,
   "metadata": {},
   "outputs": [],
   "source": [
    "# TODO nrows\n",
    "data_all = pd.read_csv('data/training_set_VU_DM_clean.csv', sep=';', nrows=1000*1000)\n",
    "# data_all = pd.read_csv('data/training_set_VU_DM_clean.csv', sep=';')\n",
    "\n",
    "data_test_unlabelled = pd.read_csv('data/test_set_VU_DM_clean.csv', sep=';', nrows=1000)"
   ]
  },
  {
   "cell_type": "code",
   "execution_count": 12,
   "metadata": {},
   "outputs": [
    {
     "data": {
      "text/plain": [
       "['srch_id',\n",
       " 'visitor_hist_starrating',\n",
       " 'prop_id',\n",
       " 'prop_review_score',\n",
       " 'prop_location_score1',\n",
       " 'prop_location_score2',\n",
       " 'promotion_flag',\n",
       " 'srch_length_of_stay',\n",
       " 'srch_query_affinity_score',\n",
       " 'orig_destination_distance',\n",
       " 'click_bool',\n",
       " 'gross_bookings_usd',\n",
       " 'booking_bool',\n",
       " 'srch_person_per_room_score',\n",
       " 'srch_adults_per_room_score',\n",
       " 'delta_starrating',\n",
       " 'visitor_hist_adr_usd_log',\n",
       " 'price_usd_log',\n",
       " 'unavailable_comp',\n",
       " 'available_comp',\n",
       " 'month',\n",
       " 'score',\n",
       " 'prop_starrating_label0',\n",
       " 'prop_starrating_label1',\n",
       " 'prop_starrating_label2',\n",
       " 'prop_starrating_label3',\n",
       " 'srch_length_of_stay_bin0',\n",
       " 'srch_length_of_stay_bin1',\n",
       " 'srch_length_of_stay_bin2',\n",
       " 'orig_destination_distance_bin0',\n",
       " 'orig_destination_distance_bin1',\n",
       " 'orig_destination_distance_bin2']"
      ]
     },
     "execution_count": 12,
     "metadata": {},
     "output_type": "execute_result"
    }
   ],
   "source": [
    "features = [k for k in data_all.columns if \n",
    "            'score' in k or \n",
    "            'srch_id' in k or \n",
    "            'prop_id' in k or \n",
    "            'booking_bool' in k or\n",
    "            'click_bool' in k or\n",
    "            'unavailable_comp' in k or\n",
    "            'available_comp' in k or\n",
    "            'visitor_hist_starrating' in k or\n",
    "            'delta_starrating' in k or\n",
    "            'visitor_hist_adr_usd_log' in k or\n",
    "            'price_usd_log' in k or\n",
    "            'month' in k or\n",
    "            'starrating' in k or\n",
    "            'promotion' in k or\n",
    "            'srch_length' in k or\n",
    "            'distance' in k or\n",
    "            'gross_booking' in k\n",
    "           ]\n",
    "features"
   ]
  },
  {
   "cell_type": "code",
   "execution_count": 14,
   "metadata": {},
   "outputs": [],
   "source": [
    "for k in data_all.columns:\n",
    "    if data_all[k].isna().sum() > 0:\n",
    "#         print('rm %0.4f' % (data_all[k].isna().sum() / data_all.shape[0]), k)\n",
    "        data_all.drop(columns=[k], inplace=True)\n",
    "\n",
    "gross_booking_scaler = preprocessing.RobustScaler(copy=False)\n",
    "\n",
    "# set aside some labelled data for testing (based on srch_id)\n",
    "ids = data_all.srch_id.unique()\n",
    "ids_train, ids_test = train_test_split(ids, test_size=0.5, random_state=123)\n",
    "data = data_all[data_all.srch_id.isin(ids_train)]\n",
    "data_test = data_all[data_all.srch_id.isin(ids_test)]\n",
    "\n",
    "k = 'gross_bookings_usd'\n",
    "data_all.loc[data.index, k] = gross_booking_scaler.fit_transform(data[[k]].values)\n",
    "data_all.loc[data_test.index, k] = gross_booking_scaler.transform(data_test[[k]].values)\n",
    "# add noise to reduce dependency on this attr\n",
    "data_all.loc[data.index, k] += np.random.normal(loc=0, scale=0.01, size=data[k].size)\n",
    "\n",
    "# split cross validation folds\n",
    "folds = util.data.cv_folds_for_sklearn(data, n_cv_folds=5, resampling_ratio=0)\n",
    "\n",
    "# Use the full (pre-splitted) dataset because we use custom indices\n",
    "# x_train, y_train will depend on the folds\n",
    "x, y = util.data.split_xy(data_all)\n",
    "\n",
    "x_test, y_test = util.data.split_xy(data_test)"
   ]
  },
  {
   "cell_type": "code",
   "execution_count": 15,
   "metadata": {},
   "outputs": [
    {
     "name": "stdout",
     "output_type": "stream",
     "text": [
      "\n",
      "# GBoost reg\t (score: neg_mean_squared_error)\n",
      "\tBest params (train) {'learning_rate': 0.1, 'max_depth': 2, 'n_estimators': 100}\n",
      "\u001b[32m\tmse: 0.4282\u001b[0m\n",
      "\u001b[34m\tndcg: 0.4022\u001b[0m\n",
      "\n",
      "# GBoost ndcg\t (score: neg_mean_squared_error)\n",
      "\tBest params (train) {'learning_rate': 0.2, 'max_depth': 1, 'n_estimators': 500}\n",
      "\u001b[32m\tmse: 0.7070\u001b[0m\n",
      "\u001b[34m\tndcg: 0.4022\u001b[0m\n",
      "done\n"
     ]
    }
   ],
   "source": [
    "kwargs = {'random_state': 1234}\n",
    "models = {}\n",
    "params = {}\n",
    "models['GBoost reg'] = xgb.XGBRegressor(criterion='friedman_mse', loss='ls', base_score=0, tol=1e-4, n_jobs=2, **kwargs)\n",
    "models['GBoost ndcg'] = xgb.XGBRegressor(objective='rank:ndcg', criterion='friedman_mse', \n",
    "                                         loss='ls', base_score=0, tol=1e-4, n_jobs=2, **kwargs)\n",
    "params['GBoost reg'] = {'n_estimators': [100, 500, 1000],\n",
    "                    'learning_rate': [0.2, 0.1, 0.01, 0.001],\n",
    "                    'max_depth': [1,2,3,4]\n",
    "                   }\n",
    "params['GBoost ndcg'] = params['GBoost reg']\n",
    "# models['Ensemble Random Forest'] = sklearn.ensemble.RandomForestClassifier(n_jobs=2)\n",
    "# params['Ensemble Random Forest'] = {'n_estimators': [100]}\n",
    "# models['AdaBoost'] = sklearn.ensemble.AdaBoostRegressor()\n",
    "# params['AdaBoost'] = {'learning_rate':[0.2, 0.1, 0.01],\n",
    "#                      'n_estimators': [50, 100, 500],\n",
    "#                       'loss': ['linear', 'square']\n",
    "#                      }\n",
    "\n",
    "scores = ['neg_mean_squared_error'] # TODO add ndcg here\n",
    "for k, model in models.items():\n",
    "    for score in scores:\n",
    "        print(\"\\n# %s\\t (score: %s)\" % (k, score))\n",
    "        assert k in params.keys(), 'models and params should have the same keys'\n",
    "        clf = sklearn.model_selection.GridSearchCV(model, params[k], cv=folds, scoring=score, iid=True, n_jobs=2)\n",
    "        clf.fit(x, y) # cv/folds is used to select folds\n",
    "        print(\"\\tBest params (train)\", clf.best_params_)\n",
    "        y_true, y_pred = y_test, clf.predict(x_test)\n",
    "        mse =  sklearn.metrics.mean_squared_error(y_true, y_pred)\n",
    "        print(colored('\\tmse: %0.4f' % mse, 'green'))\n",
    "        ndcg = util.ndcg.ndcg(x_test, y_test, y_pred)\n",
    "        print(colored('\\tndcg: %0.4f' % ndcg, 'blue'))\n",
    "\n",
    "print('done')"
   ]
  },
  {
   "cell_type": "code",
   "execution_count": null,
   "metadata": {},
   "outputs": [],
   "source": []
  }
 ],
 "metadata": {
  "kernelspec": {
   "display_name": "Python 3",
   "language": "python",
   "name": "python3"
  },
  "language_info": {
   "codemirror_mode": {
    "name": "ipython",
    "version": 3
   },
   "file_extension": ".py",
   "mimetype": "text/x-python",
   "name": "python",
   "nbconvert_exporter": "python",
   "pygments_lexer": "ipython3",
   "version": "3.6.8"
  }
 },
 "nbformat": 4,
 "nbformat_minor": 2
}
