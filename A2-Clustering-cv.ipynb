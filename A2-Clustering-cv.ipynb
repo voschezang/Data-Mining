{
 "cells": [
  {
   "cell_type": "code",
   "execution_count": 1,
   "metadata": {},
   "outputs": [],
   "source": [
    "import numpy as np\n",
    "seed = 123\n",
    "np.random.seed(seed)\n",
    "import collections\n",
    "from importlib import reload\n",
    "import pandas as pd\n",
    "import sklearn\n",
    "import matplotlib.pyplot as plt"
   ]
  },
  {
   "cell_type": "code",
   "execution_count": 2,
   "metadata": {},
   "outputs": [],
   "source": [
    "from surprise import Reader, Dataset, SVD, NormalPredictor\n",
    "# from surprise import evaluate\n",
    "import surprise.model_selection\n",
    "\n",
    "from sklearn.model_selection import cross_val_score\n",
    "import sklearn.metrics\n",
    "from sklearn import preprocessing\n",
    "from sklearn.model_selection import train_test_split"
   ]
  },
  {
   "cell_type": "code",
   "execution_count": 3,
   "metadata": {},
   "outputs": [],
   "source": [
    "import util.plot\n",
    "import util.data\n",
    "from util import clustering"
   ]
  },
  {
   "cell_type": "code",
   "execution_count": 4,
   "metadata": {},
   "outputs": [],
   "source": [
    "reload(util.plot)\n",
    "reload(util.data);"
   ]
  },
  {
   "cell_type": "code",
   "execution_count": 5,
   "metadata": {
    "scrolled": true
   },
   "outputs": [
    {
     "data": {
      "text/plain": [
       "(100000, 85)"
      ]
     },
     "execution_count": 5,
     "metadata": {},
     "output_type": "execute_result"
    }
   ],
   "source": [
    "data_all = pd.read_csv('data/training_set_VU_DM_clean.csv', sep=';', nrows=100*1000)\n",
    "util.data.rm_na(data_all)\n",
    "data_all.shape"
   ]
  },
  {
   "cell_type": "code",
   "execution_count": 6,
   "metadata": {},
   "outputs": [],
   "source": [
    "data, data_test = util.data.train_test_split(data_all)\n",
    "\n",
    "# split cross validation folds\n",
    "folds = util.data.cv_folds_for_sklearn(data, n_cv_folds=5, resampling_ratio=0.5)"
   ]
  },
  {
   "cell_type": "code",
   "execution_count": 7,
   "metadata": {},
   "outputs": [
    {
     "name": "stdout",
     "output_type": "stream",
     "text": [
      "\textract_data(k: srch_id)\n",
      "\textract_data(k: prop_id)\n",
      "\tKMeans (k: `cluster_id_users_KMeans`)\n",
      "\tFeatureAgglomeration (k: `cluster_id_users_FeatureAgglomeration`)\n",
      "\tAffinityPropagation (k: `cluster_id_users_AffinityPropagation`)\n",
      "\tKMeans (k: `cluster_id_items_KMeans`)\n",
      "\tFeatureAgglomeration (k: `cluster_id_items_FeatureAgglomeration`)\n",
      "\tAffinityPropagation (k: `cluster_id_items_AffinityPropagation`)\n",
      "cluster_id_users_KMeans cluster_id_items_KMeans\n",
      "cluster_id_users_KMeans cluster_id_items_FeatureAgglomeration\n",
      "cluster_id_users_KMeans cluster_id_items_AffinityPropagation\n",
      "cluster_id_users_FeatureAgglomeration cluster_id_items_KMeans\n",
      "cluster_id_users_FeatureAgglomeration cluster_id_items_FeatureAgglomeration\n",
      "cluster_id_users_FeatureAgglomeration cluster_id_items_AffinityPropagation\n",
      "cluster_id_users_AffinityPropagation cluster_id_items_KMeans\n",
      "cluster_id_users_AffinityPropagation cluster_id_items_FeatureAgglomeration\n",
      "cluster_id_users_AffinityPropagation cluster_id_items_AffinityPropagation\n",
      "\textract_data(k: srch_id)\n",
      "\textract_data(k: prop_id)\n",
      "\tKMeans (k: `cluster_id_users_KMeans`)\n",
      "\tFeatureAgglomeration (k: `cluster_id_users_FeatureAgglomeration`)\n",
      "\tAffinityPropagation (k: `cluster_id_users_AffinityPropagation`)\n",
      "\tKMeans (k: `cluster_id_items_KMeans`)\n",
      "\tFeatureAgglomeration (k: `cluster_id_items_FeatureAgglomeration`)\n",
      "\tAffinityPropagation (k: `cluster_id_items_AffinityPropagation`)\n",
      "cluster_id_users_KMeans cluster_id_items_KMeans\n",
      "cluster_id_users_KMeans cluster_id_items_FeatureAgglomeration\n",
      "cluster_id_users_KMeans cluster_id_items_AffinityPropagation\n",
      "cluster_id_users_FeatureAgglomeration cluster_id_items_KMeans\n",
      "cluster_id_users_FeatureAgglomeration cluster_id_items_FeatureAgglomeration\n",
      "cluster_id_users_FeatureAgglomeration cluster_id_items_AffinityPropagation\n",
      "cluster_id_users_AffinityPropagation cluster_id_items_KMeans\n",
      "cluster_id_users_AffinityPropagation cluster_id_items_FeatureAgglomeration\n",
      "cluster_id_users_AffinityPropagation cluster_id_items_AffinityPropagation\n",
      "\textract_data(k: srch_id)\n",
      "\textract_data(k: prop_id)\n",
      "\tKMeans (k: `cluster_id_users_KMeans`)\n",
      "\tFeatureAgglomeration (k: `cluster_id_users_FeatureAgglomeration`)\n",
      "\tAffinityPropagation (k: `cluster_id_users_AffinityPropagation`)\n",
      "\tKMeans (k: `cluster_id_items_KMeans`)\n",
      "\tFeatureAgglomeration (k: `cluster_id_items_FeatureAgglomeration`)\n",
      "\tAffinityPropagation (k: `cluster_id_items_AffinityPropagation`)\n",
      "cluster_id_users_KMeans cluster_id_items_KMeans\n",
      "cluster_id_users_KMeans cluster_id_items_FeatureAgglomeration\n",
      "cluster_id_users_KMeans cluster_id_items_AffinityPropagation\n",
      "cluster_id_users_FeatureAgglomeration cluster_id_items_KMeans\n",
      "cluster_id_users_FeatureAgglomeration cluster_id_items_FeatureAgglomeration\n",
      "cluster_id_users_FeatureAgglomeration cluster_id_items_AffinityPropagation\n",
      "cluster_id_users_AffinityPropagation cluster_id_items_KMeans\n",
      "cluster_id_users_AffinityPropagation cluster_id_items_FeatureAgglomeration\n",
      "cluster_id_users_AffinityPropagation cluster_id_items_AffinityPropagation\n",
      "\textract_data(k: srch_id)\n",
      "\textract_data(k: prop_id)\n",
      "\tKMeans (k: `cluster_id_users_KMeans`)\n",
      "\tFeatureAgglomeration (k: `cluster_id_users_FeatureAgglomeration`)\n",
      "\tAffinityPropagation (k: `cluster_id_users_AffinityPropagation`)\n",
      "\tKMeans (k: `cluster_id_items_KMeans`)\n",
      "\tFeatureAgglomeration (k: `cluster_id_items_FeatureAgglomeration`)\n",
      "\tAffinityPropagation (k: `cluster_id_items_AffinityPropagation`)\n",
      "cluster_id_users_KMeans cluster_id_items_KMeans\n",
      "cluster_id_users_KMeans cluster_id_items_FeatureAgglomeration\n",
      "cluster_id_users_KMeans cluster_id_items_AffinityPropagation\n",
      "cluster_id_users_FeatureAgglomeration cluster_id_items_KMeans\n",
      "cluster_id_users_FeatureAgglomeration cluster_id_items_FeatureAgglomeration\n",
      "cluster_id_users_FeatureAgglomeration cluster_id_items_AffinityPropagation\n",
      "cluster_id_users_AffinityPropagation cluster_id_items_KMeans\n",
      "cluster_id_users_AffinityPropagation cluster_id_items_FeatureAgglomeration\n",
      "cluster_id_users_AffinityPropagation cluster_id_items_AffinityPropagation\n",
      "\textract_data(k: srch_id)\n",
      "\textract_data(k: prop_id)\n",
      "\tKMeans (k: `cluster_id_users_KMeans`)\n",
      "\tFeatureAgglomeration (k: `cluster_id_users_FeatureAgglomeration`)\n",
      "\tAffinityPropagation (k: `cluster_id_users_AffinityPropagation`)\n",
      "\tKMeans (k: `cluster_id_items_KMeans`)\n",
      "\tFeatureAgglomeration (k: `cluster_id_items_FeatureAgglomeration`)\n",
      "\tAffinityPropagation (k: `cluster_id_items_AffinityPropagation`)\n",
      "cluster_id_users_KMeans cluster_id_items_KMeans\n",
      "cluster_id_users_KMeans cluster_id_items_FeatureAgglomeration\n",
      "cluster_id_users_KMeans cluster_id_items_AffinityPropagation\n",
      "cluster_id_users_FeatureAgglomeration cluster_id_items_KMeans\n",
      "cluster_id_users_FeatureAgglomeration cluster_id_items_FeatureAgglomeration\n",
      "cluster_id_users_FeatureAgglomeration cluster_id_items_AffinityPropagation\n",
      "cluster_id_users_AffinityPropagation cluster_id_items_KMeans\n",
      "cluster_id_users_AffinityPropagation cluster_id_items_FeatureAgglomeration\n",
      "cluster_id_users_AffinityPropagation cluster_id_items_AffinityPropagation\n"
     ]
    }
   ],
   "source": [
    "# suppress warning to improve speed\n",
    "pd.options.mode.chained_assignment = None  # default='warn'\n",
    "reload(util.data)\n",
    "reload(util.clustering)\n",
    "# cluster_id_items_KMeans\n",
    "\n",
    "cv_results = collections.defaultdict(list)\n",
    "for i_train, i_test in folds:\n",
    "    # Cluser users & items\n",
    "    keys_search, keys_property, models_user, models_item = clustering.init(data_all)\n",
    "#     clustering.init_df_columns(data_all, models_user, models_item)\n",
    "    xy_train = data_all.loc[i_train]\n",
    "    clustering.fit(xy_train, models_user, keys_search,'srch_id')\n",
    "    clustering.fit(xy_train, models_item, keys_property,'prop_id')\n",
    "    \n",
    "    # predict train+test data\n",
    "    users = clustering.predict(data_all, models_user, keys_search,\n",
    "                 'srch_id', clustering.USER_KEY_PREFIX)\n",
    "    items = clustering.predict(data_all, models_item, keys_property,\n",
    "                 'prop_id', clustering.ITEM_KEY_PREFIX)\n",
    "\n",
    "    for k in users.columns:\n",
    "        util.data.replace_extremely_uncommon(users, k)\n",
    "        data_all.loc[users.index, k] = users[k]\n",
    "    for k in items.columns:\n",
    "        util.data.replace_extremely_uncommon(items, k)\n",
    "        data_all.loc[items.index, k] = items[k]\n",
    "    \n",
    "    assert not items.isna().any().any()\n",
    "    xy_train = data_all.loc[i_train]\n",
    "    xy_test = data_all.loc[i_test]\n",
    "\n",
    "    # train SVD's\n",
    "\n",
    "    # check all combinations (of all user/item models)\n",
    "    for k_user in users.columns:\n",
    "        for k_item in items.columns:\n",
    "            print(k_user, k_item)\n",
    "            assert not data_all[k_user].isna().any()\n",
    "            assert not data_all[k_item].isna().any()\n",
    "            \n",
    "            scores_train = util.data.scores_df(xy_train, k_user, k_item)\n",
    "            scores_test = util.data.scores_df(xy_test, k_user, k_item)\n",
    "\n",
    "            # check minimal occurence\n",
    "            value_counts_user = scores_train.user.value_counts(ascending=True)\n",
    "            value_counts_item = scores_train.item.value_counts(ascending=True)\n",
    "\n",
    "            scores_train_ = Dataset.load_from_df(scores_train, Reader(rating_scale=(0,5)))\n",
    "            model = SVD() # SVDpp NMF\n",
    "            trainset, _ = surprise.model_selection.train_test_split(scores_train_, test_size=0.01, random_state=seed)\n",
    "            model.fit(trainset)\n",
    "            scores_pred = clustering.svd_predict(model, scores_test)\n",
    "\n",
    "            # scores_pred\n",
    "            for i, row in xy_test.iterrows():\n",
    "                score_pred = scores_pred[row[k_user]][row[k_item]]\n",
    "                # add squared error\n",
    "                cv_results[k_user + '-' + k_item].append((score_pred - row['score'])**2)"
   ]
  },
  {
   "cell_type": "code",
   "execution_count": 12,
   "metadata": {},
   "outputs": [
    {
     "name": "stdout",
     "output_type": "stream",
     "text": [
      "mse\n",
      "\t 8.0292 & 10.8475 & cluster_id_users_KMeans-cluster_id_items_KMeans\n",
      "\t 8.4131 & 11.2820 & cluster_id_users_KMeans-cluster_id_items_FeatureAgglomeration\n",
      "\t 7.4563 & 10.1513 & cluster_id_users_KMeans-cluster_id_items_AffinityPropagation\n",
      "\t 7.9674 & 10.7762 & cluster_id_users_FeatureAgglomeration-cluster_id_items_KMeans\n",
      "\t 8.5454 & 11.4277 & cluster_id_users_FeatureAgglomeration-cluster_id_items_FeatureAgglomeration\n",
      "\t 7.9012 & 10.6975 & cluster_id_users_FeatureAgglomeration-cluster_id_items_AffinityPropagation\n",
      "\t 7.1689 & 9.7755 & cluster_id_users_AffinityPropagation-cluster_id_items_KMeans\n",
      "\t 6.6843 & 9.0907 & cluster_id_users_AffinityPropagation-cluster_id_items_FeatureAgglomeration\n",
      "\t 7.3019 & 9.9519 & cluster_id_users_AffinityPropagation-cluster_id_items_AffinityPropagation\n",
      "median\n",
      "\t0.6806 & 10.8475 & cluster_id_users_KMeans-cluster_id_items_KMeans\n",
      "\t0.8821 & 11.2820 & cluster_id_users_KMeans-cluster_id_items_FeatureAgglomeration\n",
      "\t0.4532 & 10.1513 & cluster_id_users_KMeans-cluster_id_items_AffinityPropagation\n",
      "\t0.6297 & 10.7762 & cluster_id_users_FeatureAgglomeration-cluster_id_items_KMeans\n",
      "\t1.0000 & 11.4277 & cluster_id_users_FeatureAgglomeration-cluster_id_items_FeatureAgglomeration\n",
      "\t0.6229 & 10.6975 & cluster_id_users_FeatureAgglomeration-cluster_id_items_AffinityPropagation\n",
      "\t0.3406 & 9.7755 & cluster_id_users_AffinityPropagation-cluster_id_items_KMeans\n",
      "\t0.3300 & 9.0907 & cluster_id_users_AffinityPropagation-cluster_id_items_FeatureAgglomeration\n",
      "\t0.3906 & 9.9519 & cluster_id_users_AffinityPropagation-cluster_id_items_AffinityPropagation\n"
     ]
    }
   ],
   "source": [
    "print('mse')\n",
    "for k, values in cv_results.items():\n",
    "    print('\\t %0.4f & %0.4f & %s' % (np.mean(values), np.std(values), k))\n",
    "\n",
    "print('median')\n",
    "for k, values in cv_results.items():    \n",
    "    print('\\t%0.4f & %0.4f & %s' % (np.median(values), np.std(values), k))"
   ]
  },
  {
   "cell_type": "code",
   "execution_count": null,
   "metadata": {},
   "outputs": [],
   "source": []
  },
  {
   "cell_type": "code",
   "execution_count": 9,
   "metadata": {},
   "outputs": [],
   "source": [
    "# Netflix usage of SVD: predict score for known user\n",
    "# Here: predict similarity group of user"
   ]
  },
  {
   "cell_type": "code",
   "execution_count": null,
   "metadata": {},
   "outputs": [],
   "source": []
  },
  {
   "cell_type": "code",
   "execution_count": null,
   "metadata": {},
   "outputs": [],
   "source": []
  }
 ],
 "metadata": {
  "kernelspec": {
   "display_name": "Python 3",
   "language": "python",
   "name": "python3"
  },
  "language_info": {
   "codemirror_mode": {
    "name": "ipython",
    "version": 3
   },
   "file_extension": ".py",
   "mimetype": "text/x-python",
   "name": "python",
   "nbconvert_exporter": "python",
   "pygments_lexer": "ipython3",
   "version": "3.6.8"
  }
 },
 "nbformat": 4,
 "nbformat_minor": 2
}
